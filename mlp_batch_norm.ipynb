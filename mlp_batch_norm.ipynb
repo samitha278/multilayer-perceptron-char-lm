{
  "nbformat": 4,
  "nbformat_minor": 0,
  "metadata": {
    "colab": {
      "provenance": [],
      "authorship_tag": "ABX9TyOvkydq5Id0o6ecdoyKXb7X",
      "include_colab_link": true
    },
    "kernelspec": {
      "name": "python3",
      "display_name": "Python 3"
    },
    "language_info": {
      "name": "python"
    }
  },
  "cells": [
    {
      "cell_type": "markdown",
      "metadata": {
        "id": "view-in-github",
        "colab_type": "text"
      },
      "source": [
        "<a href=\"https://colab.research.google.com/github/samitha278/multilayer-perceptron-char-lm/blob/main/mlp_batch_norm.ipynb\" target=\"_parent\"><img src=\"https://colab.research.google.com/assets/colab-badge.svg\" alt=\"Open In Colab\"/></a>"
      ]
    },
    {
      "cell_type": "code",
      "execution_count": 22,
      "metadata": {
        "id": "5JYGngOYNJRa"
      },
      "outputs": [],
      "source": [
        "import torch\n",
        "import torch.nn.functional as F\n",
        "import random\n",
        "import matplotlib.pyplot as plt"
      ]
    },
    {
      "cell_type": "code",
      "source": [
        "from google.colab import files\n",
        "\n",
        "uploaded = files.upload()"
      ],
      "metadata": {
        "id": "YZgD5IDUNYsG",
        "colab": {
          "base_uri": "https://localhost:8080/",
          "height": 73
        },
        "outputId": "b4034616-b764-440e-83d6-5b395663f923"
      },
      "execution_count": 23,
      "outputs": [
        {
          "output_type": "display_data",
          "data": {
            "text/plain": [
              "<IPython.core.display.HTML object>"
            ],
            "text/html": [
              "\n",
              "     <input type=\"file\" id=\"files-c4b424e9-0a5f-47c8-8090-9863930c2609\" name=\"files[]\" multiple disabled\n",
              "        style=\"border:none\" />\n",
              "     <output id=\"result-c4b424e9-0a5f-47c8-8090-9863930c2609\">\n",
              "      Upload widget is only available when the cell has been executed in the\n",
              "      current browser session. Please rerun this cell to enable.\n",
              "      </output>\n",
              "      <script>// Copyright 2017 Google LLC\n",
              "//\n",
              "// Licensed under the Apache License, Version 2.0 (the \"License\");\n",
              "// you may not use this file except in compliance with the License.\n",
              "// You may obtain a copy of the License at\n",
              "//\n",
              "//      http://www.apache.org/licenses/LICENSE-2.0\n",
              "//\n",
              "// Unless required by applicable law or agreed to in writing, software\n",
              "// distributed under the License is distributed on an \"AS IS\" BASIS,\n",
              "// WITHOUT WARRANTIES OR CONDITIONS OF ANY KIND, either express or implied.\n",
              "// See the License for the specific language governing permissions and\n",
              "// limitations under the License.\n",
              "\n",
              "/**\n",
              " * @fileoverview Helpers for google.colab Python module.\n",
              " */\n",
              "(function(scope) {\n",
              "function span(text, styleAttributes = {}) {\n",
              "  const element = document.createElement('span');\n",
              "  element.textContent = text;\n",
              "  for (const key of Object.keys(styleAttributes)) {\n",
              "    element.style[key] = styleAttributes[key];\n",
              "  }\n",
              "  return element;\n",
              "}\n",
              "\n",
              "// Max number of bytes which will be uploaded at a time.\n",
              "const MAX_PAYLOAD_SIZE = 100 * 1024;\n",
              "\n",
              "function _uploadFiles(inputId, outputId) {\n",
              "  const steps = uploadFilesStep(inputId, outputId);\n",
              "  const outputElement = document.getElementById(outputId);\n",
              "  // Cache steps on the outputElement to make it available for the next call\n",
              "  // to uploadFilesContinue from Python.\n",
              "  outputElement.steps = steps;\n",
              "\n",
              "  return _uploadFilesContinue(outputId);\n",
              "}\n",
              "\n",
              "// This is roughly an async generator (not supported in the browser yet),\n",
              "// where there are multiple asynchronous steps and the Python side is going\n",
              "// to poll for completion of each step.\n",
              "// This uses a Promise to block the python side on completion of each step,\n",
              "// then passes the result of the previous step as the input to the next step.\n",
              "function _uploadFilesContinue(outputId) {\n",
              "  const outputElement = document.getElementById(outputId);\n",
              "  const steps = outputElement.steps;\n",
              "\n",
              "  const next = steps.next(outputElement.lastPromiseValue);\n",
              "  return Promise.resolve(next.value.promise).then((value) => {\n",
              "    // Cache the last promise value to make it available to the next\n",
              "    // step of the generator.\n",
              "    outputElement.lastPromiseValue = value;\n",
              "    return next.value.response;\n",
              "  });\n",
              "}\n",
              "\n",
              "/**\n",
              " * Generator function which is called between each async step of the upload\n",
              " * process.\n",
              " * @param {string} inputId Element ID of the input file picker element.\n",
              " * @param {string} outputId Element ID of the output display.\n",
              " * @return {!Iterable<!Object>} Iterable of next steps.\n",
              " */\n",
              "function* uploadFilesStep(inputId, outputId) {\n",
              "  const inputElement = document.getElementById(inputId);\n",
              "  inputElement.disabled = false;\n",
              "\n",
              "  const outputElement = document.getElementById(outputId);\n",
              "  outputElement.innerHTML = '';\n",
              "\n",
              "  const pickedPromise = new Promise((resolve) => {\n",
              "    inputElement.addEventListener('change', (e) => {\n",
              "      resolve(e.target.files);\n",
              "    });\n",
              "  });\n",
              "\n",
              "  const cancel = document.createElement('button');\n",
              "  inputElement.parentElement.appendChild(cancel);\n",
              "  cancel.textContent = 'Cancel upload';\n",
              "  const cancelPromise = new Promise((resolve) => {\n",
              "    cancel.onclick = () => {\n",
              "      resolve(null);\n",
              "    };\n",
              "  });\n",
              "\n",
              "  // Wait for the user to pick the files.\n",
              "  const files = yield {\n",
              "    promise: Promise.race([pickedPromise, cancelPromise]),\n",
              "    response: {\n",
              "      action: 'starting',\n",
              "    }\n",
              "  };\n",
              "\n",
              "  cancel.remove();\n",
              "\n",
              "  // Disable the input element since further picks are not allowed.\n",
              "  inputElement.disabled = true;\n",
              "\n",
              "  if (!files) {\n",
              "    return {\n",
              "      response: {\n",
              "        action: 'complete',\n",
              "      }\n",
              "    };\n",
              "  }\n",
              "\n",
              "  for (const file of files) {\n",
              "    const li = document.createElement('li');\n",
              "    li.append(span(file.name, {fontWeight: 'bold'}));\n",
              "    li.append(span(\n",
              "        `(${file.type || 'n/a'}) - ${file.size} bytes, ` +\n",
              "        `last modified: ${\n",
              "            file.lastModifiedDate ? file.lastModifiedDate.toLocaleDateString() :\n",
              "                                    'n/a'} - `));\n",
              "    const percent = span('0% done');\n",
              "    li.appendChild(percent);\n",
              "\n",
              "    outputElement.appendChild(li);\n",
              "\n",
              "    const fileDataPromise = new Promise((resolve) => {\n",
              "      const reader = new FileReader();\n",
              "      reader.onload = (e) => {\n",
              "        resolve(e.target.result);\n",
              "      };\n",
              "      reader.readAsArrayBuffer(file);\n",
              "    });\n",
              "    // Wait for the data to be ready.\n",
              "    let fileData = yield {\n",
              "      promise: fileDataPromise,\n",
              "      response: {\n",
              "        action: 'continue',\n",
              "      }\n",
              "    };\n",
              "\n",
              "    // Use a chunked sending to avoid message size limits. See b/62115660.\n",
              "    let position = 0;\n",
              "    do {\n",
              "      const length = Math.min(fileData.byteLength - position, MAX_PAYLOAD_SIZE);\n",
              "      const chunk = new Uint8Array(fileData, position, length);\n",
              "      position += length;\n",
              "\n",
              "      const base64 = btoa(String.fromCharCode.apply(null, chunk));\n",
              "      yield {\n",
              "        response: {\n",
              "          action: 'append',\n",
              "          file: file.name,\n",
              "          data: base64,\n",
              "        },\n",
              "      };\n",
              "\n",
              "      let percentDone = fileData.byteLength === 0 ?\n",
              "          100 :\n",
              "          Math.round((position / fileData.byteLength) * 100);\n",
              "      percent.textContent = `${percentDone}% done`;\n",
              "\n",
              "    } while (position < fileData.byteLength);\n",
              "  }\n",
              "\n",
              "  // All done.\n",
              "  yield {\n",
              "    response: {\n",
              "      action: 'complete',\n",
              "    }\n",
              "  };\n",
              "}\n",
              "\n",
              "scope.google = scope.google || {};\n",
              "scope.google.colab = scope.google.colab || {};\n",
              "scope.google.colab._files = {\n",
              "  _uploadFiles,\n",
              "  _uploadFilesContinue,\n",
              "};\n",
              "})(self);\n",
              "</script> "
            ]
          },
          "metadata": {}
        },
        {
          "output_type": "stream",
          "name": "stdout",
          "text": [
            "Saving names.txt to names.txt\n"
          ]
        }
      ]
    },
    {
      "cell_type": "code",
      "source": [
        "words = open('names.txt','r').read().splitlines()"
      ],
      "metadata": {
        "id": "MD8ur9Yj7edx"
      },
      "execution_count": 24,
      "outputs": []
    },
    {
      "cell_type": "markdown",
      "source": [
        "## Character mapping"
      ],
      "metadata": {
        "id": "J1CZXObC8h5U"
      }
    },
    {
      "cell_type": "code",
      "source": [
        "stoi = {s:i+1 for i,s in enumerate(sorted(set(''.join(words))))}\n",
        "stoi['.'] = 0\n",
        "itos = {i:s for i,s in stoi.items()}\n",
        "\n",
        "itos"
      ],
      "metadata": {
        "colab": {
          "base_uri": "https://localhost:8080/"
        },
        "id": "r9gxUGw75yWp",
        "outputId": "a4838ba3-bdd9-4053-b3d6-2ac0f34ac3b1"
      },
      "execution_count": 25,
      "outputs": [
        {
          "output_type": "execute_result",
          "data": {
            "text/plain": [
              "{'a': 1,\n",
              " 'b': 2,\n",
              " 'c': 3,\n",
              " 'd': 4,\n",
              " 'e': 5,\n",
              " 'f': 6,\n",
              " 'g': 7,\n",
              " 'h': 8,\n",
              " 'i': 9,\n",
              " 'j': 10,\n",
              " 'k': 11,\n",
              " 'l': 12,\n",
              " 'm': 13,\n",
              " 'n': 14,\n",
              " 'o': 15,\n",
              " 'p': 16,\n",
              " 'q': 17,\n",
              " 'r': 18,\n",
              " 's': 19,\n",
              " 't': 20,\n",
              " 'u': 21,\n",
              " 'v': 22,\n",
              " 'w': 23,\n",
              " 'x': 24,\n",
              " 'y': 25,\n",
              " 'z': 26,\n",
              " '.': 0}"
            ]
          },
          "metadata": {},
          "execution_count": 25
        }
      ]
    },
    {
      "cell_type": "markdown",
      "source": [
        "## Dataset split : Train , Dev , Test"
      ],
      "metadata": {
        "id": "hAwuy00EJLpG"
      }
    },
    {
      "cell_type": "code",
      "source": [
        "def build_dataset(data,n=3):\n",
        "\n",
        "  x , y = [],[]\n",
        "\n",
        "\n",
        "  for d in data:\n",
        "\n",
        "    context = [0]*n\n",
        "\n",
        "    for ch in d:\n",
        "\n",
        "      ix = stoi[ch]\n",
        "      x.append(context)\n",
        "      y.append(ix)\n",
        "\n",
        "      ix = context[1:] + [ix]\n",
        "\n",
        "\n",
        "  x = torch.tensor(x)\n",
        "  y = torch.tensor(y)\n",
        "\n",
        "  return x,y\n"
      ],
      "metadata": {
        "id": "PgvTq5vH8R8H"
      },
      "execution_count": 26,
      "outputs": []
    },
    {
      "cell_type": "markdown",
      "source": [
        "### Train/dev/test - 80/10/10 %"
      ],
      "metadata": {
        "id": "9LU_I8dtMm8c"
      }
    },
    {
      "cell_type": "code",
      "source": [
        "n = len(words)\n",
        "n1 = int(0.8*n)\n",
        "n2 = int(0.9*n)\n",
        "\n",
        "\n",
        "random.shuffle(words)\n",
        "\n",
        "print(words[:5])\n",
        "\n",
        "xtr , ytr = build_dataset(words[:n1])\n",
        "xdev , ydev = build_dataset(words[n1:n2])\n",
        "xtest , ytest = build_dataset(words[n2:])"
      ],
      "metadata": {
        "colab": {
          "base_uri": "https://localhost:8080/"
        },
        "id": "X0VmMIIcG-7R",
        "outputId": "1b1f5713-b16a-4368-e98c-2403d426631c"
      },
      "execution_count": 27,
      "outputs": [
        {
          "output_type": "stream",
          "name": "stdout",
          "text": [
            "['leighla', 'dymond', 'amarachi', 'bretton', 'kaceson']\n"
          ]
        }
      ]
    },
    {
      "cell_type": "markdown",
      "source": [
        "## Parameters Initialization without proper initializataion"
      ],
      "metadata": {
        "id": "lzNMEF5wKFFm"
      }
    },
    {
      "cell_type": "code",
      "source": [
        "char_l = len(stoi.keys())\n",
        "context_w = 3\n",
        "vec_size = 10\n",
        "h_size = 200"
      ],
      "metadata": {
        "id": "qUCwrmh7OiMP"
      },
      "execution_count": 28,
      "outputs": []
    },
    {
      "cell_type": "code",
      "source": [
        "g = torch.Generator().manual_seed(21746)\n",
        "\n",
        "C = torch.randn((char_l,vec_size),              generator=g ,requires_grad=True)\n",
        "W1 = torch.randn((context_w * vec_size,h_size), generator=g ,requires_grad=True)\n",
        "b1 = torch.randn(h_size,                        generator=g ,requires_grad=True)\n",
        "W2 = torch.randn((h_size,char_l),               generator=g ,requires_grad=True)\n",
        "b2 = torch.randn(char_l,                        generator=g ,requires_grad=True)\n",
        "\n",
        "params = [C,W1,b1,W2,b2]"
      ],
      "metadata": {
        "id": "zDS7NUZeHAwv"
      },
      "execution_count": 29,
      "outputs": []
    },
    {
      "cell_type": "markdown",
      "source": [
        "## Full pass"
      ],
      "metadata": {
        "id": "90DwZjKSSs-r"
      }
    },
    {
      "cell_type": "code",
      "source": [
        "max_iter = 10000\n",
        "losses = []\n",
        "\n",
        "lr = 0.01"
      ],
      "metadata": {
        "id": "RqAD0R1hVfXX"
      },
      "execution_count": 30,
      "outputs": []
    },
    {
      "cell_type": "code",
      "source": [
        "for i in range(max_iter):\n",
        "\n",
        "\n",
        "  #minibatch\n",
        "  ix = torch.randint(0,xtr.shape[0],(32,))\n",
        "\n",
        "\n",
        "  #forward pass\n",
        "\n",
        "  #embedding\n",
        "  emb = C[xtr[ix]]\n",
        "  emb_cor =  emb.view(-1,vec_size*context_w)\n",
        "\n",
        "  #hidden layer\n",
        "  h_preact = emb_cor @ W1 + b1\n",
        "  h = torch.tanh(h_preact)\n",
        "\n",
        "  #output layer\n",
        "  logits = h @ W2 +b2\n",
        "\n",
        "  loss = F.cross_entropy(logits,ytr[ix])\n",
        "\n",
        "\n",
        "  #backward pass\n",
        "  for p in params:\n",
        "    p.grad = None\n",
        "\n",
        "  loss.backward()\n",
        "\n",
        "\n",
        "  #update\n",
        "  for p in params:\n",
        "    p.data -= lr * p.grad\n",
        "\n",
        "  if i%1000==0:\n",
        "    print(f'{i}/{max_iter}  : {loss}')\n",
        "\n",
        "  losses.append(loss.item())\n",
        "\n",
        "\n",
        "  #break\n",
        "\n"
      ],
      "metadata": {
        "colab": {
          "base_uri": "https://localhost:8080/"
        },
        "id": "QvRNHRmyMXtA",
        "outputId": "037d4bee-95af-42c9-bb18-bfb37bd9e263"
      },
      "execution_count": 31,
      "outputs": [
        {
          "output_type": "stream",
          "name": "stdout",
          "text": [
            "0/10000  : 25.69584083557129\n",
            "1000/10000  : 2.8118255138397217\n",
            "2000/10000  : 2.933884859085083\n",
            "3000/10000  : 3.040231704711914\n",
            "4000/10000  : 2.9004342555999756\n",
            "5000/10000  : 2.9629065990448\n",
            "6000/10000  : 2.820451498031616\n",
            "7000/10000  : 2.505594491958618\n",
            "8000/10000  : 3.0851244926452637\n",
            "9000/10000  : 3.0358357429504395\n"
          ]
        }
      ]
    },
    {
      "cell_type": "code",
      "source": [
        "plt.plot(losses)\n",
        "plt.show()"
      ],
      "metadata": {
        "colab": {
          "base_uri": "https://localhost:8080/",
          "height": 430
        },
        "id": "q8Ug1qeePKFG",
        "outputId": "b794be11-70d1-491d-995a-bd0949353b07"
      },
      "execution_count": 32,
      "outputs": [
        {
          "output_type": "display_data",
          "data": {
            "text/plain": [
              "<Figure size 640x480 with 1 Axes>"
            ],
            "image/png": "[encoded data removed]"
          },
          "metadata": {}
        }
      ]
    },
    {
      "cell_type": "markdown",
      "source": [
        "### Why does the loss curve look like a hockey stick?  \n",
        "\n",
        "- At the beginning of training, if the model is **not properly initialized**, the initial loss can be **very high**.  \n",
        "- As training progresses, the optimizer quickly reduces this large error, causing a **sharp drop** in the loss.  \n",
        "- After this rapid decrease, the loss decreases more slowly and flattens out, forming the **\"hockey stick\" shape**.  \n"
      ],
      "metadata": {
        "id": "qxiGCVPgabAk"
      }
    },
    {
      "cell_type": "markdown",
      "source": [
        "## Saturated tanh problem"
      ],
      "metadata": {
        "id": "QRUhbcMsbE3d"
      }
    },
    {
      "cell_type": "code",
      "source": [
        "plt.figure(figsize=(8,3))\n",
        "\n",
        "# Pre-activation\n",
        "plt.subplot(1, 2, 1)\n",
        "plt.hist(h_preact.view(-1).tolist(), bins=50)\n",
        "plt.title(\"Pre-activation\")\n",
        "plt.xlabel(\"Value\")\n",
        "plt.ylabel(\"Frequency\")\n",
        "\n",
        "# Post-activation\n",
        "plt.subplot(1, 2, 2)\n",
        "plt.hist(h.view(-1).tolist(), bins=50)\n",
        "plt.title(\"Post-activation\")\n",
        "plt.xlabel(\"Value\")\n",
        "plt.ylabel(\"Frequency\")\n",
        "\n",
        "plt.tight_layout()\n",
        "plt.show()"
      ],
      "metadata": {
        "colab": {
          "base_uri": "https://localhost:8080/",
          "height": 307
        },
        "id": "IWZ8xqEkaK9V",
        "outputId": "b13a18d8-d0a2-4068-bbd1-99292b959f3e"
      },
      "execution_count": 33,
      "outputs": [
        {
          "output_type": "display_data",
          "data": {
            "text/plain": [
              "<Figure size 800x300 with 2 Axes>"
            ],
            "image/png": "[encoded data removed]"
          },
          "metadata": {}
        }
      ]
    },
    {
      "cell_type": "code",
      "source": [
        "plt.figure(figsize=(20,10))\n",
        "plt.imshow(h.abs()>0.99 , cmap = 'gray' , interpolation= 'nearest')\n",
        "#entire column of whites means dead neuron"
      ],
      "metadata": {
        "colab": {
          "base_uri": "https://localhost:8080/",
          "height": 294
        },
        "id": "Q0wkhhe8gWLh",
        "outputId": "ae852a4a-b6d5-4758-e926-bb08419d490f"
      },
      "execution_count": 34,
      "outputs": [
        {
          "output_type": "execute_result",
          "data": {
            "text/plain": [
              "<matplotlib.image.AxesImage at 0x79808fb57fe0>"
            ]
          },
          "metadata": {},
          "execution_count": 34
        },
        {
          "output_type": "display_data",
          "data": {
            "text/plain": [
              "<Figure size 2000x1000 with 1 Axes>"
            ],
            "image/png": "[encoded data removed]"
          },
          "metadata": {}
        }
      ]
    },
    {
      "cell_type": "markdown",
      "source": [
        "## Fixing initial loss and saturated tanh"
      ],
      "metadata": {
        "id": "8kdHBKk-ropj"
      }
    },
    {
      "cell_type": "code",
      "source": [
        "char_l = len(stoi.keys())\n",
        "context_w = 3\n",
        "vec_size = 10\n",
        "h_size = 200\n",
        "g = torch.Generator().manual_seed(21746)\n",
        "\n",
        "C = torch.randn((char_l,vec_size),              generator=g )\n",
        "W1 = torch.randn((context_w * vec_size,h_size), generator=g )  * 0.1\n",
        "b1 = torch.randn(h_size,                        generator=g )  * 0.01\n",
        "W2 = torch.randn((h_size,char_l),               generator=g )  * 0.01\n",
        "b2 = torch.randn(char_l,                        generator=g )  * 0\n",
        "\n",
        "\n",
        "params = [C,W1,b1,W2,b2]\n",
        "\n",
        "for p in params:\n",
        "  p.requires_grad= True"
      ],
      "metadata": {
        "id": "IITxnb1YmtxS"
      },
      "execution_count": 35,
      "outputs": []
    },
    {
      "cell_type": "code",
      "source": [
        "\n",
        "max_iter = 10000\n",
        "losses = []\n",
        "lr = 0.01"
      ],
      "metadata": {
        "id": "jGl3-x-woVV_"
      },
      "execution_count": 36,
      "outputs": []
    },
    {
      "cell_type": "code",
      "source": [
        "for i in range(max_iter):\n",
        "\n",
        "\n",
        "  #minibatch\n",
        "  ix = torch.randint(0,xtr.shape[0],(32,))\n",
        "\n",
        "\n",
        "  #forward pass\n",
        "\n",
        "  #embedding\n",
        "  emb = C[xtr[ix]]\n",
        "  emb_cor =  emb.view(-1,vec_size*context_w)\n",
        "\n",
        "  #hidden layer\n",
        "  h_preact = emb_cor @ W1 + b1\n",
        "  h = torch.tanh(h_preact)\n",
        "\n",
        "  #output layer\n",
        "  logits = h @ W2 +b2\n",
        "\n",
        "  loss = F.cross_entropy(logits,ytr[ix])\n",
        "\n",
        "\n",
        "  #backward pass\n",
        "  for p in params:\n",
        "    p.grad = None\n",
        "\n",
        "  loss.backward()\n",
        "\n",
        "\n",
        "  #update\n",
        "  for p in params:\n",
        "    #print(p.data,p.grad)\n",
        "    p.data -= lr * p.grad\n",
        "\n",
        "  if i%1000==0:\n",
        "    print(f'{i}/{max_iter}  : {loss}')\n",
        "\n",
        "  losses.append(loss.item())\n",
        "\n",
        "\n",
        "  #break"
      ],
      "metadata": {
        "colab": {
          "base_uri": "https://localhost:8080/"
        },
        "id": "xxAQEU3ysBMt",
        "outputId": "8443fee7-834e-4134-fc4c-f7b965a5f958"
      },
      "execution_count": 37,
      "outputs": [
        {
          "output_type": "stream",
          "name": "stdout",
          "text": [
            "0/10000  : 3.315943956375122\n",
            "1000/10000  : 2.662580966949463\n",
            "2000/10000  : 2.742511510848999\n",
            "3000/10000  : 2.680687189102173\n",
            "4000/10000  : 2.653306722640991\n",
            "5000/10000  : 2.714205741882324\n",
            "6000/10000  : 2.949309825897217\n",
            "7000/10000  : 2.7903823852539062\n",
            "8000/10000  : 2.688241481781006\n",
            "9000/10000  : 2.7098052501678467\n"
          ]
        }
      ]
    },
    {
      "cell_type": "markdown",
      "source": [
        "#### fixed initial loss"
      ],
      "metadata": {
        "id": "UG-qyGw9t6zw"
      }
    },
    {
      "cell_type": "code",
      "source": [
        "plt.plot(losses)\n",
        "plt.show()"
      ],
      "metadata": {
        "colab": {
          "base_uri": "https://localhost:8080/",
          "height": 430
        },
        "id": "m0BfinIXsFtC",
        "outputId": "c907545b-7915-41ca-9aa3-5218f65e6f72"
      },
      "execution_count": 38,
      "outputs": [
        {
          "output_type": "display_data",
          "data": {
            "text/plain": [
              "<Figure size 640x480 with 1 Axes>"
            ],
            "image/png": "[encoded data removed]"
          },
          "metadata": {}
        }
      ]
    },
    {
      "cell_type": "markdown",
      "source": [
        "### fixed saturated tanh"
      ],
      "metadata": {
        "id": "l-eVK3R8t3Nt"
      }
    },
    {
      "cell_type": "code",
      "source": [
        "plt.figure(figsize=(8,3))\n",
        "\n",
        "# Pre-activation\n",
        "plt.subplot(1, 2, 1)\n",
        "plt.hist(h_preact.view(-1).tolist(), bins=50)\n",
        "plt.title(\"Pre-activation\")\n",
        "plt.xlabel(\"Value\")\n",
        "plt.ylabel(\"Frequency\")\n",
        "\n",
        "# Post-activation\n",
        "plt.subplot(1, 2, 2)\n",
        "plt.hist(h.view(-1).tolist(), bins=50)\n",
        "plt.title(\"Post-activation\")\n",
        "plt.xlabel(\"Value\")\n",
        "plt.ylabel(\"Frequency\")\n",
        "\n",
        "plt.tight_layout()\n",
        "plt.show()"
      ],
      "metadata": {
        "colab": {
          "base_uri": "https://localhost:8080/",
          "height": 307
        },
        "id": "uu8lG61gtxxv",
        "outputId": "40f8076b-9013-41ec-cd70-17c327440fee"
      },
      "execution_count": 39,
      "outputs": [
        {
          "output_type": "display_data",
          "data": {
            "text/plain": [
              "<Figure size 800x300 with 2 Axes>"
            ],
            "image/png": "[encoded data removed]"
          },
          "metadata": {}
        }
      ]
    },
    {
      "cell_type": "markdown",
      "source": [
        "### Initaial scale : kaiming init"
      ],
      "metadata": {
        "id": "dg0sS5pOF4CF"
      }
    },
    {
      "cell_type": "code",
      "source": [
        "torch.randn(1000).std()"
      ],
      "metadata": {
        "colab": {
          "base_uri": "https://localhost:8080/"
        },
        "id": "zWndxzpSt1Zf",
        "outputId": "33b84d0a-1991-4bdb-a72c-e2f38d9c27b1"
      },
      "execution_count": 40,
      "outputs": [
        {
          "output_type": "execute_result",
          "data": {
            "text/plain": [
              "tensor(0.9841)"
            ]
          },
          "metadata": {},
          "execution_count": 40
        }
      ]
    },
    {
      "cell_type": "code",
      "source": [
        "(torch.randn(1000) * 0.2 ).std()"
      ],
      "metadata": {
        "colab": {
          "base_uri": "https://localhost:8080/"
        },
        "id": "gty6Z01EFx8I",
        "outputId": "c6a17cc8-9f36-492e-ab3d-cec88f8fd235"
      },
      "execution_count": 41,
      "outputs": [
        {
          "output_type": "execute_result",
          "data": {
            "text/plain": [
              "tensor(0.1927)"
            ]
          },
          "metadata": {},
          "execution_count": 41
        }
      ]
    },
    {
      "cell_type": "code",
      "source": [
        "x = torch.randn((1000,10))\n",
        "w = torch.randn((10,200))    / (10**0.5) #root of fan in\n",
        "\n",
        "y = x @ w\n",
        "\n",
        "print(x.mean(),x.std())\n",
        "print(y.mean(),y.std())\n",
        "\n",
        "plt.figure(figsize= (6,4))\n",
        "plt.subplot(121)\n",
        "plt.hist(x.view(-1).tolist(),50 , density=True)\n",
        "plt.subplot(122)\n",
        "plt.hist(y.view(-1).tolist(),50 , density=True)\n",
        "plt.show()"
      ],
      "metadata": {
        "colab": {
          "base_uri": "https://localhost:8080/",
          "height": 403
        },
        "id": "fqAysksfGCVx",
        "outputId": "04d6f00b-48e7-4e4e-ebef-53eca6bf7fd3"
      },
      "execution_count": 42,
      "outputs": [
        {
          "output_type": "stream",
          "name": "stdout",
          "text": [
            "tensor(-0.0042) tensor(1.0022)\n",
            "tensor(-0.0006) tensor(1.0049)\n"
          ]
        },
        {
          "output_type": "display_data",
          "data": {
            "text/plain": [
              "<Figure size 600x400 with 2 Axes>"
            ],
            "image/png": "[encoded data removed]"
          },
          "metadata": {}
        }
      ]
    },
    {
      "cell_type": "markdown",
      "source": [
        "#### Kaiminig init for tanh"
      ],
      "metadata": {
        "id": "mpJpolf7IixK"
      }
    },
    {
      "cell_type": "code",
      "source": [
        "(5/3) / ((context_w * vec_size) **0.5)   #W1 multiply by this factor\n"
      ],
      "metadata": {
        "colab": {
          "base_uri": "https://localhost:8080/"
        },
        "id": "r4oEYuMQGu9s",
        "outputId": "9ce0a92f-9d8a-4584-b0ea-2af62bb5e4d5"
      },
      "execution_count": 51,
      "outputs": [
        {
          "output_type": "execute_result",
          "data": {
            "text/plain": [
              "0.3042903097250923"
            ]
          },
          "metadata": {},
          "execution_count": 51
        }
      ]
    },
    {
      "cell_type": "markdown",
      "source": [
        "# Batch Noramalization"
      ],
      "metadata": {
        "id": "xxmUF-JBMv6A"
      }
    },
    {
      "cell_type": "code",
      "source": [
        "char_l = len(stoi.keys())\n",
        "context_w = 3\n",
        "vec_size = 10\n",
        "h_size = 200\n",
        "g = torch.Generator().manual_seed(2147483647)\n",
        "\n",
        "\n",
        "\n",
        "C =  torch.randn((char_l,vec_size),              generator=g )\n",
        "W1 = torch.randn((context_w * vec_size,h_size),  generator=g )  * (5/3) / ((context_w * vec_size) **0.5)   #kaminig init\n",
        "#b1 = torch.randn(h_size,                         generator=g )  * 0.01\n",
        "W2 = torch.randn((h_size,char_l),                generator=g )  * 0.01\n",
        "b2 = torch.randn(char_l,                         generator=g )  * 0\n",
        "\n",
        "\n",
        "\n",
        "bngain = torch.ones((1,h_size))\n",
        "bnbias = torch.zeros((1,h_size))\n",
        "\n",
        "\n",
        "bnmean_running = torch.zeros((1, h_size))\n",
        "bnstd_running = torch.ones((1, h_size))\n",
        "\n",
        "\n",
        "\n",
        "\n",
        "\n",
        "params = [C,W1,W2,b2,bngain,bnbias]\n",
        "\n",
        "for p in params:\n",
        "  p.requires_grad= True"
      ],
      "metadata": {
        "id": "IcJlNtl8RDeQ"
      },
      "execution_count": 76,
      "outputs": []
    },
    {
      "cell_type": "code",
      "source": [
        "max_iter = 50000\n",
        "losses = []\n",
        "lr = 0.00001\n",
        "batch_size = 32\n",
        "\n",
        "\n",
        "\n",
        "for i in range(max_iter):\n",
        "\n",
        "\n",
        "  #minibatch\n",
        "  ix = torch.randint(0,xtr.shape[0],(batch_size,),generator=g)\n",
        "\n",
        "\n",
        "  #forward pass\n",
        "\n",
        "  #embedding\n",
        "  emb = C[xtr[ix]]\n",
        "  emb_cor =  emb.view(-1,vec_size*context_w)\n",
        "\n",
        "  #hidden layer\n",
        "  h_preact = emb_cor @ W1 #+ b1    #bias not doing anything because of bn layer\n",
        "\n",
        "\n",
        "  #Batch Normalization layer\n",
        "  #h_preact = ((h_preact - h_preact.mean(0,keepdim=True)) / (h_preact.std(0,keepdim=True)+0.00001))\n",
        "\n",
        "  bnmeani = h_preact.mean(0,keepdim=True)\n",
        "  bnstdi = h_preact.std(0,keepdim=True)\n",
        "\n",
        "  h_preact = bngain * (h_preact-bnmeani/(bnstdi+0.00001) ) + bnbias\n",
        "\n",
        "  with torch.no_grad():\n",
        "    bnmean_running = 0.99 * bnmean_running + 0.001 * bnmeani\n",
        "    bnstd_running = 0.99 * bnstd_running + 0.001 * bnstdi\n",
        "\n",
        "\n",
        "\n",
        "\n",
        "\n",
        "  h = torch.tanh(h_preact)\n",
        "\n",
        "  #output layer\n",
        "  logits = h @ W2 +b2\n",
        "\n",
        "  loss = F.cross_entropy(logits,ytr[ix])\n",
        "\n",
        "\n",
        "  #backward pass\n",
        "  for p in params:\n",
        "    p.grad = None\n",
        "\n",
        "  loss.backward()\n",
        "\n",
        "\n",
        "  #update\n",
        "  for p in params:\n",
        "    p.data -= lr * p.grad\n",
        "\n",
        "  if i%1000==0:\n",
        "    print(f'{i}/{max_iter}  : {loss}')\n",
        "\n",
        "  losses.append(loss.item())\n"
      ],
      "metadata": {
        "colab": {
          "base_uri": "https://localhost:8080/"
        },
        "id": "7U_96fYKIvnw",
        "outputId": "3a667719-3543-4f18-8354-297d8a6ef88a"
      },
      "execution_count": 77,
      "outputs": [
        {
          "output_type": "stream",
          "name": "stdout",
          "text": [
            "0/50000  : 3.2901535034179688\n",
            "1000/50000  : 3.212301254272461\n",
            "2000/50000  : 3.127258777618408\n",
            "3000/50000  : 3.1156563758850098\n",
            "4000/50000  : 3.151245594024658\n",
            "5000/50000  : 3.0815436840057373\n",
            "6000/50000  : 3.1085801124572754\n",
            "7000/50000  : 3.071129322052002\n",
            "8000/50000  : 2.9320971965789795\n",
            "9000/50000  : 2.969172716140747\n",
            "10000/50000  : 2.860285520553589\n",
            "11000/50000  : 2.685011386871338\n",
            "12000/50000  : 3.1145572662353516\n",
            "13000/50000  : 2.99249529838562\n",
            "14000/50000  : 2.845067262649536\n",
            "15000/50000  : 2.8326334953308105\n",
            "16000/50000  : 2.9556195735931396\n",
            "17000/50000  : 2.836273193359375\n",
            "18000/50000  : 2.7348437309265137\n",
            "19000/50000  : 2.880743980407715\n",
            "20000/50000  : 3.0754127502441406\n",
            "21000/50000  : 2.965859889984131\n",
            "22000/50000  : 2.7926244735717773\n",
            "23000/50000  : 3.0089621543884277\n",
            "24000/50000  : 2.8661184310913086\n",
            "25000/50000  : 2.8779263496398926\n",
            "26000/50000  : 2.7765188217163086\n",
            "27000/50000  : 3.0075571537017822\n",
            "28000/50000  : 3.0749669075012207\n",
            "29000/50000  : 2.8829169273376465\n",
            "30000/50000  : 2.911363363265991\n",
            "31000/50000  : 2.522348165512085\n",
            "32000/50000  : 2.8221850395202637\n",
            "33000/50000  : 2.5811922550201416\n",
            "34000/50000  : 2.81845760345459\n",
            "35000/50000  : 2.7872517108917236\n",
            "36000/50000  : 2.890655279159546\n",
            "37000/50000  : 2.741593837738037\n",
            "38000/50000  : 2.975287437438965\n",
            "39000/50000  : 2.964508056640625\n",
            "40000/50000  : 2.9625437259674072\n",
            "41000/50000  : 2.782731771469116\n",
            "42000/50000  : 2.6572036743164062\n",
            "43000/50000  : 2.757972240447998\n",
            "44000/50000  : 2.860746145248413\n",
            "45000/50000  : 2.9835431575775146\n",
            "46000/50000  : 2.9985954761505127\n",
            "47000/50000  : 2.719489574432373\n",
            "48000/50000  : 2.7932822704315186\n",
            "49000/50000  : 3.096557378768921\n"
          ]
        }
      ]
    },
    {
      "cell_type": "code",
      "source": [
        "plt.plot(losses)\n",
        "plt.show()"
      ],
      "metadata": {
        "colab": {
          "base_uri": "https://localhost:8080/",
          "height": 430
        },
        "id": "jQOFGm-NlgOR",
        "outputId": "b11bc519-3c4b-4818-b355-4be9c5ce0966"
      },
      "execution_count": 78,
      "outputs": [
        {
          "output_type": "display_data",
          "data": {
            "text/plain": [
              "<Figure size 640x480 with 1 Axes>"
            ],
            "image/png": "[encoded data removed]"
          },
          "metadata": {}
        }
      ]
    },
    {
      "cell_type": "code",
      "source": [
        "#full forward pass for training set\n",
        "\n",
        "with torch.no_grad():\n",
        "    emb = C[xtr]\n",
        "    emb_cor = emb.view(-1, vec_size * context_w)\n",
        "    h_preact = emb_cor @ W1 + b1\n",
        "\n",
        "    #h_norm = (h_preact - h_preact.mean(0, keepdim=True)) / (h_preact.std(0, keepdim=True) + 1e-5)\n",
        "\n",
        "    h_norm = (h_preact - bnmean_running) / (bnstd_running + 1e-5)\n",
        "    h_norm = bngain * h_norm + bnbias\n",
        "\n",
        "    h = torch.tanh(h_norm)\n",
        "    logits = h @ W2 + b2\n",
        "    loss = F.cross_entropy(logits,ytr)\n",
        "    print(loss)"
      ],
      "metadata": {
        "colab": {
          "base_uri": "https://localhost:8080/"
        },
        "id": "whSgur8pTMYD",
        "outputId": "3fe4adfe-0972-4319-e66e-3cd5072bdd54"
      },
      "execution_count": 79,
      "outputs": [
        {
          "output_type": "stream",
          "name": "stdout",
          "text": [
            "tensor(4.5168)\n"
          ]
        }
      ]
    },
    {
      "cell_type": "code",
      "source": [],
      "metadata": {
        "id": "IaeA0vy6Yrzl"
      },
      "execution_count": null,
      "outputs": []
    }
  ]
}