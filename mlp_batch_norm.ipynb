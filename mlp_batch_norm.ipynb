{
  "nbformat": 4,
  "nbformat_minor": 0,
  "metadata": {
    "colab": {
      "provenance": [],
      "authorship_tag": "ABX9TyM9x1U/y2rRLQtRu0MaPuWU",
      "include_colab_link": true
    },
    "kernelspec": {
      "name": "python3",
      "display_name": "Python 3"
    },
    "language_info": {
      "name": "python"
    }
  },
  "cells": [
    {
      "cell_type": "markdown",
      "metadata": {
        "id": "view-in-github",
        "colab_type": "text"
      },
      "source": [
        "<a href=\"https://colab.research.google.com/github/samitha278/multilayer-perceptron-char-lm/blob/main/mlp_batch_norm.ipynb\" target=\"_parent\"><img src=\"https://colab.research.google.com/assets/colab-badge.svg\" alt=\"Open In Colab\"/></a>"
      ]
    },
    {
      "cell_type": "code",
      "execution_count": 10,
      "metadata": {
        "id": "5JYGngOYNJRa"
      },
      "outputs": [],
      "source": [
        "import torch\n",
        "import torch.nn.functional as F\n",
        "import random\n",
        "import matplotlib.pyplot as plt"
      ]
    },
    {
      "cell_type": "code",
      "source": [
        "from google.colab import files\n",
        "\n",
        "uploaded = files.upload()"
      ],
      "metadata": {
        "id": "YZgD5IDUNYsG",
        "colab": {
          "base_uri": "https://localhost:8080/",
          "height": 73
        },
        "outputId": "a2009941-f4e2-4cf4-c8a3-891caf412c8d"
      },
      "execution_count": 2,
      "outputs": [
        {
          "output_type": "display_data",
          "data": {
            "text/plain": [
              "<IPython.core.display.HTML object>"
            ],
            "text/html": [
              "\n",
              "     <input type=\"file\" id=\"files-c88b2a87-90cd-45b4-88c5-706036206ca7\" name=\"files[]\" multiple disabled\n",
              "        style=\"border:none\" />\n",
              "     <output id=\"result-c88b2a87-90cd-45b4-88c5-706036206ca7\">\n",
              "      Upload widget is only available when the cell has been executed in the\n",
              "      current browser session. Please rerun this cell to enable.\n",
              "      </output>\n",
              "      <script>// Copyright 2017 Google LLC\n",
              "//\n",
              "// Licensed under the Apache License, Version 2.0 (the \"License\");\n",
              "// you may not use this file except in compliance with the License.\n",
              "// You may obtain a copy of the License at\n",
              "//\n",
              "//      http://www.apache.org/licenses/LICENSE-2.0\n",
              "//\n",
              "// Unless required by applicable law or agreed to in writing, software\n",
              "// distributed under the License is distributed on an \"AS IS\" BASIS,\n",
              "// WITHOUT WARRANTIES OR CONDITIONS OF ANY KIND, either express or implied.\n",
              "// See the License for the specific language governing permissions and\n",
              "// limitations under the License.\n",
              "\n",
              "/**\n",
              " * @fileoverview Helpers for google.colab Python module.\n",
              " */\n",
              "(function(scope) {\n",
              "function span(text, styleAttributes = {}) {\n",
              "  const element = document.createElement('span');\n",
              "  element.textContent = text;\n",
              "  for (const key of Object.keys(styleAttributes)) {\n",
              "    element.style[key] = styleAttributes[key];\n",
              "  }\n",
              "  return element;\n",
              "}\n",
              "\n",
              "// Max number of bytes which will be uploaded at a time.\n",
              "const MAX_PAYLOAD_SIZE = 100 * 1024;\n",
              "\n",
              "function _uploadFiles(inputId, outputId) {\n",
              "  const steps = uploadFilesStep(inputId, outputId);\n",
              "  const outputElement = document.getElementById(outputId);\n",
              "  // Cache steps on the outputElement to make it available for the next call\n",
              "  // to uploadFilesContinue from Python.\n",
              "  outputElement.steps = steps;\n",
              "\n",
              "  return _uploadFilesContinue(outputId);\n",
              "}\n",
              "\n",
              "// This is roughly an async generator (not supported in the browser yet),\n",
              "// where there are multiple asynchronous steps and the Python side is going\n",
              "// to poll for completion of each step.\n",
              "// This uses a Promise to block the python side on completion of each step,\n",
              "// then passes the result of the previous step as the input to the next step.\n",
              "function _uploadFilesContinue(outputId) {\n",
              "  const outputElement = document.getElementById(outputId);\n",
              "  const steps = outputElement.steps;\n",
              "\n",
              "  const next = steps.next(outputElement.lastPromiseValue);\n",
              "  return Promise.resolve(next.value.promise).then((value) => {\n",
              "    // Cache the last promise value to make it available to the next\n",
              "    // step of the generator.\n",
              "    outputElement.lastPromiseValue = value;\n",
              "    return next.value.response;\n",
              "  });\n",
              "}\n",
              "\n",
              "/**\n",
              " * Generator function which is called between each async step of the upload\n",
              " * process.\n",
              " * @param {string} inputId Element ID of the input file picker element.\n",
              " * @param {string} outputId Element ID of the output display.\n",
              " * @return {!Iterable<!Object>} Iterable of next steps.\n",
              " */\n",
              "function* uploadFilesStep(inputId, outputId) {\n",
              "  const inputElement = document.getElementById(inputId);\n",
              "  inputElement.disabled = false;\n",
              "\n",
              "  const outputElement = document.getElementById(outputId);\n",
              "  outputElement.innerHTML = '';\n",
              "\n",
              "  const pickedPromise = new Promise((resolve) => {\n",
              "    inputElement.addEventListener('change', (e) => {\n",
              "      resolve(e.target.files);\n",
              "    });\n",
              "  });\n",
              "\n",
              "  const cancel = document.createElement('button');\n",
              "  inputElement.parentElement.appendChild(cancel);\n",
              "  cancel.textContent = 'Cancel upload';\n",
              "  const cancelPromise = new Promise((resolve) => {\n",
              "    cancel.onclick = () => {\n",
              "      resolve(null);\n",
              "    };\n",
              "  });\n",
              "\n",
              "  // Wait for the user to pick the files.\n",
              "  const files = yield {\n",
              "    promise: Promise.race([pickedPromise, cancelPromise]),\n",
              "    response: {\n",
              "      action: 'starting',\n",
              "    }\n",
              "  };\n",
              "\n",
              "  cancel.remove();\n",
              "\n",
              "  // Disable the input element since further picks are not allowed.\n",
              "  inputElement.disabled = true;\n",
              "\n",
              "  if (!files) {\n",
              "    return {\n",
              "      response: {\n",
              "        action: 'complete',\n",
              "      }\n",
              "    };\n",
              "  }\n",
              "\n",
              "  for (const file of files) {\n",
              "    const li = document.createElement('li');\n",
              "    li.append(span(file.name, {fontWeight: 'bold'}));\n",
              "    li.append(span(\n",
              "        `(${file.type || 'n/a'}) - ${file.size} bytes, ` +\n",
              "        `last modified: ${\n",
              "            file.lastModifiedDate ? file.lastModifiedDate.toLocaleDateString() :\n",
              "                                    'n/a'} - `));\n",
              "    const percent = span('0% done');\n",
              "    li.appendChild(percent);\n",
              "\n",
              "    outputElement.appendChild(li);\n",
              "\n",
              "    const fileDataPromise = new Promise((resolve) => {\n",
              "      const reader = new FileReader();\n",
              "      reader.onload = (e) => {\n",
              "        resolve(e.target.result);\n",
              "      };\n",
              "      reader.readAsArrayBuffer(file);\n",
              "    });\n",
              "    // Wait for the data to be ready.\n",
              "    let fileData = yield {\n",
              "      promise: fileDataPromise,\n",
              "      response: {\n",
              "        action: 'continue',\n",
              "      }\n",
              "    };\n",
              "\n",
              "    // Use a chunked sending to avoid message size limits. See b/62115660.\n",
              "    let position = 0;\n",
              "    do {\n",
              "      const length = Math.min(fileData.byteLength - position, MAX_PAYLOAD_SIZE);\n",
              "      const chunk = new Uint8Array(fileData, position, length);\n",
              "      position += length;\n",
              "\n",
              "      const base64 = btoa(String.fromCharCode.apply(null, chunk));\n",
              "      yield {\n",
              "        response: {\n",
              "          action: 'append',\n",
              "          file: file.name,\n",
              "          data: base64,\n",
              "        },\n",
              "      };\n",
              "\n",
              "      let percentDone = fileData.byteLength === 0 ?\n",
              "          100 :\n",
              "          Math.round((position / fileData.byteLength) * 100);\n",
              "      percent.textContent = `${percentDone}% done`;\n",
              "\n",
              "    } while (position < fileData.byteLength);\n",
              "  }\n",
              "\n",
              "  // All done.\n",
              "  yield {\n",
              "    response: {\n",
              "      action: 'complete',\n",
              "    }\n",
              "  };\n",
              "}\n",
              "\n",
              "scope.google = scope.google || {};\n",
              "scope.google.colab = scope.google.colab || {};\n",
              "scope.google.colab._files = {\n",
              "  _uploadFiles,\n",
              "  _uploadFilesContinue,\n",
              "};\n",
              "})(self);\n",
              "</script> "
            ]
          },
          "metadata": {}
        },
        {
          "output_type": "stream",
          "name": "stdout",
          "text": [
            "Saving names.txt to names.txt\n"
          ]
        }
      ]
    },
    {
      "cell_type": "code",
      "source": [
        "words = open('names.txt','r').read().splitlines()"
      ],
      "metadata": {
        "id": "MD8ur9Yj7edx"
      },
      "execution_count": 3,
      "outputs": []
    },
    {
      "cell_type": "markdown",
      "source": [
        "## Character mapping"
      ],
      "metadata": {
        "id": "J1CZXObC8h5U"
      }
    },
    {
      "cell_type": "code",
      "source": [
        "stoi = {s:i+1 for i,s in enumerate(sorted(set(''.join(words))))}\n",
        "stoi['.'] = 0\n",
        "itos = {i:s for i,s in stoi.items()}\n",
        "\n",
        "itos"
      ],
      "metadata": {
        "colab": {
          "base_uri": "https://localhost:8080/"
        },
        "id": "r9gxUGw75yWp",
        "outputId": "4130596f-bc53-4679-e5f6-4c338f7c35ca"
      },
      "execution_count": 6,
      "outputs": [
        {
          "output_type": "execute_result",
          "data": {
            "text/plain": [
              "{'a': 1,\n",
              " 'b': 2,\n",
              " 'c': 3,\n",
              " 'd': 4,\n",
              " 'e': 5,\n",
              " 'f': 6,\n",
              " 'g': 7,\n",
              " 'h': 8,\n",
              " 'i': 9,\n",
              " 'j': 10,\n",
              " 'k': 11,\n",
              " 'l': 12,\n",
              " 'm': 13,\n",
              " 'n': 14,\n",
              " 'o': 15,\n",
              " 'p': 16,\n",
              " 'q': 17,\n",
              " 'r': 18,\n",
              " 's': 19,\n",
              " 't': 20,\n",
              " 'u': 21,\n",
              " 'v': 22,\n",
              " 'w': 23,\n",
              " 'x': 24,\n",
              " 'y': 25,\n",
              " 'z': 26,\n",
              " '.': 0}"
            ]
          },
          "metadata": {},
          "execution_count": 6
        }
      ]
    },
    {
      "cell_type": "markdown",
      "source": [
        "## Dataset split : Train , Dev , Test"
      ],
      "metadata": {
        "id": "hAwuy00EJLpG"
      }
    },
    {
      "cell_type": "code",
      "source": [
        "def build_dataset(data,n=3):\n",
        "\n",
        "  x , y = [],[]\n",
        "\n",
        "\n",
        "  for d in data:\n",
        "\n",
        "    context = [0]*n\n",
        "\n",
        "    for ch in d:\n",
        "\n",
        "      ix = stoi[ch]\n",
        "      x.append(context)\n",
        "      y.append(ix)\n",
        "\n",
        "      ix = context[1:] + [ix]\n",
        "\n",
        "\n",
        "  x = torch.tensor(x)\n",
        "  y = torch.tensor(y)\n",
        "\n",
        "  return x,y\n"
      ],
      "metadata": {
        "id": "PgvTq5vH8R8H"
      },
      "execution_count": 25,
      "outputs": []
    },
    {
      "cell_type": "markdown",
      "source": [
        "### Train/dev/test - 80/10/10 %"
      ],
      "metadata": {
        "id": "9LU_I8dtMm8c"
      }
    },
    {
      "cell_type": "code",
      "source": [
        "n = len(words)\n",
        "n1 = int(0.8*n)\n",
        "n2 = int(0.9*n)\n",
        "\n",
        "\n",
        "random.shuffle(words)\n",
        "\n",
        "print(words[:5])\n",
        "\n",
        "xtr , ytr = build_dataset(words[:n1])\n",
        "xdev , ydev = build_dataset(words[n1:n2])\n",
        "xtest , ytest = build_dataset(words[n2:])"
      ],
      "metadata": {
        "colab": {
          "base_uri": "https://localhost:8080/"
        },
        "id": "X0VmMIIcG-7R",
        "outputId": "68efabe5-9222-40a1-a098-acafded25e55"
      },
      "execution_count": 26,
      "outputs": [
        {
          "output_type": "stream",
          "name": "stdout",
          "text": [
            "['ashari', 'miara', 'lorraine', 'ayham', 'zahriah']\n"
          ]
        }
      ]
    },
    {
      "cell_type": "markdown",
      "source": [
        "## Parameters Initialization without proper initializataion"
      ],
      "metadata": {
        "id": "lzNMEF5wKFFm"
      }
    },
    {
      "cell_type": "code",
      "source": [
        "char_l = len(stoi.keys())\n",
        "context_w = 3\n",
        "vec_size = 10\n",
        "h_size = 200"
      ],
      "metadata": {
        "id": "qUCwrmh7OiMP"
      },
      "execution_count": 27,
      "outputs": []
    },
    {
      "cell_type": "code",
      "source": [
        "g = torch.Generator().manual_seed(21746)\n",
        "\n",
        "C = torch.randn((char_l,vec_size),              generator=g ,requires_grad=True)\n",
        "W1 = torch.randn((context_w * vec_size,h_size), generator=g ,requires_grad=True)\n",
        "b1 = torch.randn(h_size,                        generator=g ,requires_grad=True)\n",
        "W2 = torch.randn((h_size,char_l),               generator=g ,requires_grad=True)\n",
        "b2 = torch.randn(char_l,                        generator=g ,requires_grad=True)\n",
        "\n",
        "params = [C,W1,b1,W2,b2]"
      ],
      "metadata": {
        "id": "zDS7NUZeHAwv"
      },
      "execution_count": 35,
      "outputs": []
    },
    {
      "cell_type": "markdown",
      "source": [
        "## Full pass"
      ],
      "metadata": {
        "id": "90DwZjKSSs-r"
      }
    },
    {
      "cell_type": "code",
      "source": [
        "max_iter = 10000\n",
        "losses = []\n",
        "lr = 0.01"
      ],
      "metadata": {
        "id": "RqAD0R1hVfXX"
      },
      "execution_count": 36,
      "outputs": []
    },
    {
      "cell_type": "code",
      "source": [
        "for i in range(max_iter):\n",
        "\n",
        "\n",
        "  #minibatch\n",
        "  ix = torch.randint(0,xtr.shape[0],(32,))\n",
        "\n",
        "\n",
        "  #forward pass\n",
        "\n",
        "  #embedding\n",
        "  emb = C[xtr[ix]]\n",
        "  emb_cor =  emb.view(-1,vec_size*context_w)\n",
        "\n",
        "  #hidden layer\n",
        "  h_preact = emb_cor @ W1 + b1\n",
        "  h = torch.tanh(h_preact)\n",
        "\n",
        "  #output layer\n",
        "  logits = h @ W2 +b2\n",
        "\n",
        "  loss = F.cross_entropy(logits,ytr[ix])\n",
        "\n",
        "\n",
        "  #backward pass\n",
        "  for p in params:\n",
        "    p.grad = None\n",
        "\n",
        "  loss.backward()\n",
        "\n",
        "\n",
        "  #update\n",
        "  for p in params:\n",
        "    p.data -= lr * p.grad\n",
        "\n",
        "  if i%1000==0:\n",
        "    print(f'{i}/{max_iter}  : {loss}')\n",
        "\n",
        "  losses.append(loss.item())\n",
        "\n"
      ],
      "metadata": {
        "colab": {
          "base_uri": "https://localhost:8080/"
        },
        "id": "QvRNHRmyMXtA",
        "outputId": "e2cbb0c7-4c12-43ae-a38a-d5c2d9f11054"
      },
      "execution_count": 37,
      "outputs": [
        {
          "output_type": "stream",
          "name": "stdout",
          "text": [
            "0/10000  : 30.188505172729492\n",
            "1000/10000  : 3.293705701828003\n",
            "2000/10000  : 2.706843852996826\n",
            "3000/10000  : 2.8702828884124756\n",
            "4000/10000  : 2.8582096099853516\n",
            "5000/10000  : 2.6461563110351562\n",
            "6000/10000  : 2.670987129211426\n",
            "7000/10000  : 2.8419766426086426\n",
            "8000/10000  : 2.7493748664855957\n",
            "9000/10000  : 2.6659324169158936\n"
          ]
        }
      ]
    },
    {
      "cell_type": "code",
      "source": [
        "plt.plot(losses)\n",
        "plt.show()"
      ],
      "metadata": {
        "colab": {
          "base_uri": "https://localhost:8080/",
          "height": 430
        },
        "id": "q8Ug1qeePKFG",
        "outputId": "f77cd618-d090-47db-ddda-52f6e498eeed"
      },
      "execution_count": 39,
      "outputs": [
        {
          "output_type": "display_data",
          "data": {
            "text/plain": [
              "<Figure size 640x480 with 1 Axes>"
            ],
            "image/png": "[encoded data removed]"
          },
          "metadata": {}
        }
      ]
    },
    {
      "cell_type": "markdown",
      "source": [
        "### Why does the loss curve look like a hockey stick?  \n",
        "\n",
        "- At the beginning of training, if the model is **not properly initialized**, the initial loss can be **very high**.  \n",
        "- As training progresses, the optimizer quickly reduces this large error, causing a **sharp drop** in the loss.  \n",
        "- After this rapid decrease, the loss decreases more slowly and flattens out, forming the **\"hockey stick\" shape**.  \n"
      ],
      "metadata": {
        "id": "qxiGCVPgabAk"
      }
    },
    {
      "cell_type": "markdown",
      "source": [
        "##"
      ],
      "metadata": {
        "id": "QRUhbcMsbE3d"
      }
    },
    {
      "cell_type": "code",
      "source": [],
      "metadata": {
        "id": "IWZ8xqEkaK9V"
      },
      "execution_count": null,
      "outputs": []
    }
  ]
}