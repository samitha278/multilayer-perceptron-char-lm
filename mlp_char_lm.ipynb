{
  "nbformat": 4,
  "nbformat_minor": 0,
  "metadata": {
    "colab": {
      "provenance": [],
      "authorship_tag": "ABX9TyMOQQ3OHgqtqBwM8DCyh2qO",
      "include_colab_link": true
    },
    "kernelspec": {
      "name": "python3",
      "display_name": "Python 3"
    },
    "language_info": {
      "name": "python"
    }
  },
  "cells": [
    {
      "cell_type": "markdown",
      "metadata": {
        "id": "view-in-github",
        "colab_type": "text"
      },
      "source": [
        "<a href=\"https://colab.research.google.com/github/samitha278/multilayer-perceptron-char-lm/blob/main/mlp_char_lm.ipynb\" target=\"_parent\"><img src=\"https://colab.research.google.com/assets/colab-badge.svg\" alt=\"Open In Colab\"/></a>"
      ]
    },
    {
      "cell_type": "code",
      "execution_count": 75,
      "metadata": {
        "id": "36X2bq5nVf4y"
      },
      "outputs": [],
      "source": [
        "import torch\n",
        "import torch.nn.functional as F\n",
        "import matplotlib.pyplot as plt"
      ]
    },
    {
      "cell_type": "code",
      "source": [
        "from google.colab import files\n",
        "\n",
        "uploaded = files.upload()\n"
      ],
      "metadata": {
        "colab": {
          "base_uri": "https://localhost:8080/",
          "height": 73
        },
        "id": "_qlY2cy2s6sn",
        "outputId": "b3e2d9a2-de27-48d5-b0a8-481a4fd57318"
      },
      "execution_count": 76,
      "outputs": [
        {
          "output_type": "display_data",
          "data": {
            "text/plain": [
              "<IPython.core.display.HTML object>"
            ],
            "text/html": [
              "\n",
              "     <input type=\"file\" id=\"files-ebde2fc4-8ad5-455d-b8dc-155626309a13\" name=\"files[]\" multiple disabled\n",
              "        style=\"border:none\" />\n",
              "     <output id=\"result-ebde2fc4-8ad5-455d-b8dc-155626309a13\">\n",
              "      Upload widget is only available when the cell has been executed in the\n",
              "      current browser session. Please rerun this cell to enable.\n",
              "      </output>\n",
              "      <script>// Copyright 2017 Google LLC\n",
              "//\n",
              "// Licensed under the Apache License, Version 2.0 (the \"License\");\n",
              "// you may not use this file except in compliance with the License.\n",
              "// You may obtain a copy of the License at\n",
              "//\n",
              "//      http://www.apache.org/licenses/LICENSE-2.0\n",
              "//\n",
              "// Unless required by applicable law or agreed to in writing, software\n",
              "// distributed under the License is distributed on an \"AS IS\" BASIS,\n",
              "// WITHOUT WARRANTIES OR CONDITIONS OF ANY KIND, either express or implied.\n",
              "// See the License for the specific language governing permissions and\n",
              "// limitations under the License.\n",
              "\n",
              "/**\n",
              " * @fileoverview Helpers for google.colab Python module.\n",
              " */\n",
              "(function(scope) {\n",
              "function span(text, styleAttributes = {}) {\n",
              "  const element = document.createElement('span');\n",
              "  element.textContent = text;\n",
              "  for (const key of Object.keys(styleAttributes)) {\n",
              "    element.style[key] = styleAttributes[key];\n",
              "  }\n",
              "  return element;\n",
              "}\n",
              "\n",
              "// Max number of bytes which will be uploaded at a time.\n",
              "const MAX_PAYLOAD_SIZE = 100 * 1024;\n",
              "\n",
              "function _uploadFiles(inputId, outputId) {\n",
              "  const steps = uploadFilesStep(inputId, outputId);\n",
              "  const outputElement = document.getElementById(outputId);\n",
              "  // Cache steps on the outputElement to make it available for the next call\n",
              "  // to uploadFilesContinue from Python.\n",
              "  outputElement.steps = steps;\n",
              "\n",
              "  return _uploadFilesContinue(outputId);\n",
              "}\n",
              "\n",
              "// This is roughly an async generator (not supported in the browser yet),\n",
              "// where there are multiple asynchronous steps and the Python side is going\n",
              "// to poll for completion of each step.\n",
              "// This uses a Promise to block the python side on completion of each step,\n",
              "// then passes the result of the previous step as the input to the next step.\n",
              "function _uploadFilesContinue(outputId) {\n",
              "  const outputElement = document.getElementById(outputId);\n",
              "  const steps = outputElement.steps;\n",
              "\n",
              "  const next = steps.next(outputElement.lastPromiseValue);\n",
              "  return Promise.resolve(next.value.promise).then((value) => {\n",
              "    // Cache the last promise value to make it available to the next\n",
              "    // step of the generator.\n",
              "    outputElement.lastPromiseValue = value;\n",
              "    return next.value.response;\n",
              "  });\n",
              "}\n",
              "\n",
              "/**\n",
              " * Generator function which is called between each async step of the upload\n",
              " * process.\n",
              " * @param {string} inputId Element ID of the input file picker element.\n",
              " * @param {string} outputId Element ID of the output display.\n",
              " * @return {!Iterable<!Object>} Iterable of next steps.\n",
              " */\n",
              "function* uploadFilesStep(inputId, outputId) {\n",
              "  const inputElement = document.getElementById(inputId);\n",
              "  inputElement.disabled = false;\n",
              "\n",
              "  const outputElement = document.getElementById(outputId);\n",
              "  outputElement.innerHTML = '';\n",
              "\n",
              "  const pickedPromise = new Promise((resolve) => {\n",
              "    inputElement.addEventListener('change', (e) => {\n",
              "      resolve(e.target.files);\n",
              "    });\n",
              "  });\n",
              "\n",
              "  const cancel = document.createElement('button');\n",
              "  inputElement.parentElement.appendChild(cancel);\n",
              "  cancel.textContent = 'Cancel upload';\n",
              "  const cancelPromise = new Promise((resolve) => {\n",
              "    cancel.onclick = () => {\n",
              "      resolve(null);\n",
              "    };\n",
              "  });\n",
              "\n",
              "  // Wait for the user to pick the files.\n",
              "  const files = yield {\n",
              "    promise: Promise.race([pickedPromise, cancelPromise]),\n",
              "    response: {\n",
              "      action: 'starting',\n",
              "    }\n",
              "  };\n",
              "\n",
              "  cancel.remove();\n",
              "\n",
              "  // Disable the input element since further picks are not allowed.\n",
              "  inputElement.disabled = true;\n",
              "\n",
              "  if (!files) {\n",
              "    return {\n",
              "      response: {\n",
              "        action: 'complete',\n",
              "      }\n",
              "    };\n",
              "  }\n",
              "\n",
              "  for (const file of files) {\n",
              "    const li = document.createElement('li');\n",
              "    li.append(span(file.name, {fontWeight: 'bold'}));\n",
              "    li.append(span(\n",
              "        `(${file.type || 'n/a'}) - ${file.size} bytes, ` +\n",
              "        `last modified: ${\n",
              "            file.lastModifiedDate ? file.lastModifiedDate.toLocaleDateString() :\n",
              "                                    'n/a'} - `));\n",
              "    const percent = span('0% done');\n",
              "    li.appendChild(percent);\n",
              "\n",
              "    outputElement.appendChild(li);\n",
              "\n",
              "    const fileDataPromise = new Promise((resolve) => {\n",
              "      const reader = new FileReader();\n",
              "      reader.onload = (e) => {\n",
              "        resolve(e.target.result);\n",
              "      };\n",
              "      reader.readAsArrayBuffer(file);\n",
              "    });\n",
              "    // Wait for the data to be ready.\n",
              "    let fileData = yield {\n",
              "      promise: fileDataPromise,\n",
              "      response: {\n",
              "        action: 'continue',\n",
              "      }\n",
              "    };\n",
              "\n",
              "    // Use a chunked sending to avoid message size limits. See b/62115660.\n",
              "    let position = 0;\n",
              "    do {\n",
              "      const length = Math.min(fileData.byteLength - position, MAX_PAYLOAD_SIZE);\n",
              "      const chunk = new Uint8Array(fileData, position, length);\n",
              "      position += length;\n",
              "\n",
              "      const base64 = btoa(String.fromCharCode.apply(null, chunk));\n",
              "      yield {\n",
              "        response: {\n",
              "          action: 'append',\n",
              "          file: file.name,\n",
              "          data: base64,\n",
              "        },\n",
              "      };\n",
              "\n",
              "      let percentDone = fileData.byteLength === 0 ?\n",
              "          100 :\n",
              "          Math.round((position / fileData.byteLength) * 100);\n",
              "      percent.textContent = `${percentDone}% done`;\n",
              "\n",
              "    } while (position < fileData.byteLength);\n",
              "  }\n",
              "\n",
              "  // All done.\n",
              "  yield {\n",
              "    response: {\n",
              "      action: 'complete',\n",
              "    }\n",
              "  };\n",
              "}\n",
              "\n",
              "scope.google = scope.google || {};\n",
              "scope.google.colab = scope.google.colab || {};\n",
              "scope.google.colab._files = {\n",
              "  _uploadFiles,\n",
              "  _uploadFilesContinue,\n",
              "};\n",
              "})(self);\n",
              "</script> "
            ]
          },
          "metadata": {}
        },
        {
          "output_type": "stream",
          "name": "stdout",
          "text": [
            "Saving names.txt to names (2).txt\n"
          ]
        }
      ]
    },
    {
      "cell_type": "code",
      "source": [
        "words = open(\"names.txt\",\"r\").read().splitlines()"
      ],
      "metadata": {
        "id": "YI2y9MAXshIK"
      },
      "execution_count": 77,
      "outputs": []
    },
    {
      "cell_type": "code",
      "source": [
        "chars = sorted(list(set(\"\".join(words))))\n",
        "stoi = {s:i+1 for i,s in enumerate(chars)}\n",
        "stoi[\".\"] = 0\n",
        "itos = {i:s for s,i in stoi.items()}\n",
        "itos"
      ],
      "metadata": {
        "colab": {
          "base_uri": "https://localhost:8080/"
        },
        "id": "hJRvOQJ6s5Qc",
        "outputId": "c5ac6fde-0cef-4db8-c38f-ba6e197a6331"
      },
      "execution_count": 78,
      "outputs": [
        {
          "output_type": "execute_result",
          "data": {
            "text/plain": [
              "{1: 'a',\n",
              " 2: 'b',\n",
              " 3: 'c',\n",
              " 4: 'd',\n",
              " 5: 'e',\n",
              " 6: 'f',\n",
              " 7: 'g',\n",
              " 8: 'h',\n",
              " 9: 'i',\n",
              " 10: 'j',\n",
              " 11: 'k',\n",
              " 12: 'l',\n",
              " 13: 'm',\n",
              " 14: 'n',\n",
              " 15: 'o',\n",
              " 16: 'p',\n",
              " 17: 'q',\n",
              " 18: 'r',\n",
              " 19: 's',\n",
              " 20: 't',\n",
              " 21: 'u',\n",
              " 22: 'v',\n",
              " 23: 'w',\n",
              " 24: 'x',\n",
              " 25: 'y',\n",
              " 26: 'z',\n",
              " 0: '.'}"
            ]
          },
          "metadata": {},
          "execution_count": 78
        }
      ]
    },
    {
      "cell_type": "markdown",
      "source": [
        "### Building dataset"
      ],
      "metadata": {
        "id": "HY9-N1Hc92dX"
      }
    },
    {
      "cell_type": "code",
      "source": [
        "block_size = 3\n",
        "\n",
        "\n",
        "xs = []\n",
        "ys = []\n",
        "\n",
        "\n",
        "context = [0]*block_size\n",
        "\n",
        "\n",
        "\n",
        "for w in words:\n",
        "\n",
        "  for ch in w + '.':\n",
        "\n",
        "    xs.append(context)\n",
        "    next = stoi[ch]\n",
        "    ys.append(next)\n",
        "\n",
        "\n",
        "    context = context[1:] + [next]\n",
        "\n",
        "\n",
        "x = torch.tensor(xs)\n",
        "y = torch.tensor(ys)"
      ],
      "metadata": {
        "id": "plqS0KeltJ2-"
      },
      "execution_count": 79,
      "outputs": []
    },
    {
      "cell_type": "code",
      "source": [
        "x.shape,y.shape"
      ],
      "metadata": {
        "colab": {
          "base_uri": "https://localhost:8080/"
        },
        "id": "1IgfI-H20A-q",
        "outputId": "5f4a7e7a-9c37-4c07-9006-57794f6aed48"
      },
      "execution_count": 80,
      "outputs": [
        {
          "output_type": "execute_result",
          "data": {
            "text/plain": [
              "(torch.Size([228146, 3]), torch.Size([228146]))"
            ]
          },
          "metadata": {},
          "execution_count": 80
        }
      ]
    },
    {
      "cell_type": "code",
      "source": [
        "x[:5]"
      ],
      "metadata": {
        "colab": {
          "base_uri": "https://localhost:8080/"
        },
        "id": "PszN2pzbD8Ag",
        "outputId": "15a160a3-8a11-4c82-f5c9-5763d17839e6"
      },
      "execution_count": 81,
      "outputs": [
        {
          "output_type": "execute_result",
          "data": {
            "text/plain": [
              "tensor([[ 0,  0,  0],\n",
              "        [ 0,  0,  5],\n",
              "        [ 0,  5, 13],\n",
              "        [ 5, 13, 13],\n",
              "        [13, 13,  1]])"
            ]
          },
          "metadata": {},
          "execution_count": 81
        }
      ]
    },
    {
      "cell_type": "markdown",
      "source": [
        "### Embedding"
      ],
      "metadata": {
        "id": "WnQ2GSz49DAm"
      }
    },
    {
      "cell_type": "code",
      "source": [
        "g = torch.Generator().manual_seed(2147483647)"
      ],
      "metadata": {
        "id": "Qt6h4qM7FowR"
      },
      "execution_count": 82,
      "outputs": []
    },
    {
      "cell_type": "code",
      "source": [
        "C = torch.randn((27,2),generator=g,requires_grad=True)\n",
        "C"
      ],
      "metadata": {
        "colab": {
          "base_uri": "https://localhost:8080/"
        },
        "id": "p0KNme2N8dBs",
        "outputId": "197c4274-17bd-48f2-98a4-1fe1f2d29727"
      },
      "execution_count": 83,
      "outputs": [
        {
          "output_type": "execute_result",
          "data": {
            "text/plain": [
              "tensor([[ 1.5674, -0.2373],\n",
              "        [-0.0274, -1.1008],\n",
              "        [ 0.2859, -0.0296],\n",
              "        [-1.5471,  0.6049],\n",
              "        [ 0.0791,  0.9046],\n",
              "        [-0.4713,  0.7868],\n",
              "        [-0.3284, -0.4330],\n",
              "        [ 1.3729,  2.9334],\n",
              "        [ 1.5618, -1.6261],\n",
              "        [ 0.6772, -0.8404],\n",
              "        [ 0.9849, -0.1484],\n",
              "        [-1.4795,  0.4483],\n",
              "        [-0.0707,  2.4968],\n",
              "        [ 2.4448, -0.6701],\n",
              "        [-1.2199,  0.3031],\n",
              "        [-1.0725,  0.7276],\n",
              "        [ 0.0511,  1.3095],\n",
              "        [-0.8022, -0.8504],\n",
              "        [-1.8068,  1.2523],\n",
              "        [ 0.1476, -1.0006],\n",
              "        [-0.5030, -1.0660],\n",
              "        [ 0.8480,  2.0275],\n",
              "        [-0.1158, -1.2078],\n",
              "        [-1.0406, -1.5367],\n",
              "        [-0.5132,  0.2961],\n",
              "        [-1.4904, -0.2838],\n",
              "        [ 0.2569,  0.2130]], requires_grad=True)"
            ]
          },
          "metadata": {},
          "execution_count": 83
        }
      ]
    },
    {
      "cell_type": "code",
      "source": [
        "C[5]"
      ],
      "metadata": {
        "colab": {
          "base_uri": "https://localhost:8080/"
        },
        "id": "GknASTwk8o6_",
        "outputId": "e78b069a-4007-4a29-d050-c462f3abd8d1"
      },
      "execution_count": 84,
      "outputs": [
        {
          "output_type": "execute_result",
          "data": {
            "text/plain": [
              "tensor([-0.4713,  0.7868], grad_fn=<SelectBackward0>)"
            ]
          },
          "metadata": {},
          "execution_count": 84
        }
      ]
    },
    {
      "cell_type": "code",
      "source": [
        "C[torch.tensor([2,3,5,5,5])]"
      ],
      "metadata": {
        "colab": {
          "base_uri": "https://localhost:8080/"
        },
        "id": "X8HWOESy8uls",
        "outputId": "e5f7a8f7-ba9c-4783-8946-f5262054eeb8"
      },
      "execution_count": 85,
      "outputs": [
        {
          "output_type": "execute_result",
          "data": {
            "text/plain": [
              "tensor([[ 0.2859, -0.0296],\n",
              "        [-1.5471,  0.6049],\n",
              "        [-0.4713,  0.7868],\n",
              "        [-0.4713,  0.7868],\n",
              "        [-0.4713,  0.7868]], grad_fn=<IndexBackward0>)"
            ]
          },
          "metadata": {},
          "execution_count": 85
        }
      ]
    },
    {
      "cell_type": "code",
      "source": [
        "C[torch.tensor([[2,3],[3,2],[5,5],[2,5]])]"
      ],
      "metadata": {
        "colab": {
          "base_uri": "https://localhost:8080/"
        },
        "id": "hpUcYIjz8y0o",
        "outputId": "2d3d291c-b758-41e5-c035-92e1607686a7"
      },
      "execution_count": 86,
      "outputs": [
        {
          "output_type": "execute_result",
          "data": {
            "text/plain": [
              "tensor([[[ 0.2859, -0.0296],\n",
              "         [-1.5471,  0.6049]],\n",
              "\n",
              "        [[-1.5471,  0.6049],\n",
              "         [ 0.2859, -0.0296]],\n",
              "\n",
              "        [[-0.4713,  0.7868],\n",
              "         [-0.4713,  0.7868]],\n",
              "\n",
              "        [[ 0.2859, -0.0296],\n",
              "         [-0.4713,  0.7868]]], grad_fn=<IndexBackward0>)"
            ]
          },
          "metadata": {},
          "execution_count": 86
        }
      ]
    },
    {
      "cell_type": "code",
      "source": [
        "emb = C[x]\n",
        "emb.shape"
      ],
      "metadata": {
        "colab": {
          "base_uri": "https://localhost:8080/"
        },
        "id": "z3O55q3W87Lb",
        "outputId": "75bbf409-345c-44ba-fcb1-1e16e2257dcc"
      },
      "execution_count": 87,
      "outputs": [
        {
          "output_type": "execute_result",
          "data": {
            "text/plain": [
              "torch.Size([228146, 3, 2])"
            ]
          },
          "metadata": {},
          "execution_count": 87
        }
      ]
    },
    {
      "cell_type": "code",
      "source": [
        "x[1],C[[0,5]],emb[1]"
      ],
      "metadata": {
        "colab": {
          "base_uri": "https://localhost:8080/"
        },
        "id": "rjFtrDcd9Qkk",
        "outputId": "faaddf90-c8c9-4225-bf46-f87a30fe7aca"
      },
      "execution_count": 88,
      "outputs": [
        {
          "output_type": "execute_result",
          "data": {
            "text/plain": [
              "(tensor([0, 0, 5]),\n",
              " tensor([[ 1.5674, -0.2373],\n",
              "         [-0.4713,  0.7868]], grad_fn=<IndexBackward0>),\n",
              " tensor([[ 1.5674, -0.2373],\n",
              "         [ 1.5674, -0.2373],\n",
              "         [-0.4713,  0.7868]], grad_fn=<SelectBackward0>))"
            ]
          },
          "metadata": {},
          "execution_count": 88
        }
      ]
    },
    {
      "cell_type": "markdown",
      "source": [
        "### Preparing input neurons to feed hidden layer"
      ],
      "metadata": {
        "id": "kumfUWwn9tHw"
      }
    },
    {
      "cell_type": "code",
      "source": [
        "emb[:5]"
      ],
      "metadata": {
        "colab": {
          "base_uri": "https://localhost:8080/"
        },
        "id": "Q5pD92bT9S9k",
        "outputId": "cb729645-1e61-48cc-d3fe-abfd6189e94c"
      },
      "execution_count": 89,
      "outputs": [
        {
          "output_type": "execute_result",
          "data": {
            "text/plain": [
              "tensor([[[ 1.5674, -0.2373],\n",
              "         [ 1.5674, -0.2373],\n",
              "         [ 1.5674, -0.2373]],\n",
              "\n",
              "        [[ 1.5674, -0.2373],\n",
              "         [ 1.5674, -0.2373],\n",
              "         [-0.4713,  0.7868]],\n",
              "\n",
              "        [[ 1.5674, -0.2373],\n",
              "         [-0.4713,  0.7868],\n",
              "         [ 2.4448, -0.6701]],\n",
              "\n",
              "        [[-0.4713,  0.7868],\n",
              "         [ 2.4448, -0.6701],\n",
              "         [ 2.4448, -0.6701]],\n",
              "\n",
              "        [[ 2.4448, -0.6701],\n",
              "         [ 2.4448, -0.6701],\n",
              "         [-0.0274, -1.1008]]], grad_fn=<SliceBackward0>)"
            ]
          },
          "metadata": {},
          "execution_count": 89
        }
      ]
    },
    {
      "cell_type": "code",
      "source": [
        "emb[:5,0]"
      ],
      "metadata": {
        "colab": {
          "base_uri": "https://localhost:8080/"
        },
        "id": "JV6ecVNpCpgt",
        "outputId": "09946361-31b2-4117-e8f1-7c479ce75272"
      },
      "execution_count": 90,
      "outputs": [
        {
          "output_type": "execute_result",
          "data": {
            "text/plain": [
              "tensor([[ 1.5674, -0.2373],\n",
              "        [ 1.5674, -0.2373],\n",
              "        [ 1.5674, -0.2373],\n",
              "        [-0.4713,  0.7868],\n",
              "        [ 2.4448, -0.6701]], grad_fn=<SelectBackward0>)"
            ]
          },
          "metadata": {},
          "execution_count": 90
        }
      ]
    },
    {
      "cell_type": "code",
      "source": [
        "torch.cat([emb[:5,0],emb[:5,1],emb[:5,2]],dim=1)"
      ],
      "metadata": {
        "colab": {
          "base_uri": "https://localhost:8080/"
        },
        "id": "0somG1eyCrzT",
        "outputId": "a4f0bed8-73aa-4370-fe46-1ae64d24fc66"
      },
      "execution_count": 91,
      "outputs": [
        {
          "output_type": "execute_result",
          "data": {
            "text/plain": [
              "tensor([[ 1.5674, -0.2373,  1.5674, -0.2373,  1.5674, -0.2373],\n",
              "        [ 1.5674, -0.2373,  1.5674, -0.2373, -0.4713,  0.7868],\n",
              "        [ 1.5674, -0.2373, -0.4713,  0.7868,  2.4448, -0.6701],\n",
              "        [-0.4713,  0.7868,  2.4448, -0.6701,  2.4448, -0.6701],\n",
              "        [ 2.4448, -0.6701,  2.4448, -0.6701, -0.0274, -1.1008]],\n",
              "       grad_fn=<CatBackward0>)"
            ]
          },
          "metadata": {},
          "execution_count": 91
        }
      ]
    },
    {
      "cell_type": "code",
      "source": [
        "torch.cat([emb[:,0],emb[:,1],emb[:,2]],dim=1).shape"
      ],
      "metadata": {
        "colab": {
          "base_uri": "https://localhost:8080/"
        },
        "id": "_OX7OKVWDw_i",
        "outputId": "42d22936-0f22-487b-eb2c-f2c3f2d83ab7"
      },
      "execution_count": 92,
      "outputs": [
        {
          "output_type": "execute_result",
          "data": {
            "text/plain": [
              "torch.Size([228146, 6])"
            ]
          },
          "metadata": {},
          "execution_count": 92
        }
      ]
    },
    {
      "cell_type": "code",
      "source": [
        "torch.cat(torch.unbind(emb,1),1).shape"
      ],
      "metadata": {
        "colab": {
          "base_uri": "https://localhost:8080/"
        },
        "id": "_rNuF2TuFY7R",
        "outputId": "42cd00ce-6514-4e3c-a7be-6bd9fcca3e89"
      },
      "execution_count": 93,
      "outputs": [
        {
          "output_type": "execute_result",
          "data": {
            "text/plain": [
              "torch.Size([228146, 6])"
            ]
          },
          "metadata": {},
          "execution_count": 93
        }
      ]
    },
    {
      "cell_type": "markdown",
      "source": [
        "### torch view and storage"
      ],
      "metadata": {
        "id": "2leDu4ueHL0w"
      }
    },
    {
      "cell_type": "code",
      "source": [
        "a = torch.arange(12)\n",
        "a"
      ],
      "metadata": {
        "colab": {
          "base_uri": "https://localhost:8080/"
        },
        "id": "nwmkaGebFo92",
        "outputId": "b222db43-55fb-43c0-f9c7-80ac7fa51969"
      },
      "execution_count": 94,
      "outputs": [
        {
          "output_type": "execute_result",
          "data": {
            "text/plain": [
              "tensor([ 0,  1,  2,  3,  4,  5,  6,  7,  8,  9, 10, 11])"
            ]
          },
          "metadata": {},
          "execution_count": 94
        }
      ]
    },
    {
      "cell_type": "code",
      "source": [
        "a.storage()"
      ],
      "metadata": {
        "colab": {
          "base_uri": "https://localhost:8080/"
        },
        "id": "Ud5XYn0rHU5G",
        "outputId": "44637239-5458-4909-efa6-abb4fedd82a0"
      },
      "execution_count": 95,
      "outputs": [
        {
          "output_type": "execute_result",
          "data": {
            "text/plain": [
              " 0\n",
              " 1\n",
              " 2\n",
              " 3\n",
              " 4\n",
              " 5\n",
              " 6\n",
              " 7\n",
              " 8\n",
              " 9\n",
              " 10\n",
              " 11\n",
              "[torch.storage.TypedStorage(dtype=torch.int64, device=cpu) of size 12]"
            ]
          },
          "metadata": {},
          "execution_count": 95
        }
      ]
    },
    {
      "cell_type": "code",
      "source": [
        "a.view(3,4)"
      ],
      "metadata": {
        "colab": {
          "base_uri": "https://localhost:8080/"
        },
        "id": "s3mcF0X8HWi4",
        "outputId": "102e89f0-c5a3-4782-c79d-23bd6d23c0f8"
      },
      "execution_count": 96,
      "outputs": [
        {
          "output_type": "execute_result",
          "data": {
            "text/plain": [
              "tensor([[ 0,  1,  2,  3],\n",
              "        [ 4,  5,  6,  7],\n",
              "        [ 8,  9, 10, 11]])"
            ]
          },
          "metadata": {},
          "execution_count": 96
        }
      ]
    },
    {
      "cell_type": "code",
      "source": [
        "#only view has been changed memory allocation of a is same as before\n",
        "\n",
        "# https://blog.ezyang.com/2019/05/pytorch-internals/\n",
        "\n",
        "a.view(3,4).storage()"
      ],
      "metadata": {
        "colab": {
          "base_uri": "https://localhost:8080/"
        },
        "id": "7ydimfovHbTS",
        "outputId": "2171887d-abf2-4bbc-f7ce-73fd7f228179"
      },
      "execution_count": 97,
      "outputs": [
        {
          "output_type": "execute_result",
          "data": {
            "text/plain": [
              " 0\n",
              " 1\n",
              " 2\n",
              " 3\n",
              " 4\n",
              " 5\n",
              " 6\n",
              " 7\n",
              " 8\n",
              " 9\n",
              " 10\n",
              " 11\n",
              "[torch.storage.TypedStorage(dtype=torch.int64, device=cpu) of size 12]"
            ]
          },
          "metadata": {},
          "execution_count": 97
        }
      ]
    },
    {
      "cell_type": "markdown",
      "source": [
        "### Implementing hidden layer"
      ],
      "metadata": {
        "id": "3dyBjxy3Ibuq"
      }
    },
    {
      "cell_type": "code",
      "source": [
        "W1 = torch.randn((6,100),generator=g,requires_grad=True)\n",
        "b1 = torch.randn(100,generator=g,requires_grad=True)"
      ],
      "metadata": {
        "id": "4OKJJloHIpKH"
      },
      "execution_count": 98,
      "outputs": []
    },
    {
      "cell_type": "code",
      "source": [
        "h = torch.tanh(emb.view(-1,6) @ W1 + b1)"
      ],
      "metadata": {
        "id": "rq2HJ0ijHd0j"
      },
      "execution_count": 99,
      "outputs": []
    },
    {
      "cell_type": "code",
      "source": [
        "h.shape , h"
      ],
      "metadata": {
        "colab": {
          "base_uri": "https://localhost:8080/"
        },
        "id": "E_zxra8SI1Fl",
        "outputId": "928dc9a6-c234-49ad-ee80-499a1a2b95b2"
      },
      "execution_count": 100,
      "outputs": [
        {
          "output_type": "execute_result",
          "data": {
            "text/plain": [
              "(torch.Size([228146, 100]),\n",
              " tensor([[-0.9348,  1.0000,  0.9258,  ...,  0.9786, -0.1926,  0.9515],\n",
              "         [ 0.2797,  0.9997,  0.7675,  ...,  0.9929,  0.9992,  0.9981],\n",
              "         [-0.9960,  1.0000, -0.8694,  ..., -0.5159, -1.0000, -0.0069],\n",
              "         ...,\n",
              "         [-0.4849,  0.9972, -0.6418,  ..., -0.9641,  0.9996,  0.9873],\n",
              "         [-0.9318,  0.9926, -0.9841,  ..., -0.8989, -0.9938,  0.5930],\n",
              "         [-0.9736,  0.3844, -0.8744,  ..., -0.5093,  0.9998, -0.9975]],\n",
              "        grad_fn=<TanhBackward0>))"
            ]
          },
          "metadata": {},
          "execution_count": 100
        }
      ]
    },
    {
      "cell_type": "markdown",
      "source": [
        "### Output layer"
      ],
      "metadata": {
        "id": "ZoEPj-QilRQN"
      }
    },
    {
      "cell_type": "code",
      "source": [
        "W2 = torch.randn((100,27),generator=g,requires_grad=True)\n",
        "b2 = torch.randn(27,generator=g,requires_grad=True)"
      ],
      "metadata": {
        "id": "-2Qqzl2uI2R7"
      },
      "execution_count": 101,
      "outputs": []
    },
    {
      "cell_type": "code",
      "source": [
        "logits = h @ W2 + b2\n",
        "logits.shape"
      ],
      "metadata": {
        "colab": {
          "base_uri": "https://localhost:8080/"
        },
        "id": "GUIWXedYmOC_",
        "outputId": "817250be-7496-4c79-c340-6f8bcd922f03"
      },
      "execution_count": 102,
      "outputs": [
        {
          "output_type": "execute_result",
          "data": {
            "text/plain": [
              "torch.Size([228146, 27])"
            ]
          },
          "metadata": {},
          "execution_count": 102
        }
      ]
    },
    {
      "cell_type": "markdown",
      "source": [
        "### Softmax"
      ],
      "metadata": {
        "id": "z7drRdoxm1O3"
      }
    },
    {
      "cell_type": "code",
      "source": [
        "p = logits.exp()\n",
        "p /= p.sum(1,keepdim=True)\n",
        "\n",
        "p.shape"
      ],
      "metadata": {
        "colab": {
          "base_uri": "https://localhost:8080/"
        },
        "id": "2C0I-qR5muC7",
        "outputId": "636b6f37-c20d-4770-ee49-18bba3986c08"
      },
      "execution_count": 103,
      "outputs": [
        {
          "output_type": "execute_result",
          "data": {
            "text/plain": [
              "torch.Size([228146, 27])"
            ]
          },
          "metadata": {},
          "execution_count": 103
        }
      ]
    },
    {
      "cell_type": "markdown",
      "source": [
        "### Loss"
      ],
      "metadata": {
        "id": "TFbINE7HoYlA"
      }
    },
    {
      "cell_type": "code",
      "source": [
        "loss = -p[torch.arange(p.shape[0]),y].log().mean()\n",
        "loss"
      ],
      "metadata": {
        "colab": {
          "base_uri": "https://localhost:8080/"
        },
        "id": "teXnvqZ2oapz",
        "outputId": "1df78b41-a97a-4e0a-8984-aa95338fcd37"
      },
      "execution_count": 104,
      "outputs": [
        {
          "output_type": "execute_result",
          "data": {
            "text/plain": [
              "tensor(19.2358, grad_fn=<NegBackward0>)"
            ]
          },
          "metadata": {},
          "execution_count": 104
        }
      ]
    },
    {
      "cell_type": "markdown",
      "source": [
        "### Efficient way to calculate Loss"
      ],
      "metadata": {
        "id": "dj28K8wSBdBl"
      }
    },
    {
      "cell_type": "code",
      "source": [
        "loss = F.cross_entropy(logits,y)\n",
        "loss"
      ],
      "metadata": {
        "colab": {
          "base_uri": "https://localhost:8080/"
        },
        "id": "4OokKI5nBXLP",
        "outputId": "ad2d7689-3149-491f-cfeb-5098c087bbbc"
      },
      "execution_count": 105,
      "outputs": [
        {
          "output_type": "execute_result",
          "data": {
            "text/plain": [
              "tensor(19.2358, grad_fn=<NllLossBackward0>)"
            ]
          },
          "metadata": {},
          "execution_count": 105
        }
      ]
    },
    {
      "cell_type": "markdown",
      "source": [
        "### Backpropagation"
      ],
      "metadata": {
        "id": "rArAyJOQoC47"
      }
    },
    {
      "cell_type": "code",
      "source": [
        "parameters = [C,W1,b1,W2,b2]"
      ],
      "metadata": {
        "id": "4XmBke_h3x3_"
      },
      "execution_count": 106,
      "outputs": []
    },
    {
      "cell_type": "code",
      "source": [
        "for p in parameters:\n",
        "\n",
        "  #p.requires_grad = True\n",
        "  #don't set requires_grad here → must be set at init time,\n",
        "  #otherwise loss won't track this param in the graph\n",
        "\n",
        "  #fixed it , remember it\n",
        "\n",
        "  p.grad = None"
      ],
      "metadata": {
        "id": "48ZNzfdA4XmT"
      },
      "execution_count": 107,
      "outputs": []
    },
    {
      "cell_type": "code",
      "source": [
        "loss.backward()"
      ],
      "metadata": {
        "id": "S_MqetFnE0zs"
      },
      "execution_count": 108,
      "outputs": []
    },
    {
      "cell_type": "markdown",
      "source": [
        "## What’s happening under the hood?\n",
        "\n",
        "* When you create a parameter with requires_grad=True, PyTorch starts tracking\n",
        "every operation involving it and builds a computation graph.\n",
        "\n",
        "* During loss.backward(), PyTorch walks backward through this graph and fills in p.grad for each parameter.\n",
        "\n",
        "* Gradients accumulate in .grad (they don’t overwrite). That’s why we set p.grad = None before each backward pass.\n",
        "\n",
        "* If you accidentally set requires_grad=True after the forward pass, the computation graph was already built without tracking, so no grads flow → loss.backward() fails."
      ],
      "metadata": {
        "id": "qFH0vclwHfHG"
      }
    },
    {
      "cell_type": "code",
      "source": [
        "for p in parameters:\n",
        "  p.data -= 0.01 * p.grad"
      ],
      "metadata": {
        "id": "OUDzHD9tFHbt"
      },
      "execution_count": 115,
      "outputs": []
    },
    {
      "cell_type": "markdown",
      "source": [
        "### Forward pass"
      ],
      "metadata": {
        "id": "rjBfNAreN5fA"
      }
    },
    {
      "cell_type": "code",
      "source": [
        "h = torch.tanh(emb.view(-1,6) @ W1 + b1 )\n",
        "logits = h @ W2 +b2\n",
        "loss = F.cross_entropy(logits,y)\n",
        "loss                  #decreased liltle bit"
      ],
      "metadata": {
        "colab": {
          "base_uri": "https://localhost:8080/"
        },
        "id": "k_WV-b2ANnsa",
        "outputId": "792b9955-90b4-4b79-e5ee-0ece8d25ebbf"
      },
      "execution_count": 116,
      "outputs": [
        {
          "output_type": "execute_result",
          "data": {
            "text/plain": [
              "tensor(19.1409, grad_fn=<NllLossBackward0>)"
            ]
          },
          "metadata": {},
          "execution_count": 116
        }
      ]
    },
    {
      "cell_type": "code",
      "source": [],
      "metadata": {
        "id": "b2op2CxQNqkR"
      },
      "execution_count": null,
      "outputs": []
    }
  ]
}