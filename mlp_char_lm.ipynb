{
  "nbformat": 4,
  "nbformat_minor": 0,
  "metadata": {
    "colab": {
      "provenance": [],
      "authorship_tag": "ABX9TyPawtgPsYRhIZcpJWgH6rx7",
      "include_colab_link": true
    },
    "kernelspec": {
      "name": "python3",
      "display_name": "Python 3"
    },
    "language_info": {
      "name": "python"
    }
  },
  "cells": [
    {
      "cell_type": "markdown",
      "metadata": {
        "id": "view-in-github",
        "colab_type": "text"
      },
      "source": [
        "<a href=\"https://colab.research.google.com/github/samitha278/multilayer-perceptron-char-lm/blob/main/mlp_char_lm.ipynb\" target=\"_parent\"><img src=\"https://colab.research.google.com/assets/colab-badge.svg\" alt=\"Open In Colab\"/></a>"
      ]
    },
    {
      "cell_type": "code",
      "execution_count": 134,
      "metadata": {
        "id": "36X2bq5nVf4y"
      },
      "outputs": [],
      "source": [
        "import torch\n",
        "import torch.nn.functional as F\n",
        "import matplotlib.pyplot as plt"
      ]
    },
    {
      "cell_type": "code",
      "source": [
        "from google.colab import files\n",
        "\n",
        "uploaded = files.upload()\n"
      ],
      "metadata": {
        "colab": {
          "base_uri": "https://localhost:8080/",
          "height": 73
        },
        "id": "_qlY2cy2s6sn",
        "outputId": "b17dce13-cf07-4dc8-8d46-386f0a606003"
      },
      "execution_count": 135,
      "outputs": [
        {
          "output_type": "display_data",
          "data": {
            "text/plain": [
              "<IPython.core.display.HTML object>"
            ],
            "text/html": [
              "\n",
              "     <input type=\"file\" id=\"files-9aa78925-064a-46bc-b23f-f4fd67ad358c\" name=\"files[]\" multiple disabled\n",
              "        style=\"border:none\" />\n",
              "     <output id=\"result-9aa78925-064a-46bc-b23f-f4fd67ad358c\">\n",
              "      Upload widget is only available when the cell has been executed in the\n",
              "      current browser session. Please rerun this cell to enable.\n",
              "      </output>\n",
              "      <script>// Copyright 2017 Google LLC\n",
              "//\n",
              "// Licensed under the Apache License, Version 2.0 (the \"License\");\n",
              "// you may not use this file except in compliance with the License.\n",
              "// You may obtain a copy of the License at\n",
              "//\n",
              "//      http://www.apache.org/licenses/LICENSE-2.0\n",
              "//\n",
              "// Unless required by applicable law or agreed to in writing, software\n",
              "// distributed under the License is distributed on an \"AS IS\" BASIS,\n",
              "// WITHOUT WARRANTIES OR CONDITIONS OF ANY KIND, either express or implied.\n",
              "// See the License for the specific language governing permissions and\n",
              "// limitations under the License.\n",
              "\n",
              "/**\n",
              " * @fileoverview Helpers for google.colab Python module.\n",
              " */\n",
              "(function(scope) {\n",
              "function span(text, styleAttributes = {}) {\n",
              "  const element = document.createElement('span');\n",
              "  element.textContent = text;\n",
              "  for (const key of Object.keys(styleAttributes)) {\n",
              "    element.style[key] = styleAttributes[key];\n",
              "  }\n",
              "  return element;\n",
              "}\n",
              "\n",
              "// Max number of bytes which will be uploaded at a time.\n",
              "const MAX_PAYLOAD_SIZE = 100 * 1024;\n",
              "\n",
              "function _uploadFiles(inputId, outputId) {\n",
              "  const steps = uploadFilesStep(inputId, outputId);\n",
              "  const outputElement = document.getElementById(outputId);\n",
              "  // Cache steps on the outputElement to make it available for the next call\n",
              "  // to uploadFilesContinue from Python.\n",
              "  outputElement.steps = steps;\n",
              "\n",
              "  return _uploadFilesContinue(outputId);\n",
              "}\n",
              "\n",
              "// This is roughly an async generator (not supported in the browser yet),\n",
              "// where there are multiple asynchronous steps and the Python side is going\n",
              "// to poll for completion of each step.\n",
              "// This uses a Promise to block the python side on completion of each step,\n",
              "// then passes the result of the previous step as the input to the next step.\n",
              "function _uploadFilesContinue(outputId) {\n",
              "  const outputElement = document.getElementById(outputId);\n",
              "  const steps = outputElement.steps;\n",
              "\n",
              "  const next = steps.next(outputElement.lastPromiseValue);\n",
              "  return Promise.resolve(next.value.promise).then((value) => {\n",
              "    // Cache the last promise value to make it available to the next\n",
              "    // step of the generator.\n",
              "    outputElement.lastPromiseValue = value;\n",
              "    return next.value.response;\n",
              "  });\n",
              "}\n",
              "\n",
              "/**\n",
              " * Generator function which is called between each async step of the upload\n",
              " * process.\n",
              " * @param {string} inputId Element ID of the input file picker element.\n",
              " * @param {string} outputId Element ID of the output display.\n",
              " * @return {!Iterable<!Object>} Iterable of next steps.\n",
              " */\n",
              "function* uploadFilesStep(inputId, outputId) {\n",
              "  const inputElement = document.getElementById(inputId);\n",
              "  inputElement.disabled = false;\n",
              "\n",
              "  const outputElement = document.getElementById(outputId);\n",
              "  outputElement.innerHTML = '';\n",
              "\n",
              "  const pickedPromise = new Promise((resolve) => {\n",
              "    inputElement.addEventListener('change', (e) => {\n",
              "      resolve(e.target.files);\n",
              "    });\n",
              "  });\n",
              "\n",
              "  const cancel = document.createElement('button');\n",
              "  inputElement.parentElement.appendChild(cancel);\n",
              "  cancel.textContent = 'Cancel upload';\n",
              "  const cancelPromise = new Promise((resolve) => {\n",
              "    cancel.onclick = () => {\n",
              "      resolve(null);\n",
              "    };\n",
              "  });\n",
              "\n",
              "  // Wait for the user to pick the files.\n",
              "  const files = yield {\n",
              "    promise: Promise.race([pickedPromise, cancelPromise]),\n",
              "    response: {\n",
              "      action: 'starting',\n",
              "    }\n",
              "  };\n",
              "\n",
              "  cancel.remove();\n",
              "\n",
              "  // Disable the input element since further picks are not allowed.\n",
              "  inputElement.disabled = true;\n",
              "\n",
              "  if (!files) {\n",
              "    return {\n",
              "      response: {\n",
              "        action: 'complete',\n",
              "      }\n",
              "    };\n",
              "  }\n",
              "\n",
              "  for (const file of files) {\n",
              "    const li = document.createElement('li');\n",
              "    li.append(span(file.name, {fontWeight: 'bold'}));\n",
              "    li.append(span(\n",
              "        `(${file.type || 'n/a'}) - ${file.size} bytes, ` +\n",
              "        `last modified: ${\n",
              "            file.lastModifiedDate ? file.lastModifiedDate.toLocaleDateString() :\n",
              "                                    'n/a'} - `));\n",
              "    const percent = span('0% done');\n",
              "    li.appendChild(percent);\n",
              "\n",
              "    outputElement.appendChild(li);\n",
              "\n",
              "    const fileDataPromise = new Promise((resolve) => {\n",
              "      const reader = new FileReader();\n",
              "      reader.onload = (e) => {\n",
              "        resolve(e.target.result);\n",
              "      };\n",
              "      reader.readAsArrayBuffer(file);\n",
              "    });\n",
              "    // Wait for the data to be ready.\n",
              "    let fileData = yield {\n",
              "      promise: fileDataPromise,\n",
              "      response: {\n",
              "        action: 'continue',\n",
              "      }\n",
              "    };\n",
              "\n",
              "    // Use a chunked sending to avoid message size limits. See b/62115660.\n",
              "    let position = 0;\n",
              "    do {\n",
              "      const length = Math.min(fileData.byteLength - position, MAX_PAYLOAD_SIZE);\n",
              "      const chunk = new Uint8Array(fileData, position, length);\n",
              "      position += length;\n",
              "\n",
              "      const base64 = btoa(String.fromCharCode.apply(null, chunk));\n",
              "      yield {\n",
              "        response: {\n",
              "          action: 'append',\n",
              "          file: file.name,\n",
              "          data: base64,\n",
              "        },\n",
              "      };\n",
              "\n",
              "      let percentDone = fileData.byteLength === 0 ?\n",
              "          100 :\n",
              "          Math.round((position / fileData.byteLength) * 100);\n",
              "      percent.textContent = `${percentDone}% done`;\n",
              "\n",
              "    } while (position < fileData.byteLength);\n",
              "  }\n",
              "\n",
              "  // All done.\n",
              "  yield {\n",
              "    response: {\n",
              "      action: 'complete',\n",
              "    }\n",
              "  };\n",
              "}\n",
              "\n",
              "scope.google = scope.google || {};\n",
              "scope.google.colab = scope.google.colab || {};\n",
              "scope.google.colab._files = {\n",
              "  _uploadFiles,\n",
              "  _uploadFilesContinue,\n",
              "};\n",
              "})(self);\n",
              "</script> "
            ]
          },
          "metadata": {}
        },
        {
          "output_type": "stream",
          "name": "stdout",
          "text": [
            "Saving names.txt to names (3).txt\n"
          ]
        }
      ]
    },
    {
      "cell_type": "code",
      "source": [
        "words = open(\"names.txt\",\"r\").read().splitlines()"
      ],
      "metadata": {
        "id": "YI2y9MAXshIK"
      },
      "execution_count": 136,
      "outputs": []
    },
    {
      "cell_type": "code",
      "source": [
        "chars = sorted(list(set(\"\".join(words))))\n",
        "stoi = {s:i+1 for i,s in enumerate(chars)}\n",
        "stoi[\".\"] = 0\n",
        "itos = {i:s for s,i in stoi.items()}\n",
        "itos"
      ],
      "metadata": {
        "colab": {
          "base_uri": "https://localhost:8080/"
        },
        "id": "hJRvOQJ6s5Qc",
        "outputId": "18313def-6fa5-4cca-e5b3-e926b18af0e9"
      },
      "execution_count": 137,
      "outputs": [
        {
          "output_type": "execute_result",
          "data": {
            "text/plain": [
              "{1: 'a',\n",
              " 2: 'b',\n",
              " 3: 'c',\n",
              " 4: 'd',\n",
              " 5: 'e',\n",
              " 6: 'f',\n",
              " 7: 'g',\n",
              " 8: 'h',\n",
              " 9: 'i',\n",
              " 10: 'j',\n",
              " 11: 'k',\n",
              " 12: 'l',\n",
              " 13: 'm',\n",
              " 14: 'n',\n",
              " 15: 'o',\n",
              " 16: 'p',\n",
              " 17: 'q',\n",
              " 18: 'r',\n",
              " 19: 's',\n",
              " 20: 't',\n",
              " 21: 'u',\n",
              " 22: 'v',\n",
              " 23: 'w',\n",
              " 24: 'x',\n",
              " 25: 'y',\n",
              " 26: 'z',\n",
              " 0: '.'}"
            ]
          },
          "metadata": {},
          "execution_count": 137
        }
      ]
    },
    {
      "cell_type": "markdown",
      "source": [
        "### Building dataset"
      ],
      "metadata": {
        "id": "HY9-N1Hc92dX"
      }
    },
    {
      "cell_type": "code",
      "source": [
        "block_size = 3\n",
        "\n",
        "\n",
        "xs = []\n",
        "ys = []\n",
        "\n",
        "\n",
        "context = [0]*block_size\n",
        "\n",
        "\n",
        "\n",
        "for w in words:\n",
        "\n",
        "  for ch in w + '.':\n",
        "\n",
        "    xs.append(context)\n",
        "    next = stoi[ch]\n",
        "    ys.append(next)\n",
        "\n",
        "\n",
        "    context = context[1:] + [next]\n",
        "\n",
        "\n",
        "x = torch.tensor(xs)\n",
        "y = torch.tensor(ys)"
      ],
      "metadata": {
        "id": "plqS0KeltJ2-"
      },
      "execution_count": 138,
      "outputs": []
    },
    {
      "cell_type": "code",
      "source": [
        "x.shape,y.shape"
      ],
      "metadata": {
        "colab": {
          "base_uri": "https://localhost:8080/"
        },
        "id": "1IgfI-H20A-q",
        "outputId": "bbc139e2-f98d-4ae9-9774-c5a254f443fa"
      },
      "execution_count": 139,
      "outputs": [
        {
          "output_type": "execute_result",
          "data": {
            "text/plain": [
              "(torch.Size([228146, 3]), torch.Size([228146]))"
            ]
          },
          "metadata": {},
          "execution_count": 139
        }
      ]
    },
    {
      "cell_type": "code",
      "source": [
        "x[:5]"
      ],
      "metadata": {
        "colab": {
          "base_uri": "https://localhost:8080/"
        },
        "id": "PszN2pzbD8Ag",
        "outputId": "5c9a35e8-e6a5-4f5c-fb8b-1c5d8809808e"
      },
      "execution_count": 140,
      "outputs": [
        {
          "output_type": "execute_result",
          "data": {
            "text/plain": [
              "tensor([[ 0,  0,  0],\n",
              "        [ 0,  0,  5],\n",
              "        [ 0,  5, 13],\n",
              "        [ 5, 13, 13],\n",
              "        [13, 13,  1]])"
            ]
          },
          "metadata": {},
          "execution_count": 140
        }
      ]
    },
    {
      "cell_type": "markdown",
      "source": [
        "### Embedding"
      ],
      "metadata": {
        "id": "WnQ2GSz49DAm"
      }
    },
    {
      "cell_type": "code",
      "source": [
        "g = torch.Generator().manual_seed(2147483647)"
      ],
      "metadata": {
        "id": "Qt6h4qM7FowR"
      },
      "execution_count": 141,
      "outputs": []
    },
    {
      "cell_type": "code",
      "source": [
        "C = torch.randn((27,2),generator=g,requires_grad=True)\n",
        "C"
      ],
      "metadata": {
        "colab": {
          "base_uri": "https://localhost:8080/"
        },
        "id": "p0KNme2N8dBs",
        "outputId": "9e1af947-4741-42ab-cc31-35d3b09c17cf"
      },
      "execution_count": 142,
      "outputs": [
        {
          "output_type": "execute_result",
          "data": {
            "text/plain": [
              "tensor([[ 1.5674, -0.2373],\n",
              "        [-0.0274, -1.1008],\n",
              "        [ 0.2859, -0.0296],\n",
              "        [-1.5471,  0.6049],\n",
              "        [ 0.0791,  0.9046],\n",
              "        [-0.4713,  0.7868],\n",
              "        [-0.3284, -0.4330],\n",
              "        [ 1.3729,  2.9334],\n",
              "        [ 1.5618, -1.6261],\n",
              "        [ 0.6772, -0.8404],\n",
              "        [ 0.9849, -0.1484],\n",
              "        [-1.4795,  0.4483],\n",
              "        [-0.0707,  2.4968],\n",
              "        [ 2.4448, -0.6701],\n",
              "        [-1.2199,  0.3031],\n",
              "        [-1.0725,  0.7276],\n",
              "        [ 0.0511,  1.3095],\n",
              "        [-0.8022, -0.8504],\n",
              "        [-1.8068,  1.2523],\n",
              "        [ 0.1476, -1.0006],\n",
              "        [-0.5030, -1.0660],\n",
              "        [ 0.8480,  2.0275],\n",
              "        [-0.1158, -1.2078],\n",
              "        [-1.0406, -1.5367],\n",
              "        [-0.5132,  0.2961],\n",
              "        [-1.4904, -0.2838],\n",
              "        [ 0.2569,  0.2130]], requires_grad=True)"
            ]
          },
          "metadata": {},
          "execution_count": 142
        }
      ]
    },
    {
      "cell_type": "code",
      "source": [
        "C[5]"
      ],
      "metadata": {
        "colab": {
          "base_uri": "https://localhost:8080/"
        },
        "id": "GknASTwk8o6_",
        "outputId": "8d61691d-b97d-4062-d4fb-916d82ffdc68"
      },
      "execution_count": 143,
      "outputs": [
        {
          "output_type": "execute_result",
          "data": {
            "text/plain": [
              "tensor([-0.4713,  0.7868], grad_fn=<SelectBackward0>)"
            ]
          },
          "metadata": {},
          "execution_count": 143
        }
      ]
    },
    {
      "cell_type": "code",
      "source": [
        "C[torch.tensor([2,3,5,5,5])]"
      ],
      "metadata": {
        "colab": {
          "base_uri": "https://localhost:8080/"
        },
        "id": "X8HWOESy8uls",
        "outputId": "7b2e70af-56ea-41fd-a23b-a2d9c57bf011"
      },
      "execution_count": 144,
      "outputs": [
        {
          "output_type": "execute_result",
          "data": {
            "text/plain": [
              "tensor([[ 0.2859, -0.0296],\n",
              "        [-1.5471,  0.6049],\n",
              "        [-0.4713,  0.7868],\n",
              "        [-0.4713,  0.7868],\n",
              "        [-0.4713,  0.7868]], grad_fn=<IndexBackward0>)"
            ]
          },
          "metadata": {},
          "execution_count": 144
        }
      ]
    },
    {
      "cell_type": "code",
      "source": [
        "C[torch.tensor([[2,3],[3,2],[5,5],[2,5]])]"
      ],
      "metadata": {
        "colab": {
          "base_uri": "https://localhost:8080/"
        },
        "id": "hpUcYIjz8y0o",
        "outputId": "50af64b3-fede-4e7f-9027-2d44d82172db"
      },
      "execution_count": 145,
      "outputs": [
        {
          "output_type": "execute_result",
          "data": {
            "text/plain": [
              "tensor([[[ 0.2859, -0.0296],\n",
              "         [-1.5471,  0.6049]],\n",
              "\n",
              "        [[-1.5471,  0.6049],\n",
              "         [ 0.2859, -0.0296]],\n",
              "\n",
              "        [[-0.4713,  0.7868],\n",
              "         [-0.4713,  0.7868]],\n",
              "\n",
              "        [[ 0.2859, -0.0296],\n",
              "         [-0.4713,  0.7868]]], grad_fn=<IndexBackward0>)"
            ]
          },
          "metadata": {},
          "execution_count": 145
        }
      ]
    },
    {
      "cell_type": "code",
      "source": [
        "emb = C[x]\n",
        "emb.shape"
      ],
      "metadata": {
        "colab": {
          "base_uri": "https://localhost:8080/"
        },
        "id": "z3O55q3W87Lb",
        "outputId": "c82875c0-4df8-4f89-a2dc-39c14a1d9adc"
      },
      "execution_count": 146,
      "outputs": [
        {
          "output_type": "execute_result",
          "data": {
            "text/plain": [
              "torch.Size([228146, 3, 2])"
            ]
          },
          "metadata": {},
          "execution_count": 146
        }
      ]
    },
    {
      "cell_type": "code",
      "source": [
        "x[1],C[[0,5]],emb[1]"
      ],
      "metadata": {
        "colab": {
          "base_uri": "https://localhost:8080/"
        },
        "id": "rjFtrDcd9Qkk",
        "outputId": "14d8c5cf-dd37-4593-cc7c-309734e6d88c"
      },
      "execution_count": 147,
      "outputs": [
        {
          "output_type": "execute_result",
          "data": {
            "text/plain": [
              "(tensor([0, 0, 5]),\n",
              " tensor([[ 1.5674, -0.2373],\n",
              "         [-0.4713,  0.7868]], grad_fn=<IndexBackward0>),\n",
              " tensor([[ 1.5674, -0.2373],\n",
              "         [ 1.5674, -0.2373],\n",
              "         [-0.4713,  0.7868]], grad_fn=<SelectBackward0>))"
            ]
          },
          "metadata": {},
          "execution_count": 147
        }
      ]
    },
    {
      "cell_type": "markdown",
      "source": [
        "### Preparing input neurons to feed hidden layer"
      ],
      "metadata": {
        "id": "kumfUWwn9tHw"
      }
    },
    {
      "cell_type": "code",
      "source": [
        "emb[:5]"
      ],
      "metadata": {
        "colab": {
          "base_uri": "https://localhost:8080/"
        },
        "id": "Q5pD92bT9S9k",
        "outputId": "e32a77bd-cf7d-4a67-a7b0-441f47d39584"
      },
      "execution_count": 148,
      "outputs": [
        {
          "output_type": "execute_result",
          "data": {
            "text/plain": [
              "tensor([[[ 1.5674, -0.2373],\n",
              "         [ 1.5674, -0.2373],\n",
              "         [ 1.5674, -0.2373]],\n",
              "\n",
              "        [[ 1.5674, -0.2373],\n",
              "         [ 1.5674, -0.2373],\n",
              "         [-0.4713,  0.7868]],\n",
              "\n",
              "        [[ 1.5674, -0.2373],\n",
              "         [-0.4713,  0.7868],\n",
              "         [ 2.4448, -0.6701]],\n",
              "\n",
              "        [[-0.4713,  0.7868],\n",
              "         [ 2.4448, -0.6701],\n",
              "         [ 2.4448, -0.6701]],\n",
              "\n",
              "        [[ 2.4448, -0.6701],\n",
              "         [ 2.4448, -0.6701],\n",
              "         [-0.0274, -1.1008]]], grad_fn=<SliceBackward0>)"
            ]
          },
          "metadata": {},
          "execution_count": 148
        }
      ]
    },
    {
      "cell_type": "code",
      "source": [
        "emb[:5,0]"
      ],
      "metadata": {
        "colab": {
          "base_uri": "https://localhost:8080/"
        },
        "id": "JV6ecVNpCpgt",
        "outputId": "2de8db76-d48e-4e2c-9fcf-9687aab524ff"
      },
      "execution_count": 149,
      "outputs": [
        {
          "output_type": "execute_result",
          "data": {
            "text/plain": [
              "tensor([[ 1.5674, -0.2373],\n",
              "        [ 1.5674, -0.2373],\n",
              "        [ 1.5674, -0.2373],\n",
              "        [-0.4713,  0.7868],\n",
              "        [ 2.4448, -0.6701]], grad_fn=<SelectBackward0>)"
            ]
          },
          "metadata": {},
          "execution_count": 149
        }
      ]
    },
    {
      "cell_type": "code",
      "source": [
        "torch.cat([emb[:5,0],emb[:5,1],emb[:5,2]],dim=1)"
      ],
      "metadata": {
        "colab": {
          "base_uri": "https://localhost:8080/"
        },
        "id": "0somG1eyCrzT",
        "outputId": "3a890098-d9c1-4282-d8c7-7ca53d17c13a"
      },
      "execution_count": 150,
      "outputs": [
        {
          "output_type": "execute_result",
          "data": {
            "text/plain": [
              "tensor([[ 1.5674, -0.2373,  1.5674, -0.2373,  1.5674, -0.2373],\n",
              "        [ 1.5674, -0.2373,  1.5674, -0.2373, -0.4713,  0.7868],\n",
              "        [ 1.5674, -0.2373, -0.4713,  0.7868,  2.4448, -0.6701],\n",
              "        [-0.4713,  0.7868,  2.4448, -0.6701,  2.4448, -0.6701],\n",
              "        [ 2.4448, -0.6701,  2.4448, -0.6701, -0.0274, -1.1008]],\n",
              "       grad_fn=<CatBackward0>)"
            ]
          },
          "metadata": {},
          "execution_count": 150
        }
      ]
    },
    {
      "cell_type": "code",
      "source": [
        "torch.cat([emb[:,0],emb[:,1],emb[:,2]],dim=1).shape"
      ],
      "metadata": {
        "colab": {
          "base_uri": "https://localhost:8080/"
        },
        "id": "_OX7OKVWDw_i",
        "outputId": "6c7510d8-dc96-4b93-a485-2ec2973364d3"
      },
      "execution_count": 151,
      "outputs": [
        {
          "output_type": "execute_result",
          "data": {
            "text/plain": [
              "torch.Size([228146, 6])"
            ]
          },
          "metadata": {},
          "execution_count": 151
        }
      ]
    },
    {
      "cell_type": "code",
      "source": [
        "torch.cat(torch.unbind(emb,1),1).shape"
      ],
      "metadata": {
        "colab": {
          "base_uri": "https://localhost:8080/"
        },
        "id": "_rNuF2TuFY7R",
        "outputId": "56be76dc-d42e-465e-9e7a-b9d07d4a5ebc"
      },
      "execution_count": 152,
      "outputs": [
        {
          "output_type": "execute_result",
          "data": {
            "text/plain": [
              "torch.Size([228146, 6])"
            ]
          },
          "metadata": {},
          "execution_count": 152
        }
      ]
    },
    {
      "cell_type": "markdown",
      "source": [
        "### torch view and storage"
      ],
      "metadata": {
        "id": "2leDu4ueHL0w"
      }
    },
    {
      "cell_type": "code",
      "source": [
        "a = torch.arange(12)\n",
        "a"
      ],
      "metadata": {
        "colab": {
          "base_uri": "https://localhost:8080/"
        },
        "id": "nwmkaGebFo92",
        "outputId": "494ead83-4619-41fd-9851-e3ab0981428d"
      },
      "execution_count": 153,
      "outputs": [
        {
          "output_type": "execute_result",
          "data": {
            "text/plain": [
              "tensor([ 0,  1,  2,  3,  4,  5,  6,  7,  8,  9, 10, 11])"
            ]
          },
          "metadata": {},
          "execution_count": 153
        }
      ]
    },
    {
      "cell_type": "code",
      "source": [
        "a.storage()"
      ],
      "metadata": {
        "colab": {
          "base_uri": "https://localhost:8080/"
        },
        "id": "Ud5XYn0rHU5G",
        "outputId": "584e2f79-686a-4eca-b457-4d06af103cb7"
      },
      "execution_count": 154,
      "outputs": [
        {
          "output_type": "execute_result",
          "data": {
            "text/plain": [
              " 0\n",
              " 1\n",
              " 2\n",
              " 3\n",
              " 4\n",
              " 5\n",
              " 6\n",
              " 7\n",
              " 8\n",
              " 9\n",
              " 10\n",
              " 11\n",
              "[torch.storage.TypedStorage(dtype=torch.int64, device=cpu) of size 12]"
            ]
          },
          "metadata": {},
          "execution_count": 154
        }
      ]
    },
    {
      "cell_type": "code",
      "source": [
        "a.view(3,4)"
      ],
      "metadata": {
        "colab": {
          "base_uri": "https://localhost:8080/"
        },
        "id": "s3mcF0X8HWi4",
        "outputId": "9e5b1f19-431d-4b0d-e2e6-7d55cd19596d"
      },
      "execution_count": 155,
      "outputs": [
        {
          "output_type": "execute_result",
          "data": {
            "text/plain": [
              "tensor([[ 0,  1,  2,  3],\n",
              "        [ 4,  5,  6,  7],\n",
              "        [ 8,  9, 10, 11]])"
            ]
          },
          "metadata": {},
          "execution_count": 155
        }
      ]
    },
    {
      "cell_type": "code",
      "source": [
        "#only view has been changed memory allocation of a is same as before\n",
        "\n",
        "# https://blog.ezyang.com/2019/05/pytorch-internals/\n",
        "\n",
        "a.view(3,4).storage()"
      ],
      "metadata": {
        "colab": {
          "base_uri": "https://localhost:8080/"
        },
        "id": "7ydimfovHbTS",
        "outputId": "5b246852-76d1-4bf9-8a10-edbce6996941"
      },
      "execution_count": 156,
      "outputs": [
        {
          "output_type": "execute_result",
          "data": {
            "text/plain": [
              " 0\n",
              " 1\n",
              " 2\n",
              " 3\n",
              " 4\n",
              " 5\n",
              " 6\n",
              " 7\n",
              " 8\n",
              " 9\n",
              " 10\n",
              " 11\n",
              "[torch.storage.TypedStorage(dtype=torch.int64, device=cpu) of size 12]"
            ]
          },
          "metadata": {},
          "execution_count": 156
        }
      ]
    },
    {
      "cell_type": "markdown",
      "source": [
        "### Implementing hidden layer"
      ],
      "metadata": {
        "id": "3dyBjxy3Ibuq"
      }
    },
    {
      "cell_type": "code",
      "source": [
        "W1 = torch.randn((6,100),generator=g,requires_grad=True)\n",
        "b1 = torch.randn(100,generator=g,requires_grad=True)"
      ],
      "metadata": {
        "id": "4OKJJloHIpKH"
      },
      "execution_count": 157,
      "outputs": []
    },
    {
      "cell_type": "code",
      "source": [
        "h = torch.tanh(emb.view(-1,6) @ W1 + b1)"
      ],
      "metadata": {
        "id": "rq2HJ0ijHd0j"
      },
      "execution_count": 158,
      "outputs": []
    },
    {
      "cell_type": "code",
      "source": [
        "h.shape , h"
      ],
      "metadata": {
        "colab": {
          "base_uri": "https://localhost:8080/"
        },
        "id": "E_zxra8SI1Fl",
        "outputId": "f912b4e7-6eb9-4d4b-b3af-14b952530d69"
      },
      "execution_count": 159,
      "outputs": [
        {
          "output_type": "execute_result",
          "data": {
            "text/plain": [
              "(torch.Size([228146, 100]),\n",
              " tensor([[-0.9348,  1.0000,  0.9258,  ...,  0.9786, -0.1926,  0.9515],\n",
              "         [ 0.2797,  0.9997,  0.7675,  ...,  0.9929,  0.9992,  0.9981],\n",
              "         [-0.9960,  1.0000, -0.8694,  ..., -0.5159, -1.0000, -0.0069],\n",
              "         ...,\n",
              "         [-0.4849,  0.9972, -0.6418,  ..., -0.9641,  0.9996,  0.9873],\n",
              "         [-0.9318,  0.9926, -0.9841,  ..., -0.8989, -0.9938,  0.5930],\n",
              "         [-0.9736,  0.3844, -0.8744,  ..., -0.5093,  0.9998, -0.9975]],\n",
              "        grad_fn=<TanhBackward0>))"
            ]
          },
          "metadata": {},
          "execution_count": 159
        }
      ]
    },
    {
      "cell_type": "markdown",
      "source": [
        "### Output layer"
      ],
      "metadata": {
        "id": "ZoEPj-QilRQN"
      }
    },
    {
      "cell_type": "code",
      "source": [
        "W2 = torch.randn((100,27),generator=g,requires_grad=True)\n",
        "b2 = torch.randn(27,generator=g,requires_grad=True)"
      ],
      "metadata": {
        "id": "-2Qqzl2uI2R7"
      },
      "execution_count": 160,
      "outputs": []
    },
    {
      "cell_type": "code",
      "source": [
        "logits = h @ W2 + b2\n",
        "logits.shape"
      ],
      "metadata": {
        "colab": {
          "base_uri": "https://localhost:8080/"
        },
        "id": "GUIWXedYmOC_",
        "outputId": "7cae5f8b-43bc-4da7-c265-83ca82dc1648"
      },
      "execution_count": 161,
      "outputs": [
        {
          "output_type": "execute_result",
          "data": {
            "text/plain": [
              "torch.Size([228146, 27])"
            ]
          },
          "metadata": {},
          "execution_count": 161
        }
      ]
    },
    {
      "cell_type": "markdown",
      "source": [
        "### Softmax"
      ],
      "metadata": {
        "id": "z7drRdoxm1O3"
      }
    },
    {
      "cell_type": "code",
      "source": [
        "p = logits.exp()\n",
        "p /= p.sum(1,keepdim=True)\n",
        "\n",
        "p.shape"
      ],
      "metadata": {
        "colab": {
          "base_uri": "https://localhost:8080/"
        },
        "id": "2C0I-qR5muC7",
        "outputId": "b3c199e1-f615-4111-cfc8-86d85d2459a9"
      },
      "execution_count": 162,
      "outputs": [
        {
          "output_type": "execute_result",
          "data": {
            "text/plain": [
              "torch.Size([228146, 27])"
            ]
          },
          "metadata": {},
          "execution_count": 162
        }
      ]
    },
    {
      "cell_type": "markdown",
      "source": [
        "### Loss"
      ],
      "metadata": {
        "id": "TFbINE7HoYlA"
      }
    },
    {
      "cell_type": "code",
      "source": [
        "loss = -p[torch.arange(p.shape[0]),y].log().mean()\n",
        "loss"
      ],
      "metadata": {
        "colab": {
          "base_uri": "https://localhost:8080/"
        },
        "id": "teXnvqZ2oapz",
        "outputId": "a17acd6d-9e3f-4dee-bafc-6859c3fd160e"
      },
      "execution_count": 163,
      "outputs": [
        {
          "output_type": "execute_result",
          "data": {
            "text/plain": [
              "tensor(19.2358, grad_fn=<NegBackward0>)"
            ]
          },
          "metadata": {},
          "execution_count": 163
        }
      ]
    },
    {
      "cell_type": "markdown",
      "source": [
        "### Efficient way to calculate Loss"
      ],
      "metadata": {
        "id": "dj28K8wSBdBl"
      }
    },
    {
      "cell_type": "code",
      "source": [
        "loss = F.cross_entropy(logits,y)\n",
        "loss"
      ],
      "metadata": {
        "colab": {
          "base_uri": "https://localhost:8080/"
        },
        "id": "4OokKI5nBXLP",
        "outputId": "77a42848-7da6-4e06-9cfe-fefa2b35816e"
      },
      "execution_count": 164,
      "outputs": [
        {
          "output_type": "execute_result",
          "data": {
            "text/plain": [
              "tensor(19.2358, grad_fn=<NllLossBackward0>)"
            ]
          },
          "metadata": {},
          "execution_count": 164
        }
      ]
    },
    {
      "cell_type": "markdown",
      "source": [
        "### Backpropagation"
      ],
      "metadata": {
        "id": "rArAyJOQoC47"
      }
    },
    {
      "cell_type": "code",
      "source": [
        "parameters = [C,W1,b1,W2,b2]"
      ],
      "metadata": {
        "id": "4XmBke_h3x3_"
      },
      "execution_count": 165,
      "outputs": []
    },
    {
      "cell_type": "code",
      "source": [
        "for p in parameters:\n",
        "\n",
        "  #p.requires_grad = True\n",
        "  #don't set requires_grad here → must be set at init time,\n",
        "  #otherwise loss won't track this param in the graph\n",
        "\n",
        "  #fixed it , remember it\n",
        "\n",
        "  p.grad = None"
      ],
      "metadata": {
        "id": "48ZNzfdA4XmT"
      },
      "execution_count": 166,
      "outputs": []
    },
    {
      "cell_type": "code",
      "source": [
        "loss.backward()"
      ],
      "metadata": {
        "id": "S_MqetFnE0zs"
      },
      "execution_count": 167,
      "outputs": []
    },
    {
      "cell_type": "markdown",
      "source": [
        "## What’s happening under the hood?\n",
        "\n",
        "* When you create a parameter with requires_grad=True, PyTorch starts tracking\n",
        "every operation involving it and builds a computation graph.\n",
        "\n",
        "* During loss.backward(), PyTorch walks backward through this graph and fills in p.grad for each parameter.\n",
        "\n",
        "* Gradients accumulate in .grad (they don’t overwrite). That’s why we set p.grad = None before each backward pass.\n",
        "\n",
        "* If you accidentally set requires_grad=True after the forward pass, the computation graph was already built without tracking, so no grads flow → loss.backward() fails."
      ],
      "metadata": {
        "id": "qFH0vclwHfHG"
      }
    },
    {
      "cell_type": "code",
      "source": [
        "for p in parameters:\n",
        "  p.data -= 0.01 * p.grad"
      ],
      "metadata": {
        "id": "OUDzHD9tFHbt"
      },
      "execution_count": 168,
      "outputs": []
    },
    {
      "cell_type": "markdown",
      "source": [
        "### Forward pass"
      ],
      "metadata": {
        "id": "rjBfNAreN5fA"
      }
    },
    {
      "cell_type": "code",
      "source": [
        "h = torch.tanh(emb.view(-1,6) @ W1 + b1 )\n",
        "logits = h @ W2 +b2\n",
        "loss = F.cross_entropy(logits,y)\n",
        "loss                  #decreased liltle bit"
      ],
      "metadata": {
        "colab": {
          "base_uri": "https://localhost:8080/"
        },
        "id": "k_WV-b2ANnsa",
        "outputId": "68604f7d-f6a9-47f1-d103-af35583aedaa"
      },
      "execution_count": 169,
      "outputs": [
        {
          "output_type": "execute_result",
          "data": {
            "text/plain": [
              "tensor(19.1409, grad_fn=<NllLossBackward0>)"
            ]
          },
          "metadata": {},
          "execution_count": 169
        }
      ]
    },
    {
      "cell_type": "markdown",
      "source": [
        "# START OVER"
      ],
      "metadata": {
        "id": "vINJH7BTQZiv"
      }
    },
    {
      "cell_type": "code",
      "source": [
        "x.shape , y.shape"
      ],
      "metadata": {
        "colab": {
          "base_uri": "https://localhost:8080/"
        },
        "id": "b2op2CxQNqkR",
        "outputId": "2a323200-cf93-4329-a94c-3230a46502c8"
      },
      "execution_count": 170,
      "outputs": [
        {
          "output_type": "execute_result",
          "data": {
            "text/plain": [
              "(torch.Size([228146, 3]), torch.Size([228146]))"
            ]
          },
          "metadata": {},
          "execution_count": 170
        }
      ]
    },
    {
      "cell_type": "code",
      "source": [
        "g = torch.Generator().manual_seed(2147483647)\n",
        "C = torch.randn((27,2),generator=g,requires_grad=True)\n",
        "W1 = torch.randn((6,100),generator=g,requires_grad=True)\n",
        "b1 = torch.randn(100,generator=g,requires_grad=True)\n",
        "W2 = torch.randn((100,27),generator=g,requires_grad=True)\n",
        "b2 = torch.randn(27,generator=g,requires_grad=True)\n",
        "parameters = [C,W1,b1,W2,b2]"
      ],
      "metadata": {
        "id": "meLCR-gQSgAh"
      },
      "execution_count": 171,
      "outputs": []
    },
    {
      "cell_type": "code",
      "source": [
        "sum([p.nelement() for p in parameters])    #parameters"
      ],
      "metadata": {
        "colab": {
          "base_uri": "https://localhost:8080/"
        },
        "id": "IpO_JQM1Ssy-",
        "outputId": "cd773705-76ee-45ac-8c7a-df4518b436c4"
      },
      "execution_count": 172,
      "outputs": [
        {
          "output_type": "execute_result",
          "data": {
            "text/plain": [
              "3481"
            ]
          },
          "metadata": {},
          "execution_count": 172
        }
      ]
    },
    {
      "cell_type": "code",
      "source": [
        "for _ in range(100):\n",
        "\n",
        "\n",
        "  #forward\n",
        "  emb = C[x]\n",
        "  h = torch.tanh(emb.view(-1,6) @ W1 + b1)\n",
        "  logits = h @ W2 + b2\n",
        "\n",
        "  loss = F.cross_entropy(logits,y)\n",
        "  print(loss.item())\n",
        "\n",
        "  #backward\n",
        "  for p in parameters:\n",
        "    p.grad = None\n",
        "\n",
        "  loss.backward()\n",
        "\n",
        "  #update\n",
        "  for p in parameters:\n",
        "    p.data -= 0.1 * p.grad\n",
        "\n"
      ],
      "metadata": {
        "colab": {
          "base_uri": "https://localhost:8080/"
        },
        "id": "T2e2pV_YUfpx",
        "outputId": "265b0444-3c7c-426b-e1c0-fcdaa270e5b1"
      },
      "execution_count": 173,
      "outputs": [
        {
          "output_type": "stream",
          "name": "stdout",
          "text": [
            "19.235767364501953\n",
            "18.205913543701172\n",
            "17.299165725708008\n",
            "16.491422653198242\n",
            "15.758025169372559\n",
            "15.081764221191406\n",
            "14.455564498901367\n",
            "13.874733924865723\n",
            "13.335489273071289\n",
            "12.834827423095703\n",
            "12.369384765625\n",
            "11.935105323791504\n",
            "11.52763557434082\n",
            "11.143498420715332\n",
            "10.780662536621094\n",
            "10.438188552856445\n",
            "10.115513801574707\n",
            "9.811923027038574\n",
            "9.526389122009277\n",
            "9.257646560668945\n",
            "9.004351615905762\n",
            "8.765169143676758\n",
            "8.53882884979248\n",
            "8.32414722442627\n",
            "8.12004280090332\n",
            "7.925546169281006\n",
            "7.7398152351379395\n",
            "7.562122821807861\n",
            "7.3918561935424805\n",
            "7.228500843048096\n",
            "7.071640968322754\n",
            "6.920960903167725\n",
            "6.776233673095703\n",
            "6.637332916259766\n",
            "6.504215717315674\n",
            "6.376900672912598\n",
            "6.255455017089844\n",
            "6.139944553375244\n",
            "6.030381202697754\n",
            "5.926675319671631\n",
            "5.828596591949463\n",
            "5.735793113708496\n",
            "5.647831439971924\n",
            "5.564256191253662\n",
            "5.484630584716797\n",
            "5.408565044403076\n",
            "5.335723400115967\n",
            "5.265822887420654\n",
            "5.198623180389404\n",
            "5.133925437927246\n",
            "5.07155704498291\n",
            "5.011370658874512\n",
            "4.9532389640808105\n",
            "4.8970465660095215\n",
            "4.842694282531738\n",
            "4.790089130401611\n",
            "4.739147186279297\n",
            "4.689794063568115\n",
            "4.641960144042969\n",
            "4.595581531524658\n",
            "4.550600528717041\n",
            "4.50696325302124\n",
            "4.464620590209961\n",
            "4.423528671264648\n",
            "4.383646488189697\n",
            "4.344934940338135\n",
            "4.307359218597412\n",
            "4.270885944366455\n",
            "4.235485076904297\n",
            "4.201126575469971\n",
            "4.167782306671143\n",
            "4.13542366027832\n",
            "4.104025840759277\n",
            "4.073561191558838\n",
            "4.044005393981934\n",
            "4.01533317565918\n",
            "3.9875199794769287\n",
            "3.9605417251586914\n",
            "3.9343748092651367\n",
            "3.90899658203125\n",
            "3.8843836784362793\n",
            "3.8605153560638428\n",
            "3.8373680114746094\n",
            "3.8149213790893555\n",
            "3.7931535243988037\n",
            "3.7720425128936768\n",
            "3.7515676021575928\n",
            "3.731708288192749\n",
            "3.7124428749084473\n",
            "3.693751811981201\n",
            "3.675615072250366\n",
            "3.658013105392456\n",
            "3.64092755317688\n",
            "3.6243393421173096\n",
            "3.6082310676574707\n",
            "3.592585563659668\n",
            "3.5773866176605225\n",
            "3.562617778778076\n",
            "3.5482640266418457\n",
            "3.5343103408813477\n"
          ]
        }
      ]
    },
    {
      "cell_type": "code",
      "source": [],
      "metadata": {
        "id": "2XGjR62eWONA"
      },
      "execution_count": 172,
      "outputs": []
    },
    {
      "cell_type": "code",
      "source": [],
      "metadata": {
        "id": "IRh3FPI6WOqE"
      },
      "execution_count": 172,
      "outputs": []
    },
    {
      "cell_type": "code",
      "source": [],
      "metadata": {
        "id": "tDy40tALWPPt"
      },
      "execution_count": 172,
      "outputs": []
    }
  ]
}