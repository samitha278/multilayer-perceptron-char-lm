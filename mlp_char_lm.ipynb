{
  "nbformat": 4,
  "nbformat_minor": 0,
  "metadata": {
    "colab": {
      "provenance": [],
      "authorship_tag": "ABX9TyMzqhnwgGqZ2Xu1hSP5M0yX",
      "include_colab_link": true
    },
    "kernelspec": {
      "name": "python3",
      "display_name": "Python 3"
    },
    "language_info": {
      "name": "python"
    }
  },
  "cells": [
    {
      "cell_type": "markdown",
      "metadata": {
        "id": "view-in-github",
        "colab_type": "text"
      },
      "source": [
        "<a href=\"https://colab.research.google.com/github/samitha278/multilayer-perceptron-char-lm/blob/main/mlp_char_lm.ipynb\" target=\"_parent\"><img src=\"https://colab.research.google.com/assets/colab-badge.svg\" alt=\"Open In Colab\"/></a>"
      ]
    },
    {
      "cell_type": "code",
      "execution_count": 2,
      "metadata": {
        "id": "36X2bq5nVf4y"
      },
      "outputs": [],
      "source": [
        "import torch\n",
        "import torch.nn.functional as F\n",
        "import matplotlib.pyplot as plt"
      ]
    },
    {
      "cell_type": "code",
      "source": [
        "from google.colab import files\n",
        "\n",
        "uploaded = files.upload()\n"
      ],
      "metadata": {
        "colab": {
          "base_uri": "https://localhost:8080/",
          "height": 73
        },
        "id": "_qlY2cy2s6sn",
        "outputId": "6710d151-7cc9-4d7a-b56b-00605c36fb7b"
      },
      "execution_count": 3,
      "outputs": [
        {
          "output_type": "display_data",
          "data": {
            "text/plain": [
              "<IPython.core.display.HTML object>"
            ],
            "text/html": [
              "\n",
              "     <input type=\"file\" id=\"files-bd1cd8f1-4d5f-4075-8c5c-8ae9e7700ea1\" name=\"files[]\" multiple disabled\n",
              "        style=\"border:none\" />\n",
              "     <output id=\"result-bd1cd8f1-4d5f-4075-8c5c-8ae9e7700ea1\">\n",
              "      Upload widget is only available when the cell has been executed in the\n",
              "      current browser session. Please rerun this cell to enable.\n",
              "      </output>\n",
              "      <script>// Copyright 2017 Google LLC\n",
              "//\n",
              "// Licensed under the Apache License, Version 2.0 (the \"License\");\n",
              "// you may not use this file except in compliance with the License.\n",
              "// You may obtain a copy of the License at\n",
              "//\n",
              "//      http://www.apache.org/licenses/LICENSE-2.0\n",
              "//\n",
              "// Unless required by applicable law or agreed to in writing, software\n",
              "// distributed under the License is distributed on an \"AS IS\" BASIS,\n",
              "// WITHOUT WARRANTIES OR CONDITIONS OF ANY KIND, either express or implied.\n",
              "// See the License for the specific language governing permissions and\n",
              "// limitations under the License.\n",
              "\n",
              "/**\n",
              " * @fileoverview Helpers for google.colab Python module.\n",
              " */\n",
              "(function(scope) {\n",
              "function span(text, styleAttributes = {}) {\n",
              "  const element = document.createElement('span');\n",
              "  element.textContent = text;\n",
              "  for (const key of Object.keys(styleAttributes)) {\n",
              "    element.style[key] = styleAttributes[key];\n",
              "  }\n",
              "  return element;\n",
              "}\n",
              "\n",
              "// Max number of bytes which will be uploaded at a time.\n",
              "const MAX_PAYLOAD_SIZE = 100 * 1024;\n",
              "\n",
              "function _uploadFiles(inputId, outputId) {\n",
              "  const steps = uploadFilesStep(inputId, outputId);\n",
              "  const outputElement = document.getElementById(outputId);\n",
              "  // Cache steps on the outputElement to make it available for the next call\n",
              "  // to uploadFilesContinue from Python.\n",
              "  outputElement.steps = steps;\n",
              "\n",
              "  return _uploadFilesContinue(outputId);\n",
              "}\n",
              "\n",
              "// This is roughly an async generator (not supported in the browser yet),\n",
              "// where there are multiple asynchronous steps and the Python side is going\n",
              "// to poll for completion of each step.\n",
              "// This uses a Promise to block the python side on completion of each step,\n",
              "// then passes the result of the previous step as the input to the next step.\n",
              "function _uploadFilesContinue(outputId) {\n",
              "  const outputElement = document.getElementById(outputId);\n",
              "  const steps = outputElement.steps;\n",
              "\n",
              "  const next = steps.next(outputElement.lastPromiseValue);\n",
              "  return Promise.resolve(next.value.promise).then((value) => {\n",
              "    // Cache the last promise value to make it available to the next\n",
              "    // step of the generator.\n",
              "    outputElement.lastPromiseValue = value;\n",
              "    return next.value.response;\n",
              "  });\n",
              "}\n",
              "\n",
              "/**\n",
              " * Generator function which is called between each async step of the upload\n",
              " * process.\n",
              " * @param {string} inputId Element ID of the input file picker element.\n",
              " * @param {string} outputId Element ID of the output display.\n",
              " * @return {!Iterable<!Object>} Iterable of next steps.\n",
              " */\n",
              "function* uploadFilesStep(inputId, outputId) {\n",
              "  const inputElement = document.getElementById(inputId);\n",
              "  inputElement.disabled = false;\n",
              "\n",
              "  const outputElement = document.getElementById(outputId);\n",
              "  outputElement.innerHTML = '';\n",
              "\n",
              "  const pickedPromise = new Promise((resolve) => {\n",
              "    inputElement.addEventListener('change', (e) => {\n",
              "      resolve(e.target.files);\n",
              "    });\n",
              "  });\n",
              "\n",
              "  const cancel = document.createElement('button');\n",
              "  inputElement.parentElement.appendChild(cancel);\n",
              "  cancel.textContent = 'Cancel upload';\n",
              "  const cancelPromise = new Promise((resolve) => {\n",
              "    cancel.onclick = () => {\n",
              "      resolve(null);\n",
              "    };\n",
              "  });\n",
              "\n",
              "  // Wait for the user to pick the files.\n",
              "  const files = yield {\n",
              "    promise: Promise.race([pickedPromise, cancelPromise]),\n",
              "    response: {\n",
              "      action: 'starting',\n",
              "    }\n",
              "  };\n",
              "\n",
              "  cancel.remove();\n",
              "\n",
              "  // Disable the input element since further picks are not allowed.\n",
              "  inputElement.disabled = true;\n",
              "\n",
              "  if (!files) {\n",
              "    return {\n",
              "      response: {\n",
              "        action: 'complete',\n",
              "      }\n",
              "    };\n",
              "  }\n",
              "\n",
              "  for (const file of files) {\n",
              "    const li = document.createElement('li');\n",
              "    li.append(span(file.name, {fontWeight: 'bold'}));\n",
              "    li.append(span(\n",
              "        `(${file.type || 'n/a'}) - ${file.size} bytes, ` +\n",
              "        `last modified: ${\n",
              "            file.lastModifiedDate ? file.lastModifiedDate.toLocaleDateString() :\n",
              "                                    'n/a'} - `));\n",
              "    const percent = span('0% done');\n",
              "    li.appendChild(percent);\n",
              "\n",
              "    outputElement.appendChild(li);\n",
              "\n",
              "    const fileDataPromise = new Promise((resolve) => {\n",
              "      const reader = new FileReader();\n",
              "      reader.onload = (e) => {\n",
              "        resolve(e.target.result);\n",
              "      };\n",
              "      reader.readAsArrayBuffer(file);\n",
              "    });\n",
              "    // Wait for the data to be ready.\n",
              "    let fileData = yield {\n",
              "      promise: fileDataPromise,\n",
              "      response: {\n",
              "        action: 'continue',\n",
              "      }\n",
              "    };\n",
              "\n",
              "    // Use a chunked sending to avoid message size limits. See b/62115660.\n",
              "    let position = 0;\n",
              "    do {\n",
              "      const length = Math.min(fileData.byteLength - position, MAX_PAYLOAD_SIZE);\n",
              "      const chunk = new Uint8Array(fileData, position, length);\n",
              "      position += length;\n",
              "\n",
              "      const base64 = btoa(String.fromCharCode.apply(null, chunk));\n",
              "      yield {\n",
              "        response: {\n",
              "          action: 'append',\n",
              "          file: file.name,\n",
              "          data: base64,\n",
              "        },\n",
              "      };\n",
              "\n",
              "      let percentDone = fileData.byteLength === 0 ?\n",
              "          100 :\n",
              "          Math.round((position / fileData.byteLength) * 100);\n",
              "      percent.textContent = `${percentDone}% done`;\n",
              "\n",
              "    } while (position < fileData.byteLength);\n",
              "  }\n",
              "\n",
              "  // All done.\n",
              "  yield {\n",
              "    response: {\n",
              "      action: 'complete',\n",
              "    }\n",
              "  };\n",
              "}\n",
              "\n",
              "scope.google = scope.google || {};\n",
              "scope.google.colab = scope.google.colab || {};\n",
              "scope.google.colab._files = {\n",
              "  _uploadFiles,\n",
              "  _uploadFilesContinue,\n",
              "};\n",
              "})(self);\n",
              "</script> "
            ]
          },
          "metadata": {}
        },
        {
          "output_type": "stream",
          "name": "stdout",
          "text": [
            "Saving names.txt to names.txt\n"
          ]
        }
      ]
    },
    {
      "cell_type": "code",
      "source": [
        "words = open(\"names.txt\",\"r\").read().splitlines()"
      ],
      "metadata": {
        "id": "YI2y9MAXshIK"
      },
      "execution_count": 4,
      "outputs": []
    },
    {
      "cell_type": "code",
      "source": [
        "chars = sorted(list(set(\"\".join(words))))\n",
        "stoi = {s:i+1 for i,s in enumerate(chars)}\n",
        "stoi[\".\"] = 0\n",
        "itos = {i:s for s,i in stoi.items()}\n",
        "itos"
      ],
      "metadata": {
        "colab": {
          "base_uri": "https://localhost:8080/"
        },
        "id": "hJRvOQJ6s5Qc",
        "outputId": "126d1280-be97-4d34-e902-f32a72563b3c"
      },
      "execution_count": 5,
      "outputs": [
        {
          "output_type": "execute_result",
          "data": {
            "text/plain": [
              "{1: 'a',\n",
              " 2: 'b',\n",
              " 3: 'c',\n",
              " 4: 'd',\n",
              " 5: 'e',\n",
              " 6: 'f',\n",
              " 7: 'g',\n",
              " 8: 'h',\n",
              " 9: 'i',\n",
              " 10: 'j',\n",
              " 11: 'k',\n",
              " 12: 'l',\n",
              " 13: 'm',\n",
              " 14: 'n',\n",
              " 15: 'o',\n",
              " 16: 'p',\n",
              " 17: 'q',\n",
              " 18: 'r',\n",
              " 19: 's',\n",
              " 20: 't',\n",
              " 21: 'u',\n",
              " 22: 'v',\n",
              " 23: 'w',\n",
              " 24: 'x',\n",
              " 25: 'y',\n",
              " 26: 'z',\n",
              " 0: '.'}"
            ]
          },
          "metadata": {},
          "execution_count": 5
        }
      ]
    },
    {
      "cell_type": "markdown",
      "source": [
        "### Building dataset"
      ],
      "metadata": {
        "id": "HY9-N1Hc92dX"
      }
    },
    {
      "cell_type": "code",
      "source": [
        "block_size = 3\n",
        "\n",
        "\n",
        "xs = []\n",
        "ys = []\n",
        "\n",
        "\n",
        "context = [0]*block_size\n",
        "\n",
        "\n",
        "\n",
        "for w in words:\n",
        "\n",
        "  for ch in w + '.':\n",
        "\n",
        "    xs.append(context)\n",
        "    next = stoi[ch]\n",
        "    ys.append(next)\n",
        "\n",
        "\n",
        "    context = context[1:] + [next]\n",
        "\n",
        "\n",
        "x = torch.tensor(xs)\n",
        "y = torch.tensor(ys)"
      ],
      "metadata": {
        "id": "plqS0KeltJ2-"
      },
      "execution_count": 6,
      "outputs": []
    },
    {
      "cell_type": "code",
      "source": [
        "x.shape,y.shape"
      ],
      "metadata": {
        "colab": {
          "base_uri": "https://localhost:8080/"
        },
        "id": "1IgfI-H20A-q",
        "outputId": "8656b257-06fc-4be1-964c-1cea7b43b243"
      },
      "execution_count": 7,
      "outputs": [
        {
          "output_type": "execute_result",
          "data": {
            "text/plain": [
              "(torch.Size([228146, 3]), torch.Size([228146]))"
            ]
          },
          "metadata": {},
          "execution_count": 7
        }
      ]
    },
    {
      "cell_type": "code",
      "source": [
        "x[:5]"
      ],
      "metadata": {
        "colab": {
          "base_uri": "https://localhost:8080/"
        },
        "id": "PszN2pzbD8Ag",
        "outputId": "2fa6d67e-758c-44a9-fa27-ee899d8c1e45"
      },
      "execution_count": 8,
      "outputs": [
        {
          "output_type": "execute_result",
          "data": {
            "text/plain": [
              "tensor([[ 0,  0,  0],\n",
              "        [ 0,  0,  5],\n",
              "        [ 0,  5, 13],\n",
              "        [ 5, 13, 13],\n",
              "        [13, 13,  1]])"
            ]
          },
          "metadata": {},
          "execution_count": 8
        }
      ]
    },
    {
      "cell_type": "markdown",
      "source": [
        "### Embedding"
      ],
      "metadata": {
        "id": "WnQ2GSz49DAm"
      }
    },
    {
      "cell_type": "code",
      "source": [
        "g = torch.Generator().manual_seed(2147483647)"
      ],
      "metadata": {
        "id": "Qt6h4qM7FowR"
      },
      "execution_count": 9,
      "outputs": []
    },
    {
      "cell_type": "code",
      "source": [
        "C = torch.randn((27,2),generator=g,requires_grad=True)\n",
        "C"
      ],
      "metadata": {
        "colab": {
          "base_uri": "https://localhost:8080/"
        },
        "id": "p0KNme2N8dBs",
        "outputId": "b77c4fac-b2e5-4638-d764-bd7b15fe0532"
      },
      "execution_count": 10,
      "outputs": [
        {
          "output_type": "execute_result",
          "data": {
            "text/plain": [
              "tensor([[ 1.5674, -0.2373],\n",
              "        [-0.0274, -1.1008],\n",
              "        [ 0.2859, -0.0296],\n",
              "        [-1.5471,  0.6049],\n",
              "        [ 0.0791,  0.9046],\n",
              "        [-0.4713,  0.7868],\n",
              "        [-0.3284, -0.4330],\n",
              "        [ 1.3729,  2.9334],\n",
              "        [ 1.5618, -1.6261],\n",
              "        [ 0.6772, -0.8404],\n",
              "        [ 0.9849, -0.1484],\n",
              "        [-1.4795,  0.4483],\n",
              "        [-0.0707,  2.4968],\n",
              "        [ 2.4448, -0.6701],\n",
              "        [-1.2199,  0.3031],\n",
              "        [-1.0725,  0.7276],\n",
              "        [ 0.0511,  1.3095],\n",
              "        [-0.8022, -0.8504],\n",
              "        [-1.8068,  1.2523],\n",
              "        [ 0.1476, -1.0006],\n",
              "        [-0.5030, -1.0660],\n",
              "        [ 0.8480,  2.0275],\n",
              "        [-0.1158, -1.2078],\n",
              "        [-1.0406, -1.5367],\n",
              "        [-0.5132,  0.2961],\n",
              "        [-1.4904, -0.2838],\n",
              "        [ 0.2569,  0.2130]], requires_grad=True)"
            ]
          },
          "metadata": {},
          "execution_count": 10
        }
      ]
    },
    {
      "cell_type": "code",
      "source": [
        "C[5]"
      ],
      "metadata": {
        "colab": {
          "base_uri": "https://localhost:8080/"
        },
        "id": "GknASTwk8o6_",
        "outputId": "2ca75d00-a7c0-4aee-d8b2-6eb497723cc2"
      },
      "execution_count": 11,
      "outputs": [
        {
          "output_type": "execute_result",
          "data": {
            "text/plain": [
              "tensor([-0.4713,  0.7868], grad_fn=<SelectBackward0>)"
            ]
          },
          "metadata": {},
          "execution_count": 11
        }
      ]
    },
    {
      "cell_type": "code",
      "source": [
        "C[torch.tensor([2,3,5,5,5])]"
      ],
      "metadata": {
        "colab": {
          "base_uri": "https://localhost:8080/"
        },
        "id": "X8HWOESy8uls",
        "outputId": "d04cd385-c03c-4fe2-df1c-2897f54992b1"
      },
      "execution_count": 12,
      "outputs": [
        {
          "output_type": "execute_result",
          "data": {
            "text/plain": [
              "tensor([[ 0.2859, -0.0296],\n",
              "        [-1.5471,  0.6049],\n",
              "        [-0.4713,  0.7868],\n",
              "        [-0.4713,  0.7868],\n",
              "        [-0.4713,  0.7868]], grad_fn=<IndexBackward0>)"
            ]
          },
          "metadata": {},
          "execution_count": 12
        }
      ]
    },
    {
      "cell_type": "code",
      "source": [
        "C[torch.tensor([[2,3],[3,2],[5,5],[2,5]])]"
      ],
      "metadata": {
        "colab": {
          "base_uri": "https://localhost:8080/"
        },
        "id": "hpUcYIjz8y0o",
        "outputId": "f0921491-fda9-4949-9b80-943e554b1fab"
      },
      "execution_count": 13,
      "outputs": [
        {
          "output_type": "execute_result",
          "data": {
            "text/plain": [
              "tensor([[[ 0.2859, -0.0296],\n",
              "         [-1.5471,  0.6049]],\n",
              "\n",
              "        [[-1.5471,  0.6049],\n",
              "         [ 0.2859, -0.0296]],\n",
              "\n",
              "        [[-0.4713,  0.7868],\n",
              "         [-0.4713,  0.7868]],\n",
              "\n",
              "        [[ 0.2859, -0.0296],\n",
              "         [-0.4713,  0.7868]]], grad_fn=<IndexBackward0>)"
            ]
          },
          "metadata": {},
          "execution_count": 13
        }
      ]
    },
    {
      "cell_type": "code",
      "source": [
        "emb = C[x]\n",
        "emb.shape"
      ],
      "metadata": {
        "colab": {
          "base_uri": "https://localhost:8080/"
        },
        "id": "z3O55q3W87Lb",
        "outputId": "f0c9905e-e5d4-45fd-f435-f802b525b789"
      },
      "execution_count": 14,
      "outputs": [
        {
          "output_type": "execute_result",
          "data": {
            "text/plain": [
              "torch.Size([228146, 3, 2])"
            ]
          },
          "metadata": {},
          "execution_count": 14
        }
      ]
    },
    {
      "cell_type": "code",
      "source": [
        "x[1],C[[0,5]],emb[1]"
      ],
      "metadata": {
        "colab": {
          "base_uri": "https://localhost:8080/"
        },
        "id": "rjFtrDcd9Qkk",
        "outputId": "99ccb19a-3ac1-4a5a-95fb-f5c95ad1f93d"
      },
      "execution_count": 15,
      "outputs": [
        {
          "output_type": "execute_result",
          "data": {
            "text/plain": [
              "(tensor([0, 0, 5]),\n",
              " tensor([[ 1.5674, -0.2373],\n",
              "         [-0.4713,  0.7868]], grad_fn=<IndexBackward0>),\n",
              " tensor([[ 1.5674, -0.2373],\n",
              "         [ 1.5674, -0.2373],\n",
              "         [-0.4713,  0.7868]], grad_fn=<SelectBackward0>))"
            ]
          },
          "metadata": {},
          "execution_count": 15
        }
      ]
    },
    {
      "cell_type": "markdown",
      "source": [
        "### Preparing input neurons to feed hidden layer"
      ],
      "metadata": {
        "id": "kumfUWwn9tHw"
      }
    },
    {
      "cell_type": "code",
      "source": [
        "emb[:5]"
      ],
      "metadata": {
        "colab": {
          "base_uri": "https://localhost:8080/"
        },
        "id": "Q5pD92bT9S9k",
        "outputId": "e53159d5-a2cd-4432-8b43-86c0966b400a"
      },
      "execution_count": 16,
      "outputs": [
        {
          "output_type": "execute_result",
          "data": {
            "text/plain": [
              "tensor([[[ 1.5674, -0.2373],\n",
              "         [ 1.5674, -0.2373],\n",
              "         [ 1.5674, -0.2373]],\n",
              "\n",
              "        [[ 1.5674, -0.2373],\n",
              "         [ 1.5674, -0.2373],\n",
              "         [-0.4713,  0.7868]],\n",
              "\n",
              "        [[ 1.5674, -0.2373],\n",
              "         [-0.4713,  0.7868],\n",
              "         [ 2.4448, -0.6701]],\n",
              "\n",
              "        [[-0.4713,  0.7868],\n",
              "         [ 2.4448, -0.6701],\n",
              "         [ 2.4448, -0.6701]],\n",
              "\n",
              "        [[ 2.4448, -0.6701],\n",
              "         [ 2.4448, -0.6701],\n",
              "         [-0.0274, -1.1008]]], grad_fn=<SliceBackward0>)"
            ]
          },
          "metadata": {},
          "execution_count": 16
        }
      ]
    },
    {
      "cell_type": "code",
      "source": [
        "emb[:5,0]"
      ],
      "metadata": {
        "colab": {
          "base_uri": "https://localhost:8080/"
        },
        "id": "JV6ecVNpCpgt",
        "outputId": "9d329aca-828a-4a64-eeba-12290e8343eb"
      },
      "execution_count": 17,
      "outputs": [
        {
          "output_type": "execute_result",
          "data": {
            "text/plain": [
              "tensor([[ 1.5674, -0.2373],\n",
              "        [ 1.5674, -0.2373],\n",
              "        [ 1.5674, -0.2373],\n",
              "        [-0.4713,  0.7868],\n",
              "        [ 2.4448, -0.6701]], grad_fn=<SelectBackward0>)"
            ]
          },
          "metadata": {},
          "execution_count": 17
        }
      ]
    },
    {
      "cell_type": "code",
      "source": [
        "torch.cat([emb[:5,0],emb[:5,1],emb[:5,2]],dim=1)"
      ],
      "metadata": {
        "colab": {
          "base_uri": "https://localhost:8080/"
        },
        "id": "0somG1eyCrzT",
        "outputId": "84c11a39-603c-41a9-de70-5018bde2ac42"
      },
      "execution_count": 18,
      "outputs": [
        {
          "output_type": "execute_result",
          "data": {
            "text/plain": [
              "tensor([[ 1.5674, -0.2373,  1.5674, -0.2373,  1.5674, -0.2373],\n",
              "        [ 1.5674, -0.2373,  1.5674, -0.2373, -0.4713,  0.7868],\n",
              "        [ 1.5674, -0.2373, -0.4713,  0.7868,  2.4448, -0.6701],\n",
              "        [-0.4713,  0.7868,  2.4448, -0.6701,  2.4448, -0.6701],\n",
              "        [ 2.4448, -0.6701,  2.4448, -0.6701, -0.0274, -1.1008]],\n",
              "       grad_fn=<CatBackward0>)"
            ]
          },
          "metadata": {},
          "execution_count": 18
        }
      ]
    },
    {
      "cell_type": "code",
      "source": [
        "torch.cat([emb[:,0],emb[:,1],emb[:,2]],dim=1).shape"
      ],
      "metadata": {
        "colab": {
          "base_uri": "https://localhost:8080/"
        },
        "id": "_OX7OKVWDw_i",
        "outputId": "befc47dd-b342-455a-a921-13d7ef9bc0f3"
      },
      "execution_count": 19,
      "outputs": [
        {
          "output_type": "execute_result",
          "data": {
            "text/plain": [
              "torch.Size([228146, 6])"
            ]
          },
          "metadata": {},
          "execution_count": 19
        }
      ]
    },
    {
      "cell_type": "code",
      "source": [
        "torch.cat(torch.unbind(emb,1),1).shape"
      ],
      "metadata": {
        "colab": {
          "base_uri": "https://localhost:8080/"
        },
        "id": "_rNuF2TuFY7R",
        "outputId": "322f6360-511a-4488-eb7d-347126c7e9c6"
      },
      "execution_count": 20,
      "outputs": [
        {
          "output_type": "execute_result",
          "data": {
            "text/plain": [
              "torch.Size([228146, 6])"
            ]
          },
          "metadata": {},
          "execution_count": 20
        }
      ]
    },
    {
      "cell_type": "markdown",
      "source": [
        "### torch view and storage"
      ],
      "metadata": {
        "id": "2leDu4ueHL0w"
      }
    },
    {
      "cell_type": "code",
      "source": [
        "a = torch.arange(12)\n",
        "a"
      ],
      "metadata": {
        "colab": {
          "base_uri": "https://localhost:8080/"
        },
        "id": "nwmkaGebFo92",
        "outputId": "01b268bd-6716-4eb8-cf62-6606cb1ad29d"
      },
      "execution_count": 21,
      "outputs": [
        {
          "output_type": "execute_result",
          "data": {
            "text/plain": [
              "tensor([ 0,  1,  2,  3,  4,  5,  6,  7,  8,  9, 10, 11])"
            ]
          },
          "metadata": {},
          "execution_count": 21
        }
      ]
    },
    {
      "cell_type": "code",
      "source": [
        "a.storage()"
      ],
      "metadata": {
        "colab": {
          "base_uri": "https://localhost:8080/"
        },
        "id": "Ud5XYn0rHU5G",
        "outputId": "53735fce-2229-47a5-a1ad-21b8d786989e"
      },
      "execution_count": 22,
      "outputs": [
        {
          "output_type": "stream",
          "name": "stderr",
          "text": [
            "/tmp/ipython-input-214256462.py:1: UserWarning: TypedStorage is deprecated. It will be removed in the future and UntypedStorage will be the only storage class. This should only matter to you if you are using storages directly.  To access UntypedStorage directly, use tensor.untyped_storage() instead of tensor.storage()\n",
            "  a.storage()\n"
          ]
        },
        {
          "output_type": "execute_result",
          "data": {
            "text/plain": [
              " 0\n",
              " 1\n",
              " 2\n",
              " 3\n",
              " 4\n",
              " 5\n",
              " 6\n",
              " 7\n",
              " 8\n",
              " 9\n",
              " 10\n",
              " 11\n",
              "[torch.storage.TypedStorage(dtype=torch.int64, device=cpu) of size 12]"
            ]
          },
          "metadata": {},
          "execution_count": 22
        }
      ]
    },
    {
      "cell_type": "code",
      "source": [
        "a.view(3,4)"
      ],
      "metadata": {
        "colab": {
          "base_uri": "https://localhost:8080/"
        },
        "id": "s3mcF0X8HWi4",
        "outputId": "64c4e986-b955-42cd-8d3c-95546e4b34d0"
      },
      "execution_count": 23,
      "outputs": [
        {
          "output_type": "execute_result",
          "data": {
            "text/plain": [
              "tensor([[ 0,  1,  2,  3],\n",
              "        [ 4,  5,  6,  7],\n",
              "        [ 8,  9, 10, 11]])"
            ]
          },
          "metadata": {},
          "execution_count": 23
        }
      ]
    },
    {
      "cell_type": "code",
      "source": [
        "#only view has been changed memory allocation of a is same as before\n",
        "\n",
        "# https://blog.ezyang.com/2019/05/pytorch-internals/\n",
        "\n",
        "a.view(3,4).storage()"
      ],
      "metadata": {
        "colab": {
          "base_uri": "https://localhost:8080/"
        },
        "id": "7ydimfovHbTS",
        "outputId": "1a80d8b9-6c12-40f6-d4bc-de1e89b0366d"
      },
      "execution_count": 24,
      "outputs": [
        {
          "output_type": "execute_result",
          "data": {
            "text/plain": [
              " 0\n",
              " 1\n",
              " 2\n",
              " 3\n",
              " 4\n",
              " 5\n",
              " 6\n",
              " 7\n",
              " 8\n",
              " 9\n",
              " 10\n",
              " 11\n",
              "[torch.storage.TypedStorage(dtype=torch.int64, device=cpu) of size 12]"
            ]
          },
          "metadata": {},
          "execution_count": 24
        }
      ]
    },
    {
      "cell_type": "markdown",
      "source": [
        "### Implementing hidden layer"
      ],
      "metadata": {
        "id": "3dyBjxy3Ibuq"
      }
    },
    {
      "cell_type": "code",
      "source": [
        "W1 = torch.randn((6,100),generator=g,requires_grad=True)\n",
        "b1 = torch.randn(100,generator=g,requires_grad=True)"
      ],
      "metadata": {
        "id": "4OKJJloHIpKH"
      },
      "execution_count": 25,
      "outputs": []
    },
    {
      "cell_type": "code",
      "source": [
        "h = torch.tanh(emb.view(-1,6) @ W1 + b1)"
      ],
      "metadata": {
        "id": "rq2HJ0ijHd0j"
      },
      "execution_count": 26,
      "outputs": []
    },
    {
      "cell_type": "code",
      "source": [
        "h.shape , h"
      ],
      "metadata": {
        "colab": {
          "base_uri": "https://localhost:8080/"
        },
        "id": "E_zxra8SI1Fl",
        "outputId": "b650760a-6ceb-4ed1-a137-b6d2fd496630"
      },
      "execution_count": 27,
      "outputs": [
        {
          "output_type": "execute_result",
          "data": {
            "text/plain": [
              "(torch.Size([228146, 100]),\n",
              " tensor([[-0.9348,  1.0000,  0.9258,  ...,  0.9786, -0.1926,  0.9515],\n",
              "         [ 0.2797,  0.9997,  0.7675,  ...,  0.9929,  0.9992,  0.9981],\n",
              "         [-0.9960,  1.0000, -0.8694,  ..., -0.5159, -1.0000, -0.0069],\n",
              "         ...,\n",
              "         [-0.4849,  0.9972, -0.6418,  ..., -0.9641,  0.9996,  0.9873],\n",
              "         [-0.9318,  0.9926, -0.9841,  ..., -0.8989, -0.9938,  0.5930],\n",
              "         [-0.9736,  0.3844, -0.8744,  ..., -0.5093,  0.9998, -0.9975]],\n",
              "        grad_fn=<TanhBackward0>))"
            ]
          },
          "metadata": {},
          "execution_count": 27
        }
      ]
    },
    {
      "cell_type": "markdown",
      "source": [
        "### Output layer"
      ],
      "metadata": {
        "id": "ZoEPj-QilRQN"
      }
    },
    {
      "cell_type": "code",
      "source": [
        "W2 = torch.randn((100,27),generator=g,requires_grad=True)\n",
        "b2 = torch.randn(27,generator=g,requires_grad=True)"
      ],
      "metadata": {
        "id": "-2Qqzl2uI2R7"
      },
      "execution_count": 28,
      "outputs": []
    },
    {
      "cell_type": "code",
      "source": [
        "logits = h @ W2 + b2\n",
        "logits.shape"
      ],
      "metadata": {
        "colab": {
          "base_uri": "https://localhost:8080/"
        },
        "id": "GUIWXedYmOC_",
        "outputId": "71dedc4f-4a6a-4105-aa75-660fc5a28fea"
      },
      "execution_count": 29,
      "outputs": [
        {
          "output_type": "execute_result",
          "data": {
            "text/plain": [
              "torch.Size([228146, 27])"
            ]
          },
          "metadata": {},
          "execution_count": 29
        }
      ]
    },
    {
      "cell_type": "markdown",
      "source": [
        "### Softmax"
      ],
      "metadata": {
        "id": "z7drRdoxm1O3"
      }
    },
    {
      "cell_type": "code",
      "source": [
        "p = logits.exp()\n",
        "p /= p.sum(1,keepdim=True)\n",
        "\n",
        "p.shape"
      ],
      "metadata": {
        "colab": {
          "base_uri": "https://localhost:8080/"
        },
        "id": "2C0I-qR5muC7",
        "outputId": "191f5747-260f-4120-9925-8ada22ee090f"
      },
      "execution_count": 30,
      "outputs": [
        {
          "output_type": "execute_result",
          "data": {
            "text/plain": [
              "torch.Size([228146, 27])"
            ]
          },
          "metadata": {},
          "execution_count": 30
        }
      ]
    },
    {
      "cell_type": "markdown",
      "source": [
        "### Loss"
      ],
      "metadata": {
        "id": "TFbINE7HoYlA"
      }
    },
    {
      "cell_type": "code",
      "source": [
        "loss = -p[torch.arange(p.shape[0]),y].log().mean()\n",
        "loss"
      ],
      "metadata": {
        "colab": {
          "base_uri": "https://localhost:8080/"
        },
        "id": "teXnvqZ2oapz",
        "outputId": "7f0bc66c-82a3-4eb7-8b07-ec210a892487"
      },
      "execution_count": 31,
      "outputs": [
        {
          "output_type": "execute_result",
          "data": {
            "text/plain": [
              "tensor(19.2358, grad_fn=<NegBackward0>)"
            ]
          },
          "metadata": {},
          "execution_count": 31
        }
      ]
    },
    {
      "cell_type": "markdown",
      "source": [
        "### Efficient way to calculate Loss"
      ],
      "metadata": {
        "id": "dj28K8wSBdBl"
      }
    },
    {
      "cell_type": "code",
      "source": [
        "loss = F.cross_entropy(logits,y)\n",
        "loss"
      ],
      "metadata": {
        "colab": {
          "base_uri": "https://localhost:8080/"
        },
        "id": "4OokKI5nBXLP",
        "outputId": "e6dc7cf4-3dc9-4c36-b455-2a70ed7ae681"
      },
      "execution_count": 32,
      "outputs": [
        {
          "output_type": "execute_result",
          "data": {
            "text/plain": [
              "tensor(19.2358, grad_fn=<NllLossBackward0>)"
            ]
          },
          "metadata": {},
          "execution_count": 32
        }
      ]
    },
    {
      "cell_type": "markdown",
      "source": [
        "### Backpropagation"
      ],
      "metadata": {
        "id": "rArAyJOQoC47"
      }
    },
    {
      "cell_type": "code",
      "source": [
        "parameters = [C,W1,b1,W2,b2]"
      ],
      "metadata": {
        "id": "4XmBke_h3x3_"
      },
      "execution_count": 33,
      "outputs": []
    },
    {
      "cell_type": "code",
      "source": [
        "for p in parameters:\n",
        "\n",
        "  #p.requires_grad = True\n",
        "  #don't set requires_grad here → must be set at init time,\n",
        "  #otherwise loss won't track this param in the graph\n",
        "\n",
        "  #fixed it , remember it\n",
        "\n",
        "  p.grad = None"
      ],
      "metadata": {
        "id": "48ZNzfdA4XmT"
      },
      "execution_count": 34,
      "outputs": []
    },
    {
      "cell_type": "code",
      "source": [
        "loss.backward()"
      ],
      "metadata": {
        "id": "S_MqetFnE0zs"
      },
      "execution_count": 35,
      "outputs": []
    },
    {
      "cell_type": "markdown",
      "source": [
        "## What’s happening under the hood?\n",
        "\n",
        "* When you create a parameter with requires_grad=True, PyTorch starts tracking\n",
        "every operation involving it and builds a computation graph.\n",
        "\n",
        "* During loss.backward(), PyTorch walks backward through this graph and fills in p.grad for each parameter.\n",
        "\n",
        "* Gradients accumulate in .grad (they don’t overwrite). That’s why we set p.grad = None before each backward pass.\n",
        "\n",
        "* If you accidentally set requires_grad=True after the forward pass, the computation graph was already built without tracking, so no grads flow → loss.backward() fails."
      ],
      "metadata": {
        "id": "qFH0vclwHfHG"
      }
    },
    {
      "cell_type": "code",
      "source": [
        "for p in parameters:\n",
        "  p.data -= 0.01 * p.grad"
      ],
      "metadata": {
        "id": "OUDzHD9tFHbt"
      },
      "execution_count": 36,
      "outputs": []
    },
    {
      "cell_type": "markdown",
      "source": [
        "### Forward pass"
      ],
      "metadata": {
        "id": "rjBfNAreN5fA"
      }
    },
    {
      "cell_type": "code",
      "source": [
        "h = torch.tanh(emb.view(-1,6) @ W1 + b1 )\n",
        "logits = h @ W2 +b2\n",
        "loss = F.cross_entropy(logits,y)\n",
        "loss                  #decreased liltle bit"
      ],
      "metadata": {
        "colab": {
          "base_uri": "https://localhost:8080/"
        },
        "id": "k_WV-b2ANnsa",
        "outputId": "7b72d9a0-a246-4fdb-d937-95a18476ec6b"
      },
      "execution_count": 37,
      "outputs": [
        {
          "output_type": "execute_result",
          "data": {
            "text/plain": [
              "tensor(19.1409, grad_fn=<NllLossBackward0>)"
            ]
          },
          "metadata": {},
          "execution_count": 37
        }
      ]
    },
    {
      "cell_type": "markdown",
      "source": [
        "# START OVER"
      ],
      "metadata": {
        "id": "vINJH7BTQZiv"
      }
    },
    {
      "cell_type": "code",
      "source": [
        "x.shape , y.shape"
      ],
      "metadata": {
        "colab": {
          "base_uri": "https://localhost:8080/"
        },
        "id": "b2op2CxQNqkR",
        "outputId": "4b510fa8-199b-4b2d-ca6f-6bf93802f639"
      },
      "execution_count": 131,
      "outputs": [
        {
          "output_type": "execute_result",
          "data": {
            "text/plain": [
              "(torch.Size([228146, 3]), torch.Size([228146]))"
            ]
          },
          "metadata": {},
          "execution_count": 131
        }
      ]
    },
    {
      "cell_type": "code",
      "source": [
        "g = torch.Generator().manual_seed(2147483647)\n",
        "C = torch.randn((27,2),generator=g,requires_grad=True)\n",
        "W1 = torch.randn((6,100),generator=g,requires_grad=True)\n",
        "b1 = torch.randn(100,generator=g,requires_grad=True)\n",
        "W2 = torch.randn((100,27),generator=g,requires_grad=True)\n",
        "b2 = torch.randn(27,generator=g,requires_grad=True)\n",
        "parameters = [C,W1,b1,W2,b2]"
      ],
      "metadata": {
        "id": "meLCR-gQSgAh"
      },
      "execution_count": 132,
      "outputs": []
    },
    {
      "cell_type": "code",
      "source": [
        "sum([p.nelement() for p in parameters])    #parameters"
      ],
      "metadata": {
        "colab": {
          "base_uri": "https://localhost:8080/"
        },
        "id": "IpO_JQM1Ssy-",
        "outputId": "791072a2-5415-474b-e406-b5985b80588d"
      },
      "execution_count": 133,
      "outputs": [
        {
          "output_type": "execute_result",
          "data": {
            "text/plain": [
              "3481"
            ]
          },
          "metadata": {},
          "execution_count": 133
        }
      ]
    },
    {
      "cell_type": "code",
      "source": [
        "losses = []\n",
        "steps = []"
      ],
      "metadata": {
        "id": "mWV7lRFtwSvM"
      },
      "execution_count": 134,
      "outputs": []
    },
    {
      "cell_type": "code",
      "source": [
        "for i in range(100):\n",
        "\n",
        "\n",
        "  #forward\n",
        "  emb = C[x]\n",
        "  h = torch.tanh(emb.view(-1,6) @ W1 + b1)\n",
        "  logits = h @ W2 + b2\n",
        "\n",
        "  loss = F.cross_entropy(logits,y)\n",
        "  #print(loss.item())\n",
        "\n",
        "  #backward\n",
        "  for p in parameters:\n",
        "    p.grad = None\n",
        "\n",
        "  loss.backward()\n",
        "\n",
        "  losses.append(loss.item())\n",
        "  steps.append(i)\n",
        "\n",
        "  #update\n",
        "  for p in parameters:\n",
        "    p.data -= 0.1 * p.grad\n",
        "\n"
      ],
      "metadata": {
        "id": "T2e2pV_YUfpx"
      },
      "execution_count": 135,
      "outputs": []
    },
    {
      "cell_type": "code",
      "source": [
        "plt.plot(steps,losses)"
      ],
      "metadata": {
        "colab": {
          "base_uri": "https://localhost:8080/",
          "height": 452
        },
        "id": "_Y_O6CLFwnQi",
        "outputId": "c7fbae1b-b210-4b50-9d6f-17da0fc9bc56"
      },
      "execution_count": 136,
      "outputs": [
        {
          "output_type": "execute_result",
          "data": {
            "text/plain": [
              "[<matplotlib.lines.Line2D at 0x7bec32749250>]"
            ]
          },
          "metadata": {},
          "execution_count": 136
        },
        {
          "output_type": "display_data",
          "data": {
            "text/plain": [
              "<Figure size 640x480 with 1 Axes>"
            ],
            "image/png": "[encoded data removed]"
          },
          "metadata": {}
        }
      ]
    },
    {
      "cell_type": "markdown",
      "source": [
        "### Using Minibatches\n",
        "\n",
        "Mini-batches are used in training because:\n",
        "\n",
        "* Full-batch gradient descent (using all data each step) gives the exact gradient but is slow.\n",
        "\n",
        "* Mini-batch gradient descent (using a random subset of data) gives an approximation of the true gradient that is much faster to compute.\n",
        "\n",
        "* This approximation is usually “good enough” to move the parameters in the right direction, and the randomness even helps escape local minima."
      ],
      "metadata": {
        "id": "8HByiZHMmIWN"
      }
    },
    {
      "cell_type": "code",
      "source": [
        "for _ in range(100):\n",
        "\n",
        "\n",
        "  #minibatches\n",
        "  ix = torch.randint(0,x.shape[0],(32,))\n",
        "\n",
        "\n",
        "  #forward\n",
        "  emb = C[x[ix]]\n",
        "  h = torch.tanh(emb.view(-1,6) @ W1 + b1)\n",
        "  logits = h @ W2 + b2\n",
        "\n",
        "  loss = F.cross_entropy(logits,y[ix])\n",
        "  print(loss.item())\n",
        "\n",
        "  #backward\n",
        "  for p in parameters:\n",
        "    p.grad = None\n",
        "\n",
        "  loss.backward()\n",
        "\n",
        "  #update\n",
        "  for p in parameters:\n",
        "    p.data -= 0.1 * p.grad\n",
        "\n"
      ],
      "metadata": {
        "colab": {
          "base_uri": "https://localhost:8080/"
        },
        "id": "2XGjR62eWONA",
        "outputId": "d12078b2-41d4-497b-d84c-4e46d5b7e34e"
      },
      "execution_count": 42,
      "outputs": [
        {
          "output_type": "stream",
          "name": "stdout",
          "text": [
            "3.5728275775909424\n",
            "3.727341651916504\n",
            "3.7163519859313965\n",
            "4.072206020355225\n",
            "2.739349365234375\n",
            "3.550478219985962\n",
            "3.3306729793548584\n",
            "4.607418060302734\n",
            "3.638533115386963\n",
            "3.8557193279266357\n",
            "3.7535576820373535\n",
            "3.521111011505127\n",
            "3.0870494842529297\n",
            "3.742175579071045\n",
            "3.671142101287842\n",
            "3.365323066711426\n",
            "4.208641529083252\n",
            "3.011870861053467\n",
            "3.4081642627716064\n",
            "4.470665454864502\n",
            "3.575873374938965\n",
            "2.9311914443969727\n",
            "3.5797152519226074\n",
            "3.7647640705108643\n",
            "4.210079669952393\n",
            "4.397905349731445\n",
            "3.8988609313964844\n",
            "3.981323480606079\n",
            "3.453437566757202\n",
            "4.000040054321289\n",
            "3.4671406745910645\n",
            "2.962592840194702\n",
            "4.0261993408203125\n",
            "3.5317559242248535\n",
            "3.158383369445801\n",
            "3.4641377925872803\n",
            "3.188533067703247\n",
            "3.100071430206299\n",
            "3.216815710067749\n",
            "3.7667715549468994\n",
            "2.869187593460083\n",
            "4.817841529846191\n",
            "3.289104700088501\n",
            "3.246553421020508\n",
            "3.102363348007202\n",
            "2.5655477046966553\n",
            "3.2277371883392334\n",
            "3.0693438053131104\n",
            "3.1363954544067383\n",
            "3.2471370697021484\n",
            "3.5177955627441406\n",
            "3.1945462226867676\n",
            "3.1512064933776855\n",
            "2.8249666690826416\n",
            "2.7459328174591064\n",
            "2.7601747512817383\n",
            "2.939638137817383\n",
            "3.295222282409668\n",
            "3.0414421558380127\n",
            "2.9614903926849365\n",
            "3.091874361038208\n",
            "3.3474390506744385\n",
            "3.749363660812378\n",
            "2.9215047359466553\n",
            "3.6780717372894287\n",
            "3.635852575302124\n",
            "3.3474302291870117\n",
            "3.1620914936065674\n",
            "2.755155086517334\n",
            "2.9759652614593506\n",
            "3.126307964324951\n",
            "2.7901742458343506\n",
            "3.278047800064087\n",
            "3.318376064300537\n",
            "2.7995033264160156\n",
            "3.0154337882995605\n",
            "3.2081267833709717\n",
            "3.3333287239074707\n",
            "3.1383180618286133\n",
            "3.1299259662628174\n",
            "3.0177886486053467\n",
            "3.515606641769409\n",
            "3.0306155681610107\n",
            "3.111722707748413\n",
            "2.935682535171509\n",
            "2.7284042835235596\n",
            "3.1300437450408936\n",
            "3.693532943725586\n",
            "3.498865842819214\n",
            "3.295156478881836\n",
            "3.069324016571045\n",
            "3.0760421752929688\n",
            "2.809875726699829\n",
            "3.360222578048706\n",
            "3.099883556365967\n",
            "3.049555540084839\n",
            "2.760068655014038\n",
            "3.1616108417510986\n",
            "3.401204824447632\n",
            "2.9985053539276123\n"
          ]
        }
      ]
    },
    {
      "cell_type": "markdown",
      "source": [
        "### Finding good initial learning rate"
      ],
      "metadata": {
        "id": "AD9I6jAiTeIU"
      }
    },
    {
      "cell_type": "code",
      "source": [
        "lre = torch.linspace(-3,0,1000)\n",
        "lrs = 10**lre"
      ],
      "metadata": {
        "id": "IRh3FPI6WOqE"
      },
      "execution_count": 48,
      "outputs": []
    },
    {
      "cell_type": "code",
      "source": [
        "plt.plot(lre,lrs)\n",
        "plt.grid()"
      ],
      "metadata": {
        "id": "tDy40tALWPPt",
        "colab": {
          "base_uri": "https://localhost:8080/",
          "height": 430
        },
        "outputId": "5530c7a0-3eed-4ed2-8086-da1cd1182697"
      },
      "execution_count": 49,
      "outputs": [
        {
          "output_type": "display_data",
          "data": {
            "text/plain": [
              "<Figure size 640x480 with 1 Axes>"
            ],
            "image/png": "[encoded data removed]"
          },
          "metadata": {}
        }
      ]
    },
    {
      "cell_type": "markdown",
      "source": [
        "### Reset"
      ],
      "metadata": {
        "id": "d4Fre-03WiHH"
      }
    },
    {
      "cell_type": "code",
      "source": [
        "g = torch.Generator().manual_seed(2147483647)\n",
        "C = torch.randn((27,2),generator=g,requires_grad=True)\n",
        "W1 = torch.randn((6,100),generator=g,requires_grad=True)\n",
        "b1 = torch.randn(100,generator=g,requires_grad=True)\n",
        "W2 = torch.randn((100,27),generator=g,requires_grad=True)\n",
        "b2 = torch.randn(27,generator=g,requires_grad=True)\n",
        "parameters = [C,W1,b1,W2,b2]"
      ],
      "metadata": {
        "id": "igjbjoJ_Wdig"
      },
      "execution_count": 50,
      "outputs": []
    },
    {
      "cell_type": "code",
      "source": [
        "lri = []\n",
        "losses = []\n",
        "\n",
        "\n",
        "for i in range(1000):\n",
        "\n",
        "\n",
        "  #minibatches\n",
        "  ix = torch.randint(0,x.shape[0],(32,))\n",
        "\n",
        "\n",
        "  #forward\n",
        "  emb = C[x[ix]]\n",
        "  h = torch.tanh(emb.view(-1,6) @ W1 + b1)\n",
        "  logits = h @ W2 + b2\n",
        "\n",
        "  loss = F.cross_entropy(logits,y[ix])\n",
        "  #print(loss.item())\n",
        "\n",
        "  #backward\n",
        "  for p in parameters:\n",
        "    p.grad = None\n",
        "\n",
        "  loss.backward()\n",
        "\n",
        "  lr = lrs[i]\n",
        "\n",
        "  #update\n",
        "  for p in parameters:\n",
        "    p.data -= lr * p.grad\n",
        "\n",
        "\n",
        "  #track stats\n",
        "  losses.append(loss.item())\n",
        "  lri.append(lr)\n",
        "\n"
      ],
      "metadata": {
        "id": "6FxCR7LcU5RT"
      },
      "execution_count": 51,
      "outputs": []
    },
    {
      "cell_type": "code",
      "source": [
        "plt.plot(lri,losses)"
      ],
      "metadata": {
        "colab": {
          "base_uri": "https://localhost:8080/",
          "height": 447
        },
        "id": "NEpDh5cbXgfX",
        "outputId": "e9678d81-d51b-446c-e0ea-2d62739eff41"
      },
      "execution_count": 52,
      "outputs": [
        {
          "output_type": "execute_result",
          "data": {
            "text/plain": [
              "[<matplotlib.lines.Line2D at 0x7bec5d0d2f90>]"
            ]
          },
          "metadata": {},
          "execution_count": 52
        },
        {
          "output_type": "display_data",
          "data": {
            "text/plain": [
              "<Figure size 640x480 with 1 Axes>"
            ],
            "image/png": "[encoded data removed]"
          },
          "metadata": {}
        }
      ]
    },
    {
      "cell_type": "code",
      "source": [
        "# near o.1 is good learning rate , final stages of traning reduce learning rate"
      ],
      "metadata": {
        "id": "quflR_r-XkNj"
      },
      "execution_count": 53,
      "outputs": []
    },
    {
      "cell_type": "markdown",
      "source": [
        "### Dataset Split\n",
        "- **Train (80%)** → model learns patterns.  \n",
        "- **Validation (10%)** → tune hyperparameters, prevent overfitting.  \n",
        "- **Test (10%)** → final unbiased evaluation.  \n"
      ],
      "metadata": {
        "id": "oOeCRgFYaYDX"
      }
    },
    {
      "cell_type": "code",
      "source": [
        "block_size = 3\n",
        "\n",
        "def build_dataset(words):\n",
        "\n",
        "  xs,ys = [],[]\n",
        "\n",
        "  context = [0]*block_size\n",
        "\n",
        "  for w in words:\n",
        "    for ch in w + '.':\n",
        "\n",
        "      xs.append(context)\n",
        "      next = stoi[ch]\n",
        "      ys.append(next)\n",
        "\n",
        "      context = context[1:] + [next]\n",
        "\n",
        "  x = torch.tensor(xs)\n",
        "  y = torch.tensor(ys)\n",
        "  return x,y\n"
      ],
      "metadata": {
        "id": "xuw_iPjLhRQI"
      },
      "execution_count": 54,
      "outputs": []
    },
    {
      "cell_type": "code",
      "source": [
        "import random\n",
        "\n",
        "random.seed(42)\n",
        "random.shuffle(words)\n",
        "\n",
        "n1 = int(0.8 * len(words))\n",
        "n2 = int(0.9 * len(words))\n",
        "\n",
        "\n",
        "xtr , ytr = build_dataset(words[:n1])\n",
        "xdev ,ydev = build_dataset(words[n1:n2])\n",
        "xte ,yte = build_dataset(words[n2:])\n"
      ],
      "metadata": {
        "id": "NAlNoz5xZMuN"
      },
      "execution_count": 55,
      "outputs": []
    },
    {
      "cell_type": "code",
      "source": [
        "xtr.shape , ytr.shape"
      ],
      "metadata": {
        "colab": {
          "base_uri": "https://localhost:8080/"
        },
        "id": "5XGTkZodh_zu",
        "outputId": "1162cc9d-cfbb-46d4-e233-6e80ebc18dd9"
      },
      "execution_count": 56,
      "outputs": [
        {
          "output_type": "execute_result",
          "data": {
            "text/plain": [
              "(torch.Size([182625, 3]), torch.Size([182625]))"
            ]
          },
          "metadata": {},
          "execution_count": 56
        }
      ]
    },
    {
      "cell_type": "markdown",
      "source": [
        "#### Train again using train split dataset"
      ],
      "metadata": {
        "id": "VvLHW8gDiUnN"
      }
    },
    {
      "cell_type": "code",
      "source": [
        "g = torch.Generator().manual_seed(2147483647)\n",
        "C = torch.randn((27,2),generator=g,requires_grad=True)\n",
        "W1 = torch.randn((6,100),generator=g,requires_grad=True)\n",
        "b1 = torch.randn(100,generator=g,requires_grad=True)\n",
        "W2 = torch.randn((100,27),generator=g,requires_grad=True)\n",
        "b2 = torch.randn(27,generator=g,requires_grad=True)\n",
        "parameters = [C,W1,b1,W2,b2]"
      ],
      "metadata": {
        "id": "OJrsa9BpjA2z"
      },
      "execution_count": 64,
      "outputs": []
    },
    {
      "cell_type": "code",
      "source": [
        "for i in range(100):\n",
        "\n",
        "  #minibatch\n",
        "  ix = torch.randint(0,xtr.shape[0],(32,))\n",
        "\n",
        "  #forward\n",
        "  emb = C[xtr[ix]]\n",
        "  h = torch.tanh(emb.view(-1,6) @ W1 + b1)\n",
        "  logits = h @ W2 + b2\n",
        "  loss = F.cross_entropy(logits,ytr[ix])\n",
        "\n",
        "  #backward\n",
        "  for p in parameters:\n",
        "    p.grad = None\n",
        "\n",
        "  loss.backward()\n",
        "\n",
        "  #update\n",
        "  for p in parameters:\n",
        "    p.data -= 0.1 * p.grad\n",
        "\n",
        "\n",
        "print(loss.item())"
      ],
      "metadata": {
        "colab": {
          "base_uri": "https://localhost:8080/"
        },
        "id": "5zXlZXXzjkTB",
        "outputId": "1455e973-3d2d-4fa1-bd69-54b3a55e0bf9"
      },
      "execution_count": 76,
      "outputs": [
        {
          "output_type": "stream",
          "name": "stdout",
          "text": [
            "2.792816162109375\n"
          ]
        }
      ]
    },
    {
      "cell_type": "markdown",
      "source": [
        "### evaluate loss : full training dataset"
      ],
      "metadata": {
        "id": "q4coCm_0nrKQ"
      }
    },
    {
      "cell_type": "code",
      "source": [
        "emb = C[xtr]\n",
        "h = torch.tanh(emb.view(-1,6) @ W1 + b1)\n",
        "logits = h @ W2 + b2\n",
        "\n",
        "loss = F.cross_entropy(logits,ytr)\n",
        "print(loss.item())"
      ],
      "metadata": {
        "colab": {
          "base_uri": "https://localhost:8080/"
        },
        "id": "K8wdy2f9npFw",
        "outputId": "b4d32554-4ac3-4c25-a250-11dfd6b1b05c"
      },
      "execution_count": 78,
      "outputs": [
        {
          "output_type": "stream",
          "name": "stdout",
          "text": [
            "2.7529900074005127\n"
          ]
        }
      ]
    },
    {
      "cell_type": "markdown",
      "source": [
        "### evaluate loss : dev dataset"
      ],
      "metadata": {
        "id": "lLq_Gr8enJ1e"
      }
    },
    {
      "cell_type": "code",
      "source": [
        "emb = C[xdev]\n",
        "h = torch.tanh(emb.view(-1,6) @ W1 + b1)\n",
        "logits = h @ W2 + b2\n",
        "\n",
        "loss = F.cross_entropy(logits,ydev)\n",
        "print(loss.item())"
      ],
      "metadata": {
        "colab": {
          "base_uri": "https://localhost:8080/"
        },
        "id": "AmdDpMw-mIRX",
        "outputId": "2d3df179-4b7c-4873-f815-cce5363816f3"
      },
      "execution_count": 79,
      "outputs": [
        {
          "output_type": "stream",
          "name": "stdout",
          "text": [
            "2.755653142929077\n"
          ]
        }
      ]
    },
    {
      "cell_type": "markdown",
      "source": [
        "### Underfitting\n",
        "\n",
        "- Train loss ≈ Dev loss, but both are high → model underfitting.  \n",
        "- Cause: too few parameters (low capacity).  \n",
        "- Fix: add hidden units/layers, bigger embeddings, or train longer.  \n"
      ],
      "metadata": {
        "id": "PqZtgf9polP_"
      }
    },
    {
      "cell_type": "markdown",
      "source": [
        "### Try larger hidden layer"
      ],
      "metadata": {
        "id": "LiNFxw5bqkIJ"
      }
    },
    {
      "cell_type": "code",
      "source": [
        "g = torch.Generator().manual_seed(2147483647)\n",
        "C = torch.randn((27,2),generator=g,requires_grad=True)\n",
        "W1 = torch.randn((6,200),generator=g,requires_grad=True)\n",
        "b1 = torch.randn(200,generator=g,requires_grad=True)\n",
        "W2 = torch.randn((200,27),generator=g,requires_grad=True)\n",
        "b2 = torch.randn(27,generator=g,requires_grad=True)\n",
        "parameters = [C,W1,b1,W2,b2]"
      ],
      "metadata": {
        "id": "hQYAFGB7oncu"
      },
      "execution_count": 96,
      "outputs": []
    },
    {
      "cell_type": "code",
      "source": [
        "sum([p.nelement() for p in parameters])    #num of parameters"
      ],
      "metadata": {
        "colab": {
          "base_uri": "https://localhost:8080/"
        },
        "id": "08z2vF3eqqda",
        "outputId": "c1186c1e-051f-4b12-a58f-7e9fa2b0fea7"
      },
      "execution_count": 97,
      "outputs": [
        {
          "output_type": "execute_result",
          "data": {
            "text/plain": [
              "6881"
            ]
          },
          "metadata": {},
          "execution_count": 97
        }
      ]
    },
    {
      "cell_type": "code",
      "source": [
        "losses = []\n",
        "steps = []"
      ],
      "metadata": {
        "id": "kZXWeML3q-K1"
      },
      "execution_count": 98,
      "outputs": []
    },
    {
      "cell_type": "code",
      "source": [
        "for i in range(10000):\n",
        "\n",
        "  #minibatch\n",
        "  ix = torch.randint(0,xtr.shape[0],(32,))\n",
        "\n",
        "  #forward\n",
        "  emb = C[xtr[ix]]\n",
        "  h = torch.tanh(emb.view(-1,6) @ W1 + b1)\n",
        "  logits = h @ W2 + b2\n",
        "  loss = F.cross_entropy(logits,ytr[ix])\n",
        "\n",
        "  #backward\n",
        "  for p in parameters:\n",
        "    p.grad = None\n",
        "\n",
        "  loss.backward()\n",
        "\n",
        "  #track loss\n",
        "  losses.append(loss.item())\n",
        "  steps.append(i)\n",
        "\n",
        "  #update\n",
        "  for p in parameters:\n",
        "    p.data -= 0.001 * p.grad"
      ],
      "metadata": {
        "id": "PeGfTpcnqzG-"
      },
      "execution_count": 108,
      "outputs": []
    },
    {
      "cell_type": "code",
      "source": [
        "plt.plot(steps,losses)"
      ],
      "metadata": {
        "colab": {
          "base_uri": "https://localhost:8080/",
          "height": 447
        },
        "id": "6OkOVJ2VrNmx",
        "outputId": "522b07d9-6f09-49df-e38d-8f61228e1295"
      },
      "execution_count": 104,
      "outputs": [
        {
          "output_type": "execute_result",
          "data": {
            "text/plain": [
              "[<matplotlib.lines.Line2D at 0x7bec41b64cd0>]"
            ]
          },
          "metadata": {},
          "execution_count": 104
        },
        {
          "output_type": "display_data",
          "data": {
            "text/plain": [
              "<Figure size 640x480 with 1 Axes>"
            ],
            "image/png": "[encoded data removed]"
          },
          "metadata": {}
        }
      ]
    },
    {
      "cell_type": "markdown",
      "source": [
        "### Why Loss Curves Look Noisy\n",
        "- **Mini-batches** → different data each step causes fluctuations.  \n",
        "- **High learning rate** → bigger jumps, more noise.  \n",
        "- **Randomness** (init, dropout, shuffling) adds variability.  \n",
        "\n",
        "### How to Reduce Noise\n",
        "- Use a **moving average** or smoothing when plotting.  \n",
        "- **Increase batch size** → more stable gradients.  \n",
        "- **Lower learning rate** if too jumpy.  \n",
        "- Run for **more epochs** → long-term trend becomes clearer.  \n",
        "\n",
        "Noise is normal — focus on the **overall downward trend**.\n"
      ],
      "metadata": {
        "id": "B1uoXsi5yNLK"
      }
    },
    {
      "cell_type": "code",
      "source": [
        "# evaluate loss : full training dataset\n",
        "emb = C[xtr]\n",
        "h = torch.tanh(emb.view(-1,6) @ W1 + b1)\n",
        "logits = h @ W2 + b2\n",
        "\n",
        "loss = F.cross_entropy(logits,ytr)\n",
        "print(loss.item())"
      ],
      "metadata": {
        "colab": {
          "base_uri": "https://localhost:8080/"
        },
        "id": "GMWJoQRSrXJp",
        "outputId": "b67ec40a-a4f4-4608-bde2-3ebce57e29d9"
      },
      "execution_count": 109,
      "outputs": [
        {
          "output_type": "stream",
          "name": "stdout",
          "text": [
            "2.37495493888855\n"
          ]
        }
      ]
    },
    {
      "cell_type": "code",
      "source": [
        "# evaluate loss : dev dataset\n",
        "emb = C[xdev]\n",
        "h = torch.tanh(emb.view(-1,6) @ W1 + b1)\n",
        "logits = h @ W2 + b2\n",
        "\n",
        "loss = F.cross_entropy(logits,ydev)\n",
        "print(loss.item())"
      ],
      "metadata": {
        "colab": {
          "base_uri": "https://localhost:8080/"
        },
        "id": "JTyLLcqjriuv",
        "outputId": "f7ab0435-cff1-4012-dbd0-1c7f3235ed43"
      },
      "execution_count": 110,
      "outputs": [
        {
          "output_type": "stream",
          "name": "stdout",
          "text": [
            "2.373778820037842\n"
          ]
        }
      ]
    },
    {
      "cell_type": "markdown",
      "source": [
        "### Visualizing character embedding"
      ],
      "metadata": {
        "id": "HwX14qBYsXct"
      }
    },
    {
      "cell_type": "code",
      "source": [
        "plt.figure(figsize=(6,6))\n",
        "plt.scatter(C[:,0].data, C[:,1].data, s=200)\n",
        "for i in range(C.shape[0]):\n",
        "    plt.text(C[i,0].item(), C[i,1].item(), itos[i], ha=\"center\", va=\"center\", color='white')\n",
        "plt.grid('minor')"
      ],
      "metadata": {
        "colab": {
          "base_uri": "https://localhost:8080/",
          "height": 522
        },
        "id": "sqh8xAuxru5-",
        "outputId": "d5b56e70-c4f0-4ae7-b602-c7736a7cafda"
      },
      "execution_count": 112,
      "outputs": [
        {
          "output_type": "display_data",
          "data": {
            "text/plain": [
              "<Figure size 600x600 with 1 Axes>"
            ],
            "image/png": "[encoded data removed]"
          },
          "metadata": {}
        }
      ]
    },
    {
      "cell_type": "markdown",
      "source": [
        "### Try lager embedding size"
      ],
      "metadata": {
        "id": "B4fGdLW_tEZg"
      }
    },
    {
      "cell_type": "code",
      "source": [
        "g = torch.Generator().manual_seed(2147483647)\n",
        "C = torch.randn((27,10),generator=g,requires_grad=True)\n",
        "W1 = torch.randn((30,200),generator=g,requires_grad=True)\n",
        "b1 = torch.randn(200,generator=g,requires_grad=True)\n",
        "W2 = torch.randn((200,27),generator=g,requires_grad=True)\n",
        "b2 = torch.randn(27,generator=g,requires_grad=True)\n",
        "parameters = [C,W1,b1,W2,b2]"
      ],
      "metadata": {
        "id": "OqeGbhTdshaF"
      },
      "execution_count": 118,
      "outputs": []
    },
    {
      "cell_type": "code",
      "source": [
        "sum([p.nelement() for p in parameters])    #num of parameters"
      ],
      "metadata": {
        "colab": {
          "base_uri": "https://localhost:8080/"
        },
        "id": "a9r9ie-ftJvi",
        "outputId": "85f85b09-551b-482f-df42-14514bed5f08"
      },
      "execution_count": 115,
      "outputs": [
        {
          "output_type": "execute_result",
          "data": {
            "text/plain": [
              "11897"
            ]
          },
          "metadata": {},
          "execution_count": 115
        }
      ]
    },
    {
      "cell_type": "code",
      "source": [
        "for i in range(20000):\n",
        "\n",
        "  #minibatch\n",
        "  ix = torch.randint(0,xtr.shape[0],(32,))\n",
        "\n",
        "  #forward\n",
        "  emb = C[xtr[ix]]\n",
        "  h = torch.tanh(emb.view(-1,30) @ W1 + b1)\n",
        "  logits = h @ W2 + b2\n",
        "  loss = F.cross_entropy(logits,ytr[ix])\n",
        "\n",
        "  #backward\n",
        "  for p in parameters:\n",
        "    p.grad = None\n",
        "\n",
        "  loss.backward()\n",
        "\n",
        "  #track loss\n",
        "  losses.append(loss.item())\n",
        "  steps.append(i)\n",
        "\n",
        "  #update\n",
        "  for p in parameters:\n",
        "    p.data -= 0.1 * p.grad"
      ],
      "metadata": {
        "id": "sRBDCwZ7tSKW"
      },
      "execution_count": 124,
      "outputs": []
    },
    {
      "cell_type": "code",
      "source": [
        "# evaluate loss : full training dataset\n",
        "emb = C[xtr]\n",
        "h = torch.tanh(emb.view(-1,30) @ W1 + b1)\n",
        "logits = h @ W2 + b2\n",
        "\n",
        "loss = F.cross_entropy(logits,ytr)\n",
        "print(loss.item())"
      ],
      "metadata": {
        "colab": {
          "base_uri": "https://localhost:8080/"
        },
        "id": "f16ooRZRtUdn",
        "outputId": "b924e965-ac7d-4da7-9544-e767dd4fef17"
      },
      "execution_count": 125,
      "outputs": [
        {
          "output_type": "stream",
          "name": "stdout",
          "text": [
            "2.45064377784729\n"
          ]
        }
      ]
    },
    {
      "cell_type": "code",
      "source": [
        "# evaluate loss : dev dataset\n",
        "emb = C[xdev]\n",
        "h = torch.tanh(emb.view(-1,30) @ W1 + b1)\n",
        "logits = h @ W2 + b2\n",
        "\n",
        "loss = F.cross_entropy(logits,ydev)\n",
        "print(loss.item())"
      ],
      "metadata": {
        "colab": {
          "base_uri": "https://localhost:8080/"
        },
        "id": "fRialpjMtfQd",
        "outputId": "5416c20a-b009-43b5-c154-1ae939d5e82b"
      },
      "execution_count": 126,
      "outputs": [
        {
          "output_type": "stream",
          "name": "stdout",
          "text": [
            "2.46928334236145\n"
          ]
        }
      ]
    },
    {
      "cell_type": "code",
      "source": [],
      "metadata": {
        "id": "QlnKukOIuk3z"
      },
      "execution_count": null,
      "outputs": []
    }
  ]
}