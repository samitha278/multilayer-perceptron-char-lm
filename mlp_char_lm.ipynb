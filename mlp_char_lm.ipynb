{
  "nbformat": 4,
  "nbformat_minor": 0,
  "metadata": {
    "colab": {
      "provenance": [],
      "authorship_tag": "ABX9TyPo9K7yLfy6SobGQHxsIOiY",
      "include_colab_link": true
    },
    "kernelspec": {
      "name": "python3",
      "display_name": "Python 3"
    },
    "language_info": {
      "name": "python"
    }
  },
  "cells": [
    {
      "cell_type": "markdown",
      "metadata": {
        "id": "view-in-github",
        "colab_type": "text"
      },
      "source": [
        "<a href=\"https://colab.research.google.com/github/samitha278/multilayer-perceptron-char-lm/blob/main/mlp_char_lm.ipynb\" target=\"_parent\"><img src=\"https://colab.research.google.com/assets/colab-badge.svg\" alt=\"Open In Colab\"/></a>"
      ]
    },
    {
      "cell_type": "code",
      "execution_count": 2,
      "metadata": {
        "id": "36X2bq5nVf4y"
      },
      "outputs": [],
      "source": [
        "import torch\n",
        "import torch.nn.functional as F\n",
        "import matplotlib.pyplot as plt"
      ]
    },
    {
      "cell_type": "code",
      "source": [
        "from google.colab import files\n",
        "\n",
        "uploaded = files.upload()\n"
      ],
      "metadata": {
        "colab": {
          "base_uri": "https://localhost:8080/",
          "height": 73
        },
        "id": "_qlY2cy2s6sn",
        "outputId": "ed54446e-1094-4838-e682-16b19276b20f"
      },
      "execution_count": 3,
      "outputs": [
        {
          "output_type": "display_data",
          "data": {
            "text/plain": [
              "<IPython.core.display.HTML object>"
            ],
            "text/html": [
              "\n",
              "     <input type=\"file\" id=\"files-9074552a-5318-4579-9849-f6bff21a24e0\" name=\"files[]\" multiple disabled\n",
              "        style=\"border:none\" />\n",
              "     <output id=\"result-9074552a-5318-4579-9849-f6bff21a24e0\">\n",
              "      Upload widget is only available when the cell has been executed in the\n",
              "      current browser session. Please rerun this cell to enable.\n",
              "      </output>\n",
              "      <script>// Copyright 2017 Google LLC\n",
              "//\n",
              "// Licensed under the Apache License, Version 2.0 (the \"License\");\n",
              "// you may not use this file except in compliance with the License.\n",
              "// You may obtain a copy of the License at\n",
              "//\n",
              "//      http://www.apache.org/licenses/LICENSE-2.0\n",
              "//\n",
              "// Unless required by applicable law or agreed to in writing, software\n",
              "// distributed under the License is distributed on an \"AS IS\" BASIS,\n",
              "// WITHOUT WARRANTIES OR CONDITIONS OF ANY KIND, either express or implied.\n",
              "// See the License for the specific language governing permissions and\n",
              "// limitations under the License.\n",
              "\n",
              "/**\n",
              " * @fileoverview Helpers for google.colab Python module.\n",
              " */\n",
              "(function(scope) {\n",
              "function span(text, styleAttributes = {}) {\n",
              "  const element = document.createElement('span');\n",
              "  element.textContent = text;\n",
              "  for (const key of Object.keys(styleAttributes)) {\n",
              "    element.style[key] = styleAttributes[key];\n",
              "  }\n",
              "  return element;\n",
              "}\n",
              "\n",
              "// Max number of bytes which will be uploaded at a time.\n",
              "const MAX_PAYLOAD_SIZE = 100 * 1024;\n",
              "\n",
              "function _uploadFiles(inputId, outputId) {\n",
              "  const steps = uploadFilesStep(inputId, outputId);\n",
              "  const outputElement = document.getElementById(outputId);\n",
              "  // Cache steps on the outputElement to make it available for the next call\n",
              "  // to uploadFilesContinue from Python.\n",
              "  outputElement.steps = steps;\n",
              "\n",
              "  return _uploadFilesContinue(outputId);\n",
              "}\n",
              "\n",
              "// This is roughly an async generator (not supported in the browser yet),\n",
              "// where there are multiple asynchronous steps and the Python side is going\n",
              "// to poll for completion of each step.\n",
              "// This uses a Promise to block the python side on completion of each step,\n",
              "// then passes the result of the previous step as the input to the next step.\n",
              "function _uploadFilesContinue(outputId) {\n",
              "  const outputElement = document.getElementById(outputId);\n",
              "  const steps = outputElement.steps;\n",
              "\n",
              "  const next = steps.next(outputElement.lastPromiseValue);\n",
              "  return Promise.resolve(next.value.promise).then((value) => {\n",
              "    // Cache the last promise value to make it available to the next\n",
              "    // step of the generator.\n",
              "    outputElement.lastPromiseValue = value;\n",
              "    return next.value.response;\n",
              "  });\n",
              "}\n",
              "\n",
              "/**\n",
              " * Generator function which is called between each async step of the upload\n",
              " * process.\n",
              " * @param {string} inputId Element ID of the input file picker element.\n",
              " * @param {string} outputId Element ID of the output display.\n",
              " * @return {!Iterable<!Object>} Iterable of next steps.\n",
              " */\n",
              "function* uploadFilesStep(inputId, outputId) {\n",
              "  const inputElement = document.getElementById(inputId);\n",
              "  inputElement.disabled = false;\n",
              "\n",
              "  const outputElement = document.getElementById(outputId);\n",
              "  outputElement.innerHTML = '';\n",
              "\n",
              "  const pickedPromise = new Promise((resolve) => {\n",
              "    inputElement.addEventListener('change', (e) => {\n",
              "      resolve(e.target.files);\n",
              "    });\n",
              "  });\n",
              "\n",
              "  const cancel = document.createElement('button');\n",
              "  inputElement.parentElement.appendChild(cancel);\n",
              "  cancel.textContent = 'Cancel upload';\n",
              "  const cancelPromise = new Promise((resolve) => {\n",
              "    cancel.onclick = () => {\n",
              "      resolve(null);\n",
              "    };\n",
              "  });\n",
              "\n",
              "  // Wait for the user to pick the files.\n",
              "  const files = yield {\n",
              "    promise: Promise.race([pickedPromise, cancelPromise]),\n",
              "    response: {\n",
              "      action: 'starting',\n",
              "    }\n",
              "  };\n",
              "\n",
              "  cancel.remove();\n",
              "\n",
              "  // Disable the input element since further picks are not allowed.\n",
              "  inputElement.disabled = true;\n",
              "\n",
              "  if (!files) {\n",
              "    return {\n",
              "      response: {\n",
              "        action: 'complete',\n",
              "      }\n",
              "    };\n",
              "  }\n",
              "\n",
              "  for (const file of files) {\n",
              "    const li = document.createElement('li');\n",
              "    li.append(span(file.name, {fontWeight: 'bold'}));\n",
              "    li.append(span(\n",
              "        `(${file.type || 'n/a'}) - ${file.size} bytes, ` +\n",
              "        `last modified: ${\n",
              "            file.lastModifiedDate ? file.lastModifiedDate.toLocaleDateString() :\n",
              "                                    'n/a'} - `));\n",
              "    const percent = span('0% done');\n",
              "    li.appendChild(percent);\n",
              "\n",
              "    outputElement.appendChild(li);\n",
              "\n",
              "    const fileDataPromise = new Promise((resolve) => {\n",
              "      const reader = new FileReader();\n",
              "      reader.onload = (e) => {\n",
              "        resolve(e.target.result);\n",
              "      };\n",
              "      reader.readAsArrayBuffer(file);\n",
              "    });\n",
              "    // Wait for the data to be ready.\n",
              "    let fileData = yield {\n",
              "      promise: fileDataPromise,\n",
              "      response: {\n",
              "        action: 'continue',\n",
              "      }\n",
              "    };\n",
              "\n",
              "    // Use a chunked sending to avoid message size limits. See b/62115660.\n",
              "    let position = 0;\n",
              "    do {\n",
              "      const length = Math.min(fileData.byteLength - position, MAX_PAYLOAD_SIZE);\n",
              "      const chunk = new Uint8Array(fileData, position, length);\n",
              "      position += length;\n",
              "\n",
              "      const base64 = btoa(String.fromCharCode.apply(null, chunk));\n",
              "      yield {\n",
              "        response: {\n",
              "          action: 'append',\n",
              "          file: file.name,\n",
              "          data: base64,\n",
              "        },\n",
              "      };\n",
              "\n",
              "      let percentDone = fileData.byteLength === 0 ?\n",
              "          100 :\n",
              "          Math.round((position / fileData.byteLength) * 100);\n",
              "      percent.textContent = `${percentDone}% done`;\n",
              "\n",
              "    } while (position < fileData.byteLength);\n",
              "  }\n",
              "\n",
              "  // All done.\n",
              "  yield {\n",
              "    response: {\n",
              "      action: 'complete',\n",
              "    }\n",
              "  };\n",
              "}\n",
              "\n",
              "scope.google = scope.google || {};\n",
              "scope.google.colab = scope.google.colab || {};\n",
              "scope.google.colab._files = {\n",
              "  _uploadFiles,\n",
              "  _uploadFilesContinue,\n",
              "};\n",
              "})(self);\n",
              "</script> "
            ]
          },
          "metadata": {}
        },
        {
          "output_type": "stream",
          "name": "stdout",
          "text": [
            "Saving names.txt to names (1).txt\n"
          ]
        }
      ]
    },
    {
      "cell_type": "code",
      "source": [
        "words = open(\"names.txt\",\"r\").read().splitlines()"
      ],
      "metadata": {
        "id": "YI2y9MAXshIK"
      },
      "execution_count": 4,
      "outputs": []
    },
    {
      "cell_type": "code",
      "source": [
        "chars = sorted(list(set(\"\".join(words))))\n",
        "stoi = {s:i+1 for i,s in enumerate(chars)}\n",
        "stoi[\".\"] = 0\n",
        "itos = {i:s for s,i in stoi.items()}\n",
        "itos"
      ],
      "metadata": {
        "colab": {
          "base_uri": "https://localhost:8080/"
        },
        "id": "hJRvOQJ6s5Qc",
        "outputId": "78c3d300-cb93-427c-bf96-c517ea915229"
      },
      "execution_count": 5,
      "outputs": [
        {
          "output_type": "execute_result",
          "data": {
            "text/plain": [
              "{1: 'a',\n",
              " 2: 'b',\n",
              " 3: 'c',\n",
              " 4: 'd',\n",
              " 5: 'e',\n",
              " 6: 'f',\n",
              " 7: 'g',\n",
              " 8: 'h',\n",
              " 9: 'i',\n",
              " 10: 'j',\n",
              " 11: 'k',\n",
              " 12: 'l',\n",
              " 13: 'm',\n",
              " 14: 'n',\n",
              " 15: 'o',\n",
              " 16: 'p',\n",
              " 17: 'q',\n",
              " 18: 'r',\n",
              " 19: 's',\n",
              " 20: 't',\n",
              " 21: 'u',\n",
              " 22: 'v',\n",
              " 23: 'w',\n",
              " 24: 'x',\n",
              " 25: 'y',\n",
              " 26: 'z',\n",
              " 0: '.'}"
            ]
          },
          "metadata": {},
          "execution_count": 5
        }
      ]
    },
    {
      "cell_type": "markdown",
      "source": [
        "### Building dataset"
      ],
      "metadata": {
        "id": "HY9-N1Hc92dX"
      }
    },
    {
      "cell_type": "code",
      "source": [
        "block_size = 3\n",
        "\n",
        "\n",
        "xs = []\n",
        "ys = []\n",
        "\n",
        "\n",
        "context = [0]*block_size\n",
        "\n",
        "\n",
        "\n",
        "for w in words:\n",
        "\n",
        "  for ch in w + '.':\n",
        "\n",
        "    xs.append(context)\n",
        "    next = stoi[ch]\n",
        "    ys.append(next)\n",
        "\n",
        "\n",
        "    context = context[1:] + [next]\n",
        "\n",
        "\n",
        "x = torch.tensor(xs)\n",
        "y = torch.tensor(ys)"
      ],
      "metadata": {
        "id": "plqS0KeltJ2-"
      },
      "execution_count": 6,
      "outputs": []
    },
    {
      "cell_type": "code",
      "source": [
        "x.shape,y.shape"
      ],
      "metadata": {
        "colab": {
          "base_uri": "https://localhost:8080/"
        },
        "id": "1IgfI-H20A-q",
        "outputId": "4140ad31-1987-45e3-e79a-e59634ef6191"
      },
      "execution_count": 7,
      "outputs": [
        {
          "output_type": "execute_result",
          "data": {
            "text/plain": [
              "(torch.Size([228146, 3]), torch.Size([228146]))"
            ]
          },
          "metadata": {},
          "execution_count": 7
        }
      ]
    },
    {
      "cell_type": "code",
      "source": [
        "x[:5]"
      ],
      "metadata": {
        "colab": {
          "base_uri": "https://localhost:8080/"
        },
        "id": "PszN2pzbD8Ag",
        "outputId": "b022c823-1be5-46a4-8f1a-3afda78cbdff"
      },
      "execution_count": 8,
      "outputs": [
        {
          "output_type": "execute_result",
          "data": {
            "text/plain": [
              "tensor([[ 0,  0,  0],\n",
              "        [ 0,  0,  5],\n",
              "        [ 0,  5, 13],\n",
              "        [ 5, 13, 13],\n",
              "        [13, 13,  1]])"
            ]
          },
          "metadata": {},
          "execution_count": 8
        }
      ]
    },
    {
      "cell_type": "markdown",
      "source": [
        "### Embedding"
      ],
      "metadata": {
        "id": "WnQ2GSz49DAm"
      }
    },
    {
      "cell_type": "code",
      "source": [
        "g = torch.Generator().manual_seed(2147483647)"
      ],
      "metadata": {
        "id": "Qt6h4qM7FowR"
      },
      "execution_count": 69,
      "outputs": []
    },
    {
      "cell_type": "code",
      "source": [
        "C = torch.randn((27,2),generator=g,requires_grad=True)\n",
        "C"
      ],
      "metadata": {
        "colab": {
          "base_uri": "https://localhost:8080/"
        },
        "id": "p0KNme2N8dBs",
        "outputId": "c6124e83-77dd-4881-f008-e6d2662a2b59"
      },
      "execution_count": 70,
      "outputs": [
        {
          "output_type": "execute_result",
          "data": {
            "text/plain": [
              "tensor([[ 1.5674, -0.2373],\n",
              "        [-0.0274, -1.1008],\n",
              "        [ 0.2859, -0.0296],\n",
              "        [-1.5471,  0.6049],\n",
              "        [ 0.0791,  0.9046],\n",
              "        [-0.4713,  0.7868],\n",
              "        [-0.3284, -0.4330],\n",
              "        [ 1.3729,  2.9334],\n",
              "        [ 1.5618, -1.6261],\n",
              "        [ 0.6772, -0.8404],\n",
              "        [ 0.9849, -0.1484],\n",
              "        [-1.4795,  0.4483],\n",
              "        [-0.0707,  2.4968],\n",
              "        [ 2.4448, -0.6701],\n",
              "        [-1.2199,  0.3031],\n",
              "        [-1.0725,  0.7276],\n",
              "        [ 0.0511,  1.3095],\n",
              "        [-0.8022, -0.8504],\n",
              "        [-1.8068,  1.2523],\n",
              "        [ 0.1476, -1.0006],\n",
              "        [-0.5030, -1.0660],\n",
              "        [ 0.8480,  2.0275],\n",
              "        [-0.1158, -1.2078],\n",
              "        [-1.0406, -1.5367],\n",
              "        [-0.5132,  0.2961],\n",
              "        [-1.4904, -0.2838],\n",
              "        [ 0.2569,  0.2130]], requires_grad=True)"
            ]
          },
          "metadata": {},
          "execution_count": 70
        }
      ]
    },
    {
      "cell_type": "code",
      "source": [
        "C[5]"
      ],
      "metadata": {
        "colab": {
          "base_uri": "https://localhost:8080/"
        },
        "id": "GknASTwk8o6_",
        "outputId": "1b054258-5be6-4561-ad70-24523de21f1d"
      },
      "execution_count": 71,
      "outputs": [
        {
          "output_type": "execute_result",
          "data": {
            "text/plain": [
              "tensor([-0.4713,  0.7868], grad_fn=<SelectBackward0>)"
            ]
          },
          "metadata": {},
          "execution_count": 71
        }
      ]
    },
    {
      "cell_type": "code",
      "source": [
        "C[torch.tensor([2,3,5,5,5])]"
      ],
      "metadata": {
        "colab": {
          "base_uri": "https://localhost:8080/"
        },
        "id": "X8HWOESy8uls",
        "outputId": "97ccac24-916c-4808-afbc-1d9dfac06a14"
      },
      "execution_count": 11,
      "outputs": [
        {
          "output_type": "execute_result",
          "data": {
            "text/plain": [
              "tensor([[ 0.1016,  0.0644],\n",
              "        [-1.0396, -2.8078],\n",
              "        [ 0.6209,  0.8554],\n",
              "        [ 0.6209,  0.8554],\n",
              "        [ 0.6209,  0.8554]])"
            ]
          },
          "metadata": {},
          "execution_count": 11
        }
      ]
    },
    {
      "cell_type": "code",
      "source": [
        "C[torch.tensor([[2,3],[3,2],[5,5],[2,5]])]"
      ],
      "metadata": {
        "colab": {
          "base_uri": "https://localhost:8080/"
        },
        "id": "hpUcYIjz8y0o",
        "outputId": "578bc497-8e3c-428d-91e9-73be3e3efd79"
      },
      "execution_count": 12,
      "outputs": [
        {
          "output_type": "execute_result",
          "data": {
            "text/plain": [
              "tensor([[[ 0.1016,  0.0644],\n",
              "         [-1.0396, -2.8078]],\n",
              "\n",
              "        [[-1.0396, -2.8078],\n",
              "         [ 0.1016,  0.0644]],\n",
              "\n",
              "        [[ 0.6209,  0.8554],\n",
              "         [ 0.6209,  0.8554]],\n",
              "\n",
              "        [[ 0.1016,  0.0644],\n",
              "         [ 0.6209,  0.8554]]])"
            ]
          },
          "metadata": {},
          "execution_count": 12
        }
      ]
    },
    {
      "cell_type": "code",
      "source": [
        "emb = C[x]\n",
        "emb.shape"
      ],
      "metadata": {
        "colab": {
          "base_uri": "https://localhost:8080/"
        },
        "id": "z3O55q3W87Lb",
        "outputId": "b07e64ec-f0f6-4c74-83f2-177782a50afc"
      },
      "execution_count": 13,
      "outputs": [
        {
          "output_type": "execute_result",
          "data": {
            "text/plain": [
              "torch.Size([228146, 3, 2])"
            ]
          },
          "metadata": {},
          "execution_count": 13
        }
      ]
    },
    {
      "cell_type": "code",
      "source": [
        "x[1],C[[0,5]],emb[1]"
      ],
      "metadata": {
        "colab": {
          "base_uri": "https://localhost:8080/"
        },
        "id": "rjFtrDcd9Qkk",
        "outputId": "c8025c91-163a-4e88-e421-136294de3376"
      },
      "execution_count": 14,
      "outputs": [
        {
          "output_type": "execute_result",
          "data": {
            "text/plain": [
              "(tensor([0, 0, 5]),\n",
              " tensor([[-0.3267,  1.8026],\n",
              "         [ 0.6209,  0.8554]]),\n",
              " tensor([[-0.3267,  1.8026],\n",
              "         [-0.3267,  1.8026],\n",
              "         [ 0.6209,  0.8554]]))"
            ]
          },
          "metadata": {},
          "execution_count": 14
        }
      ]
    },
    {
      "cell_type": "markdown",
      "source": [
        "### Preparing input neurons to feed hidden layer"
      ],
      "metadata": {
        "id": "kumfUWwn9tHw"
      }
    },
    {
      "cell_type": "code",
      "source": [
        "emb[:5]"
      ],
      "metadata": {
        "colab": {
          "base_uri": "https://localhost:8080/"
        },
        "id": "Q5pD92bT9S9k",
        "outputId": "7b880770-bbc4-42dc-f2e9-f0ba499e92a4"
      },
      "execution_count": 15,
      "outputs": [
        {
          "output_type": "execute_result",
          "data": {
            "text/plain": [
              "tensor([[[-0.3267,  1.8026],\n",
              "         [-0.3267,  1.8026],\n",
              "         [-0.3267,  1.8026]],\n",
              "\n",
              "        [[-0.3267,  1.8026],\n",
              "         [-0.3267,  1.8026],\n",
              "         [ 0.6209,  0.8554]],\n",
              "\n",
              "        [[-0.3267,  1.8026],\n",
              "         [ 0.6209,  0.8554],\n",
              "         [-0.1046, -0.6759]],\n",
              "\n",
              "        [[ 0.6209,  0.8554],\n",
              "         [-0.1046, -0.6759],\n",
              "         [-0.1046, -0.6759]],\n",
              "\n",
              "        [[-0.1046, -0.6759],\n",
              "         [-0.1046, -0.6759],\n",
              "         [-1.6643,  0.3641]]])"
            ]
          },
          "metadata": {},
          "execution_count": 15
        }
      ]
    },
    {
      "cell_type": "code",
      "source": [
        "emb[:5,0]"
      ],
      "metadata": {
        "colab": {
          "base_uri": "https://localhost:8080/"
        },
        "id": "JV6ecVNpCpgt",
        "outputId": "fad37b33-6bb8-4ca4-d136-575904c281dd"
      },
      "execution_count": 16,
      "outputs": [
        {
          "output_type": "execute_result",
          "data": {
            "text/plain": [
              "tensor([[-0.3267,  1.8026],\n",
              "        [-0.3267,  1.8026],\n",
              "        [-0.3267,  1.8026],\n",
              "        [ 0.6209,  0.8554],\n",
              "        [-0.1046, -0.6759]])"
            ]
          },
          "metadata": {},
          "execution_count": 16
        }
      ]
    },
    {
      "cell_type": "code",
      "source": [
        "torch.cat([emb[:5,0],emb[:5,1],emb[:5,2]],dim=1)"
      ],
      "metadata": {
        "colab": {
          "base_uri": "https://localhost:8080/"
        },
        "id": "0somG1eyCrzT",
        "outputId": "9bbf35f4-f1ee-41ff-f07d-777c1791d7b9"
      },
      "execution_count": 17,
      "outputs": [
        {
          "output_type": "execute_result",
          "data": {
            "text/plain": [
              "tensor([[-0.3267,  1.8026, -0.3267,  1.8026, -0.3267,  1.8026],\n",
              "        [-0.3267,  1.8026, -0.3267,  1.8026,  0.6209,  0.8554],\n",
              "        [-0.3267,  1.8026,  0.6209,  0.8554, -0.1046, -0.6759],\n",
              "        [ 0.6209,  0.8554, -0.1046, -0.6759, -0.1046, -0.6759],\n",
              "        [-0.1046, -0.6759, -0.1046, -0.6759, -1.6643,  0.3641]])"
            ]
          },
          "metadata": {},
          "execution_count": 17
        }
      ]
    },
    {
      "cell_type": "code",
      "source": [
        "torch.cat([emb[:,0],emb[:,1],emb[:,2]],dim=1).shape"
      ],
      "metadata": {
        "colab": {
          "base_uri": "https://localhost:8080/"
        },
        "id": "_OX7OKVWDw_i",
        "outputId": "29bf0c51-2d5a-47e5-bb34-f7172604ed52"
      },
      "execution_count": 18,
      "outputs": [
        {
          "output_type": "execute_result",
          "data": {
            "text/plain": [
              "torch.Size([228146, 6])"
            ]
          },
          "metadata": {},
          "execution_count": 18
        }
      ]
    },
    {
      "cell_type": "code",
      "source": [
        "torch.cat(torch.unbind(emb,1),1).shape"
      ],
      "metadata": {
        "colab": {
          "base_uri": "https://localhost:8080/"
        },
        "id": "_rNuF2TuFY7R",
        "outputId": "df31abc6-f2f6-40f1-f14a-5aa7ad5abdd6"
      },
      "execution_count": 19,
      "outputs": [
        {
          "output_type": "execute_result",
          "data": {
            "text/plain": [
              "torch.Size([228146, 6])"
            ]
          },
          "metadata": {},
          "execution_count": 19
        }
      ]
    },
    {
      "cell_type": "markdown",
      "source": [
        "### torch view and storage"
      ],
      "metadata": {
        "id": "2leDu4ueHL0w"
      }
    },
    {
      "cell_type": "code",
      "source": [
        "a = torch.arange(12)\n",
        "a"
      ],
      "metadata": {
        "colab": {
          "base_uri": "https://localhost:8080/"
        },
        "id": "nwmkaGebFo92",
        "outputId": "d8753bb3-1102-4826-ff21-eb358f8f3d12"
      },
      "execution_count": 20,
      "outputs": [
        {
          "output_type": "execute_result",
          "data": {
            "text/plain": [
              "tensor([ 0,  1,  2,  3,  4,  5,  6,  7,  8,  9, 10, 11])"
            ]
          },
          "metadata": {},
          "execution_count": 20
        }
      ]
    },
    {
      "cell_type": "code",
      "source": [
        "a.storage()"
      ],
      "metadata": {
        "colab": {
          "base_uri": "https://localhost:8080/"
        },
        "id": "Ud5XYn0rHU5G",
        "outputId": "1b423f5a-547e-4664-a93d-3d37ae4657a7"
      },
      "execution_count": 21,
      "outputs": [
        {
          "output_type": "stream",
          "name": "stderr",
          "text": [
            "/tmp/ipython-input-214256462.py:1: UserWarning: TypedStorage is deprecated. It will be removed in the future and UntypedStorage will be the only storage class. This should only matter to you if you are using storages directly.  To access UntypedStorage directly, use tensor.untyped_storage() instead of tensor.storage()\n",
            "  a.storage()\n"
          ]
        },
        {
          "output_type": "execute_result",
          "data": {
            "text/plain": [
              " 0\n",
              " 1\n",
              " 2\n",
              " 3\n",
              " 4\n",
              " 5\n",
              " 6\n",
              " 7\n",
              " 8\n",
              " 9\n",
              " 10\n",
              " 11\n",
              "[torch.storage.TypedStorage(dtype=torch.int64, device=cpu) of size 12]"
            ]
          },
          "metadata": {},
          "execution_count": 21
        }
      ]
    },
    {
      "cell_type": "code",
      "source": [
        "a.view(3,4)"
      ],
      "metadata": {
        "colab": {
          "base_uri": "https://localhost:8080/"
        },
        "id": "s3mcF0X8HWi4",
        "outputId": "91b8b494-1a0e-473f-eea5-fadcaaa55c06"
      },
      "execution_count": 22,
      "outputs": [
        {
          "output_type": "execute_result",
          "data": {
            "text/plain": [
              "tensor([[ 0,  1,  2,  3],\n",
              "        [ 4,  5,  6,  7],\n",
              "        [ 8,  9, 10, 11]])"
            ]
          },
          "metadata": {},
          "execution_count": 22
        }
      ]
    },
    {
      "cell_type": "code",
      "source": [
        "#only view has been changed memory allocation of a is same as before\n",
        "\n",
        "# https://blog.ezyang.com/2019/05/pytorch-internals/\n",
        "\n",
        "a.view(3,4).storage()"
      ],
      "metadata": {
        "colab": {
          "base_uri": "https://localhost:8080/"
        },
        "id": "7ydimfovHbTS",
        "outputId": "86e869b0-3d3b-44f1-dbe2-0204c3a60a5d"
      },
      "execution_count": 23,
      "outputs": [
        {
          "output_type": "execute_result",
          "data": {
            "text/plain": [
              " 0\n",
              " 1\n",
              " 2\n",
              " 3\n",
              " 4\n",
              " 5\n",
              " 6\n",
              " 7\n",
              " 8\n",
              " 9\n",
              " 10\n",
              " 11\n",
              "[torch.storage.TypedStorage(dtype=torch.int64, device=cpu) of size 12]"
            ]
          },
          "metadata": {},
          "execution_count": 23
        }
      ]
    },
    {
      "cell_type": "markdown",
      "source": [
        "### Implementing hidden layer"
      ],
      "metadata": {
        "id": "3dyBjxy3Ibuq"
      }
    },
    {
      "cell_type": "code",
      "source": [
        "W1 = torch.randn((6,100),generator=g,requires_grad=True)\n",
        "b1 = torch.randn(100,generator=g,requires_grad=True)"
      ],
      "metadata": {
        "id": "4OKJJloHIpKH"
      },
      "execution_count": 73,
      "outputs": []
    },
    {
      "cell_type": "code",
      "source": [
        "h = torch.tanh(emb.view(-1,6) @ W1 + b1)"
      ],
      "metadata": {
        "id": "rq2HJ0ijHd0j"
      },
      "execution_count": 25,
      "outputs": []
    },
    {
      "cell_type": "code",
      "source": [
        "h.shape , h"
      ],
      "metadata": {
        "colab": {
          "base_uri": "https://localhost:8080/"
        },
        "id": "E_zxra8SI1Fl",
        "outputId": "14b23004-0180-4988-a81c-67950f5d3563"
      },
      "execution_count": 26,
      "outputs": [
        {
          "output_type": "execute_result",
          "data": {
            "text/plain": [
              "(torch.Size([228146, 100]),\n",
              " tensor([[ 0.9678, -1.0000, -0.9977,  ..., -0.7191,  0.9954,  0.8426],\n",
              "         [-0.5085, -1.0000, -0.8353,  ...,  0.7963,  0.9315,  0.8379],\n",
              "         [-0.9831, -0.9999, -0.9747,  ...,  0.8230,  0.9207, -0.7672],\n",
              "         ...,\n",
              "         [-0.8871, -0.5687,  0.5086,  ..., -0.9093, -0.9216, -0.9876],\n",
              "         [-0.3703, -0.6264,  0.8375,  ..., -0.9918, -0.2505, -0.9677],\n",
              "         [ 0.9923, -0.9831,  0.7876,  ..., -0.9978,  0.3601,  0.9394]]))"
            ]
          },
          "metadata": {},
          "execution_count": 26
        }
      ]
    },
    {
      "cell_type": "markdown",
      "source": [
        "### Output layer"
      ],
      "metadata": {
        "id": "ZoEPj-QilRQN"
      }
    },
    {
      "cell_type": "code",
      "source": [
        "W2 = torch.randn((100,27),generator=g,requires_grad=True)\n",
        "b2 = torch.randn(27,generator=g,requires_grad=True)"
      ],
      "metadata": {
        "id": "-2Qqzl2uI2R7"
      },
      "execution_count": 74,
      "outputs": []
    },
    {
      "cell_type": "code",
      "source": [
        "logits = h @ W2 + b2\n",
        "logits.shape"
      ],
      "metadata": {
        "colab": {
          "base_uri": "https://localhost:8080/"
        },
        "id": "GUIWXedYmOC_",
        "outputId": "ccb3dcdb-146b-47fb-b82b-bfeb536d04e4"
      },
      "execution_count": 28,
      "outputs": [
        {
          "output_type": "execute_result",
          "data": {
            "text/plain": [
              "torch.Size([228146, 27])"
            ]
          },
          "metadata": {},
          "execution_count": 28
        }
      ]
    },
    {
      "cell_type": "markdown",
      "source": [
        "### Softmax"
      ],
      "metadata": {
        "id": "z7drRdoxm1O3"
      }
    },
    {
      "cell_type": "code",
      "source": [
        "p = logits.exp()\n",
        "p /= p.sum(1,keepdim=True)\n",
        "\n",
        "p.shape"
      ],
      "metadata": {
        "colab": {
          "base_uri": "https://localhost:8080/"
        },
        "id": "2C0I-qR5muC7",
        "outputId": "76ed21df-6e28-42d3-b757-4c2ece82841b"
      },
      "execution_count": 29,
      "outputs": [
        {
          "output_type": "execute_result",
          "data": {
            "text/plain": [
              "torch.Size([228146, 27])"
            ]
          },
          "metadata": {},
          "execution_count": 29
        }
      ]
    },
    {
      "cell_type": "markdown",
      "source": [
        "### Loss"
      ],
      "metadata": {
        "id": "TFbINE7HoYlA"
      }
    },
    {
      "cell_type": "code",
      "source": [
        "loss = -p[torch.arange(p.shape[0]),y].log().mean()\n",
        "loss"
      ],
      "metadata": {
        "colab": {
          "base_uri": "https://localhost:8080/"
        },
        "id": "teXnvqZ2oapz",
        "outputId": "e06bf01e-0a4b-4ad0-fb5d-8fca5d885708"
      },
      "execution_count": 59,
      "outputs": [
        {
          "output_type": "execute_result",
          "data": {
            "text/plain": [
              "tensor(18.2166)"
            ]
          },
          "metadata": {},
          "execution_count": 59
        }
      ]
    },
    {
      "cell_type": "markdown",
      "source": [
        "### Efficient way to calculate Loss"
      ],
      "metadata": {
        "id": "dj28K8wSBdBl"
      }
    },
    {
      "cell_type": "code",
      "source": [
        "loss = F.cross_entropy(logits,y)\n",
        "loss"
      ],
      "metadata": {
        "colab": {
          "base_uri": "https://localhost:8080/"
        },
        "id": "4OokKI5nBXLP",
        "outputId": "f3f9e0ec-854c-482a-c10f-5e6feebfa31f"
      },
      "execution_count": 63,
      "outputs": [
        {
          "output_type": "execute_result",
          "data": {
            "text/plain": [
              "tensor(18.2166)"
            ]
          },
          "metadata": {},
          "execution_count": 63
        }
      ]
    },
    {
      "cell_type": "markdown",
      "source": [
        "### Bcckpropagation"
      ],
      "metadata": {
        "id": "rArAyJOQoC47"
      }
    },
    {
      "cell_type": "code",
      "source": [
        "parameters = [C,W1,b1,W2,b2]"
      ],
      "metadata": {
        "id": "4XmBke_h3x3_"
      },
      "execution_count": 65,
      "outputs": []
    },
    {
      "cell_type": "code",
      "source": [
        "for p in parameters:\n",
        "\n",
        "  #p.requires_grad = True\n",
        "  # don't set requires_grad here → must be set at init time,\n",
        "  # otherwise loss won't track this param in the graph\n",
        "\n",
        "  #fixed it , remember it\n",
        "\n",
        "  p.grad = None"
      ],
      "metadata": {
        "id": "48ZNzfdA4XmT"
      },
      "execution_count": 67,
      "outputs": []
    },
    {
      "cell_type": "code",
      "source": [
        "loss.backward()"
      ],
      "metadata": {
        "colab": {
          "base_uri": "https://localhost:8080/",
          "height": 287
        },
        "id": "S_MqetFnE0zs",
        "outputId": "4c8de1f8-a098-4ac0-a7f7-bd185e2f79f2"
      },
      "execution_count": 68,
      "outputs": [
        {
          "output_type": "error",
          "ename": "RuntimeError",
          "evalue": "element 0 of tensors does not require grad and does not have a grad_fn",
          "traceback": [
            "\u001b[0;31m---------------------------------------------------------------------------\u001b[0m",
            "\u001b[0;31mRuntimeError\u001b[0m                              Traceback (most recent call last)",
            "\u001b[0;32m/tmp/ipython-input-2859123600.py\u001b[0m in \u001b[0;36m<cell line: 0>\u001b[0;34m()\u001b[0m\n\u001b[0;32m----> 1\u001b[0;31m \u001b[0mloss\u001b[0m\u001b[0;34m.\u001b[0m\u001b[0mbackward\u001b[0m\u001b[0;34m(\u001b[0m\u001b[0;34m)\u001b[0m\u001b[0;34m\u001b[0m\u001b[0;34m\u001b[0m\u001b[0m\n\u001b[0m",
            "\u001b[0;32m/usr/local/lib/python3.11/dist-packages/torch/_tensor.py\u001b[0m in \u001b[0;36mbackward\u001b[0;34m(self, gradient, retain_graph, create_graph, inputs)\u001b[0m\n\u001b[1;32m    624\u001b[0m                 \u001b[0minputs\u001b[0m\u001b[0;34m=\u001b[0m\u001b[0minputs\u001b[0m\u001b[0;34m,\u001b[0m\u001b[0;34m\u001b[0m\u001b[0;34m\u001b[0m\u001b[0m\n\u001b[1;32m    625\u001b[0m             )\n\u001b[0;32m--> 626\u001b[0;31m         torch.autograd.backward(\n\u001b[0m\u001b[1;32m    627\u001b[0m             \u001b[0mself\u001b[0m\u001b[0;34m,\u001b[0m \u001b[0mgradient\u001b[0m\u001b[0;34m,\u001b[0m \u001b[0mretain_graph\u001b[0m\u001b[0;34m,\u001b[0m \u001b[0mcreate_graph\u001b[0m\u001b[0;34m,\u001b[0m \u001b[0minputs\u001b[0m\u001b[0;34m=\u001b[0m\u001b[0minputs\u001b[0m\u001b[0;34m\u001b[0m\u001b[0;34m\u001b[0m\u001b[0m\n\u001b[1;32m    628\u001b[0m         )\n",
            "\u001b[0;32m/usr/local/lib/python3.11/dist-packages/torch/autograd/__init__.py\u001b[0m in \u001b[0;36mbackward\u001b[0;34m(tensors, grad_tensors, retain_graph, create_graph, grad_variables, inputs)\u001b[0m\n\u001b[1;32m    345\u001b[0m     \u001b[0;31m# some Python versions print out the first line of a multi-line function\u001b[0m\u001b[0;34m\u001b[0m\u001b[0;34m\u001b[0m\u001b[0m\n\u001b[1;32m    346\u001b[0m     \u001b[0;31m# calls in the traceback and some print out the last line\u001b[0m\u001b[0;34m\u001b[0m\u001b[0;34m\u001b[0m\u001b[0m\n\u001b[0;32m--> 347\u001b[0;31m     _engine_run_backward(\n\u001b[0m\u001b[1;32m    348\u001b[0m         \u001b[0mtensors\u001b[0m\u001b[0;34m,\u001b[0m\u001b[0;34m\u001b[0m\u001b[0;34m\u001b[0m\u001b[0m\n\u001b[1;32m    349\u001b[0m         \u001b[0mgrad_tensors_\u001b[0m\u001b[0;34m,\u001b[0m\u001b[0;34m\u001b[0m\u001b[0;34m\u001b[0m\u001b[0m\n",
            "\u001b[0;32m/usr/local/lib/python3.11/dist-packages/torch/autograd/graph.py\u001b[0m in \u001b[0;36m_engine_run_backward\u001b[0;34m(t_outputs, *args, **kwargs)\u001b[0m\n\u001b[1;32m    821\u001b[0m         \u001b[0munregister_hooks\u001b[0m \u001b[0;34m=\u001b[0m \u001b[0m_register_logging_hooks_on_whole_graph\u001b[0m\u001b[0;34m(\u001b[0m\u001b[0mt_outputs\u001b[0m\u001b[0;34m)\u001b[0m\u001b[0;34m\u001b[0m\u001b[0;34m\u001b[0m\u001b[0m\n\u001b[1;32m    822\u001b[0m     \u001b[0;32mtry\u001b[0m\u001b[0;34m:\u001b[0m\u001b[0;34m\u001b[0m\u001b[0;34m\u001b[0m\u001b[0m\n\u001b[0;32m--> 823\u001b[0;31m         return Variable._execution_engine.run_backward(  # Calls into the C++ engine to run the backward pass\n\u001b[0m\u001b[1;32m    824\u001b[0m             \u001b[0mt_outputs\u001b[0m\u001b[0;34m,\u001b[0m \u001b[0;34m*\u001b[0m\u001b[0margs\u001b[0m\u001b[0;34m,\u001b[0m \u001b[0;34m**\u001b[0m\u001b[0mkwargs\u001b[0m\u001b[0;34m\u001b[0m\u001b[0;34m\u001b[0m\u001b[0m\n\u001b[1;32m    825\u001b[0m         )  # Calls into the C++ engine to run the backward pass\n",
            "\u001b[0;31mRuntimeError\u001b[0m: element 0 of tensors does not require grad and does not have a grad_fn"
          ]
        }
      ]
    },
    {
      "cell_type": "markdown",
      "source": [
        "## What’s happening under the hood?\n",
        "\n",
        "* When you create a parameter with requires_grad=True, PyTorch starts tracking\n",
        "every operation involving it and builds a computation graph.\n",
        "\n",
        "* During loss.backward(), PyTorch walks backward through this graph and fills in p.grad for each parameter.\n",
        "\n",
        "* Gradients accumulate in .grad (they don’t overwrite). That’s why we set p.grad = None before each backward pass.\n",
        "\n",
        "* If you accidentally set requires_grad=True after the forward pass, the computation graph was already built without tracking, so no grads flow → loss.backward() fails."
      ],
      "metadata": {
        "id": "qFH0vclwHfHG"
      }
    },
    {
      "cell_type": "markdown",
      "source": [
        "### Try again backprop with"
      ],
      "metadata": {
        "id": "Q0jxgv7_H2J6"
      }
    },
    {
      "cell_type": "code",
      "source": [],
      "metadata": {
        "id": "OUDzHD9tFHbt"
      },
      "execution_count": null,
      "outputs": []
    }
  ]
}