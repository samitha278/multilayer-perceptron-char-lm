{
  "nbformat": 4,
  "nbformat_minor": 0,
  "metadata": {
    "colab": {
      "provenance": [],
      "authorship_tag": "ABX9TyNzzLJO9+8DaOPQiEKOllTz",
      "include_colab_link": true
    },
    "kernelspec": {
      "name": "python3",
      "display_name": "Python 3"
    },
    "language_info": {
      "name": "python"
    }
  },
  "cells": [
    {
      "cell_type": "markdown",
      "metadata": {
        "id": "view-in-github",
        "colab_type": "text"
      },
      "source": [
        "<a href=\"https://colab.research.google.com/github/samitha278/multilayer-perceptron-char-lm/blob/main/mlp_char_lm.ipynb\" target=\"_parent\"><img src=\"https://colab.research.google.com/assets/colab-badge.svg\" alt=\"Open In Colab\"/></a>"
      ]
    },
    {
      "cell_type": "code",
      "execution_count": null,
      "metadata": {
        "id": "36X2bq5nVf4y"
      },
      "outputs": [],
      "source": [
        "import torch\n",
        "import torch.nn.functional as F\n",
        "import matplotlib.pyplot as plt"
      ]
    },
    {
      "cell_type": "code",
      "source": [
        "from google.colab import files\n",
        "\n",
        "uploaded = files.upload()\n"
      ],
      "metadata": {
        "colab": {
          "base_uri": "https://localhost:8080/",
          "height": 73
        },
        "id": "_qlY2cy2s6sn",
        "outputId": "4aa10101-53a2-4b03-efa8-2db28c2cf717"
      },
      "execution_count": null,
      "outputs": [
        {
          "output_type": "display_data",
          "data": {
            "text/plain": [
              "<IPython.core.display.HTML object>"
            ],
            "text/html": [
              "\n",
              "     <input type=\"file\" id=\"files-b59fa128-4850-4fea-98cb-ecc8a19e03d6\" name=\"files[]\" multiple disabled\n",
              "        style=\"border:none\" />\n",
              "     <output id=\"result-b59fa128-4850-4fea-98cb-ecc8a19e03d6\">\n",
              "      Upload widget is only available when the cell has been executed in the\n",
              "      current browser session. Please rerun this cell to enable.\n",
              "      </output>\n",
              "      <script>// Copyright 2017 Google LLC\n",
              "//\n",
              "// Licensed under the Apache License, Version 2.0 (the \"License\");\n",
              "// you may not use this file except in compliance with the License.\n",
              "// You may obtain a copy of the License at\n",
              "//\n",
              "//      http://www.apache.org/licenses/LICENSE-2.0\n",
              "//\n",
              "// Unless required by applicable law or agreed to in writing, software\n",
              "// distributed under the License is distributed on an \"AS IS\" BASIS,\n",
              "// WITHOUT WARRANTIES OR CONDITIONS OF ANY KIND, either express or implied.\n",
              "// See the License for the specific language governing permissions and\n",
              "// limitations under the License.\n",
              "\n",
              "/**\n",
              " * @fileoverview Helpers for google.colab Python module.\n",
              " */\n",
              "(function(scope) {\n",
              "function span(text, styleAttributes = {}) {\n",
              "  const element = document.createElement('span');\n",
              "  element.textContent = text;\n",
              "  for (const key of Object.keys(styleAttributes)) {\n",
              "    element.style[key] = styleAttributes[key];\n",
              "  }\n",
              "  return element;\n",
              "}\n",
              "\n",
              "// Max number of bytes which will be uploaded at a time.\n",
              "const MAX_PAYLOAD_SIZE = 100 * 1024;\n",
              "\n",
              "function _uploadFiles(inputId, outputId) {\n",
              "  const steps = uploadFilesStep(inputId, outputId);\n",
              "  const outputElement = document.getElementById(outputId);\n",
              "  // Cache steps on the outputElement to make it available for the next call\n",
              "  // to uploadFilesContinue from Python.\n",
              "  outputElement.steps = steps;\n",
              "\n",
              "  return _uploadFilesContinue(outputId);\n",
              "}\n",
              "\n",
              "// This is roughly an async generator (not supported in the browser yet),\n",
              "// where there are multiple asynchronous steps and the Python side is going\n",
              "// to poll for completion of each step.\n",
              "// This uses a Promise to block the python side on completion of each step,\n",
              "// then passes the result of the previous step as the input to the next step.\n",
              "function _uploadFilesContinue(outputId) {\n",
              "  const outputElement = document.getElementById(outputId);\n",
              "  const steps = outputElement.steps;\n",
              "\n",
              "  const next = steps.next(outputElement.lastPromiseValue);\n",
              "  return Promise.resolve(next.value.promise).then((value) => {\n",
              "    // Cache the last promise value to make it available to the next\n",
              "    // step of the generator.\n",
              "    outputElement.lastPromiseValue = value;\n",
              "    return next.value.response;\n",
              "  });\n",
              "}\n",
              "\n",
              "/**\n",
              " * Generator function which is called between each async step of the upload\n",
              " * process.\n",
              " * @param {string} inputId Element ID of the input file picker element.\n",
              " * @param {string} outputId Element ID of the output display.\n",
              " * @return {!Iterable<!Object>} Iterable of next steps.\n",
              " */\n",
              "function* uploadFilesStep(inputId, outputId) {\n",
              "  const inputElement = document.getElementById(inputId);\n",
              "  inputElement.disabled = false;\n",
              "\n",
              "  const outputElement = document.getElementById(outputId);\n",
              "  outputElement.innerHTML = '';\n",
              "\n",
              "  const pickedPromise = new Promise((resolve) => {\n",
              "    inputElement.addEventListener('change', (e) => {\n",
              "      resolve(e.target.files);\n",
              "    });\n",
              "  });\n",
              "\n",
              "  const cancel = document.createElement('button');\n",
              "  inputElement.parentElement.appendChild(cancel);\n",
              "  cancel.textContent = 'Cancel upload';\n",
              "  const cancelPromise = new Promise((resolve) => {\n",
              "    cancel.onclick = () => {\n",
              "      resolve(null);\n",
              "    };\n",
              "  });\n",
              "\n",
              "  // Wait for the user to pick the files.\n",
              "  const files = yield {\n",
              "    promise: Promise.race([pickedPromise, cancelPromise]),\n",
              "    response: {\n",
              "      action: 'starting',\n",
              "    }\n",
              "  };\n",
              "\n",
              "  cancel.remove();\n",
              "\n",
              "  // Disable the input element since further picks are not allowed.\n",
              "  inputElement.disabled = true;\n",
              "\n",
              "  if (!files) {\n",
              "    return {\n",
              "      response: {\n",
              "        action: 'complete',\n",
              "      }\n",
              "    };\n",
              "  }\n",
              "\n",
              "  for (const file of files) {\n",
              "    const li = document.createElement('li');\n",
              "    li.append(span(file.name, {fontWeight: 'bold'}));\n",
              "    li.append(span(\n",
              "        `(${file.type || 'n/a'}) - ${file.size} bytes, ` +\n",
              "        `last modified: ${\n",
              "            file.lastModifiedDate ? file.lastModifiedDate.toLocaleDateString() :\n",
              "                                    'n/a'} - `));\n",
              "    const percent = span('0% done');\n",
              "    li.appendChild(percent);\n",
              "\n",
              "    outputElement.appendChild(li);\n",
              "\n",
              "    const fileDataPromise = new Promise((resolve) => {\n",
              "      const reader = new FileReader();\n",
              "      reader.onload = (e) => {\n",
              "        resolve(e.target.result);\n",
              "      };\n",
              "      reader.readAsArrayBuffer(file);\n",
              "    });\n",
              "    // Wait for the data to be ready.\n",
              "    let fileData = yield {\n",
              "      promise: fileDataPromise,\n",
              "      response: {\n",
              "        action: 'continue',\n",
              "      }\n",
              "    };\n",
              "\n",
              "    // Use a chunked sending to avoid message size limits. See b/62115660.\n",
              "    let position = 0;\n",
              "    do {\n",
              "      const length = Math.min(fileData.byteLength - position, MAX_PAYLOAD_SIZE);\n",
              "      const chunk = new Uint8Array(fileData, position, length);\n",
              "      position += length;\n",
              "\n",
              "      const base64 = btoa(String.fromCharCode.apply(null, chunk));\n",
              "      yield {\n",
              "        response: {\n",
              "          action: 'append',\n",
              "          file: file.name,\n",
              "          data: base64,\n",
              "        },\n",
              "      };\n",
              "\n",
              "      let percentDone = fileData.byteLength === 0 ?\n",
              "          100 :\n",
              "          Math.round((position / fileData.byteLength) * 100);\n",
              "      percent.textContent = `${percentDone}% done`;\n",
              "\n",
              "    } while (position < fileData.byteLength);\n",
              "  }\n",
              "\n",
              "  // All done.\n",
              "  yield {\n",
              "    response: {\n",
              "      action: 'complete',\n",
              "    }\n",
              "  };\n",
              "}\n",
              "\n",
              "scope.google = scope.google || {};\n",
              "scope.google.colab = scope.google.colab || {};\n",
              "scope.google.colab._files = {\n",
              "  _uploadFiles,\n",
              "  _uploadFilesContinue,\n",
              "};\n",
              "})(self);\n",
              "</script> "
            ]
          },
          "metadata": {}
        },
        {
          "output_type": "stream",
          "name": "stdout",
          "text": [
            "Saving names.txt to names.txt\n"
          ]
        }
      ]
    },
    {
      "cell_type": "code",
      "source": [
        "words = open(\"names.txt\",\"r\").read().splitlines()"
      ],
      "metadata": {
        "id": "YI2y9MAXshIK"
      },
      "execution_count": null,
      "outputs": []
    },
    {
      "cell_type": "code",
      "source": [
        "chars = sorted(list(set(\"\".join(words))))\n",
        "stoi = {s:i+1 for i,s in enumerate(chars)}\n",
        "stoi[\".\"] = 0\n",
        "itos = {i:s for s,i in stoi.items()}\n",
        "itos"
      ],
      "metadata": {
        "colab": {
          "base_uri": "https://localhost:8080/"
        },
        "id": "hJRvOQJ6s5Qc",
        "outputId": "3f230481-15bf-463c-cad2-efc98a4e96ea"
      },
      "execution_count": null,
      "outputs": [
        {
          "output_type": "execute_result",
          "data": {
            "text/plain": [
              "{1: 'a',\n",
              " 2: 'b',\n",
              " 3: 'c',\n",
              " 4: 'd',\n",
              " 5: 'e',\n",
              " 6: 'f',\n",
              " 7: 'g',\n",
              " 8: 'h',\n",
              " 9: 'i',\n",
              " 10: 'j',\n",
              " 11: 'k',\n",
              " 12: 'l',\n",
              " 13: 'm',\n",
              " 14: 'n',\n",
              " 15: 'o',\n",
              " 16: 'p',\n",
              " 17: 'q',\n",
              " 18: 'r',\n",
              " 19: 's',\n",
              " 20: 't',\n",
              " 21: 'u',\n",
              " 22: 'v',\n",
              " 23: 'w',\n",
              " 24: 'x',\n",
              " 25: 'y',\n",
              " 26: 'z',\n",
              " 0: '.'}"
            ]
          },
          "metadata": {},
          "execution_count": 6
        }
      ]
    },
    {
      "cell_type": "markdown",
      "source": [
        "### Building dataset"
      ],
      "metadata": {
        "id": "HY9-N1Hc92dX"
      }
    },
    {
      "cell_type": "code",
      "source": [
        "block_size = 3\n",
        "\n",
        "\n",
        "xs = []\n",
        "ys = []\n",
        "\n",
        "\n",
        "context = [0]*block_size\n",
        "\n",
        "\n",
        "\n",
        "for w in words:\n",
        "\n",
        "  for ch in w + '.':\n",
        "\n",
        "    xs.append(context)\n",
        "    next = stoi[ch]\n",
        "    ys.append(next)\n",
        "\n",
        "\n",
        "    context = context[1:] + [next]\n",
        "\n",
        "\n",
        "x = torch.tensor(xs)\n",
        "y = torch.tensor(ys)"
      ],
      "metadata": {
        "id": "plqS0KeltJ2-"
      },
      "execution_count": 15,
      "outputs": []
    },
    {
      "cell_type": "code",
      "source": [
        "x.shape,y.shape"
      ],
      "metadata": {
        "colab": {
          "base_uri": "https://localhost:8080/"
        },
        "id": "1IgfI-H20A-q",
        "outputId": "66bc6113-f8f5-42a5-a79e-1189bab56914"
      },
      "execution_count": 17,
      "outputs": [
        {
          "output_type": "execute_result",
          "data": {
            "text/plain": [
              "(torch.Size([228146, 3]), torch.Size([228146]))"
            ]
          },
          "metadata": {},
          "execution_count": 17
        }
      ]
    },
    {
      "cell_type": "code",
      "source": [
        "x[:5]"
      ],
      "metadata": {
        "colab": {
          "base_uri": "https://localhost:8080/"
        },
        "id": "PszN2pzbD8Ag",
        "outputId": "ce4d26b1-a8e4-4b94-a800-3f261d1f1027"
      },
      "execution_count": 48,
      "outputs": [
        {
          "output_type": "execute_result",
          "data": {
            "text/plain": [
              "tensor([[ 0,  0,  0],\n",
              "        [ 0,  0,  5],\n",
              "        [ 0,  5, 13],\n",
              "        [ 5, 13, 13],\n",
              "        [13, 13,  1]])"
            ]
          },
          "metadata": {},
          "execution_count": 48
        }
      ]
    },
    {
      "cell_type": "markdown",
      "source": [
        "### Embedding"
      ],
      "metadata": {
        "id": "WnQ2GSz49DAm"
      }
    },
    {
      "cell_type": "code",
      "source": [
        "C = torch.randn((27,2))\n",
        "C"
      ],
      "metadata": {
        "colab": {
          "base_uri": "https://localhost:8080/"
        },
        "id": "p0KNme2N8dBs",
        "outputId": "9552cb0f-7bde-4ab1-e371-2d07a7bcf65d"
      },
      "execution_count": 21,
      "outputs": [
        {
          "output_type": "execute_result",
          "data": {
            "text/plain": [
              "tensor([[ 0.2781,  0.4918],\n",
              "        [ 1.3179,  1.4982],\n",
              "        [ 0.6720, -0.9691],\n",
              "        [-2.1497, -2.1738],\n",
              "        [ 0.7141, -0.8387],\n",
              "        [-0.1015,  1.2391],\n",
              "        [-0.1621,  0.8586],\n",
              "        [-1.9788,  0.5472],\n",
              "        [-1.1494, -0.5262],\n",
              "        [-0.3381, -0.3613],\n",
              "        [-1.3245,  2.0941],\n",
              "        [ 1.0029,  1.7922],\n",
              "        [-0.8868, -0.0446],\n",
              "        [-0.2211, -0.7242],\n",
              "        [ 1.4162,  1.4105],\n",
              "        [ 1.1210,  0.7991],\n",
              "        [ 0.4431,  1.8579],\n",
              "        [ 0.0807, -0.7559],\n",
              "        [-1.5218, -0.7468],\n",
              "        [ 2.1135, -1.6136],\n",
              "        [-2.5826, -0.6771],\n",
              "        [ 0.0170, -0.6379],\n",
              "        [-0.6740,  0.7792],\n",
              "        [ 0.0028, -0.2878],\n",
              "        [-0.7103,  0.1821],\n",
              "        [-0.6147,  0.0587],\n",
              "        [ 1.1983, -0.6559]])"
            ]
          },
          "metadata": {},
          "execution_count": 21
        }
      ]
    },
    {
      "cell_type": "code",
      "source": [
        "C[5]"
      ],
      "metadata": {
        "colab": {
          "base_uri": "https://localhost:8080/"
        },
        "id": "GknASTwk8o6_",
        "outputId": "995b38b3-e340-412a-adf3-2cb41f608d95"
      },
      "execution_count": 22,
      "outputs": [
        {
          "output_type": "execute_result",
          "data": {
            "text/plain": [
              "tensor([-0.1015,  1.2391])"
            ]
          },
          "metadata": {},
          "execution_count": 22
        }
      ]
    },
    {
      "cell_type": "code",
      "source": [
        "C[torch.tensor([2,3,5,5,5])]"
      ],
      "metadata": {
        "colab": {
          "base_uri": "https://localhost:8080/"
        },
        "id": "X8HWOESy8uls",
        "outputId": "417b36a0-ac41-4b51-ba8c-d2ea35d2fb57"
      },
      "execution_count": 23,
      "outputs": [
        {
          "output_type": "execute_result",
          "data": {
            "text/plain": [
              "tensor([[ 0.6720, -0.9691],\n",
              "        [-2.1497, -2.1738],\n",
              "        [-0.1015,  1.2391],\n",
              "        [-0.1015,  1.2391],\n",
              "        [-0.1015,  1.2391]])"
            ]
          },
          "metadata": {},
          "execution_count": 23
        }
      ]
    },
    {
      "cell_type": "code",
      "source": [
        "C[torch.tensor([[2,3],[3,2],[5,5],[2,5]])]"
      ],
      "metadata": {
        "colab": {
          "base_uri": "https://localhost:8080/"
        },
        "id": "hpUcYIjz8y0o",
        "outputId": "aaa1cefe-b00e-4966-8f8e-1ccd962d823c"
      },
      "execution_count": 25,
      "outputs": [
        {
          "output_type": "execute_result",
          "data": {
            "text/plain": [
              "tensor([[[ 0.6720, -0.9691],\n",
              "         [-2.1497, -2.1738]],\n",
              "\n",
              "        [[-2.1497, -2.1738],\n",
              "         [ 0.6720, -0.9691]],\n",
              "\n",
              "        [[-0.1015,  1.2391],\n",
              "         [-0.1015,  1.2391]],\n",
              "\n",
              "        [[ 0.6720, -0.9691],\n",
              "         [-0.1015,  1.2391]]])"
            ]
          },
          "metadata": {},
          "execution_count": 25
        }
      ]
    },
    {
      "cell_type": "code",
      "source": [
        "emb = C[x]\n",
        "emb.shape"
      ],
      "metadata": {
        "colab": {
          "base_uri": "https://localhost:8080/"
        },
        "id": "z3O55q3W87Lb",
        "outputId": "d1253955-63a8-4043-94ff-87850d2da9e9"
      },
      "execution_count": 26,
      "outputs": [
        {
          "output_type": "execute_result",
          "data": {
            "text/plain": [
              "torch.Size([228146, 3, 2])"
            ]
          },
          "metadata": {},
          "execution_count": 26
        }
      ]
    },
    {
      "cell_type": "code",
      "source": [
        "x[1],C[[0,5]],emb[1]"
      ],
      "metadata": {
        "colab": {
          "base_uri": "https://localhost:8080/"
        },
        "id": "rjFtrDcd9Qkk",
        "outputId": "48a13cb7-abcf-45b3-bf74-00f342d5c7ae"
      },
      "execution_count": 33,
      "outputs": [
        {
          "output_type": "execute_result",
          "data": {
            "text/plain": [
              "(tensor([0, 0, 5]),\n",
              " tensor([[ 0.2781,  0.4918],\n",
              "         [-0.1015,  1.2391]]),\n",
              " tensor([[ 0.2781,  0.4918],\n",
              "         [ 0.2781,  0.4918],\n",
              "         [-0.1015,  1.2391]]))"
            ]
          },
          "metadata": {},
          "execution_count": 33
        }
      ]
    },
    {
      "cell_type": "markdown",
      "source": [
        "### Preparing input neurons to feed hidden layer"
      ],
      "metadata": {
        "id": "kumfUWwn9tHw"
      }
    },
    {
      "cell_type": "code",
      "source": [
        "emb[:5]"
      ],
      "metadata": {
        "colab": {
          "base_uri": "https://localhost:8080/"
        },
        "id": "Q5pD92bT9S9k",
        "outputId": "97f26198-b06e-4386-c611-1600d9f86f10"
      },
      "execution_count": 44,
      "outputs": [
        {
          "output_type": "execute_result",
          "data": {
            "text/plain": [
              "tensor([[[ 0.2781,  0.4918],\n",
              "         [ 0.2781,  0.4918],\n",
              "         [ 0.2781,  0.4918]],\n",
              "\n",
              "        [[ 0.2781,  0.4918],\n",
              "         [ 0.2781,  0.4918],\n",
              "         [-0.1015,  1.2391]],\n",
              "\n",
              "        [[ 0.2781,  0.4918],\n",
              "         [-0.1015,  1.2391],\n",
              "         [-0.2211, -0.7242]],\n",
              "\n",
              "        [[-0.1015,  1.2391],\n",
              "         [-0.2211, -0.7242],\n",
              "         [-0.2211, -0.7242]],\n",
              "\n",
              "        [[-0.2211, -0.7242],\n",
              "         [-0.2211, -0.7242],\n",
              "         [ 1.3179,  1.4982]]])"
            ]
          },
          "metadata": {},
          "execution_count": 44
        }
      ]
    },
    {
      "cell_type": "code",
      "source": [
        "emb[:5,0]"
      ],
      "metadata": {
        "colab": {
          "base_uri": "https://localhost:8080/"
        },
        "id": "JV6ecVNpCpgt",
        "outputId": "73fcf2b5-113d-47c2-ba45-983a6530f23e"
      },
      "execution_count": 46,
      "outputs": [
        {
          "output_type": "execute_result",
          "data": {
            "text/plain": [
              "tensor([[ 0.2781,  0.4918],\n",
              "        [ 0.2781,  0.4918],\n",
              "        [ 0.2781,  0.4918],\n",
              "        [-0.1015,  1.2391],\n",
              "        [-0.2211, -0.7242]])"
            ]
          },
          "metadata": {},
          "execution_count": 46
        }
      ]
    },
    {
      "cell_type": "code",
      "source": [
        "torch.cat([emb[:5,0],emb[:5,1],emb[:5,2]],dim=1)"
      ],
      "metadata": {
        "colab": {
          "base_uri": "https://localhost:8080/"
        },
        "id": "0somG1eyCrzT",
        "outputId": "20d5dcbe-b7bc-4869-dad3-3864e3e4657a"
      },
      "execution_count": 47,
      "outputs": [
        {
          "output_type": "execute_result",
          "data": {
            "text/plain": [
              "tensor([[ 0.2781,  0.4918,  0.2781,  0.4918,  0.2781,  0.4918],\n",
              "        [ 0.2781,  0.4918,  0.2781,  0.4918, -0.1015,  1.2391],\n",
              "        [ 0.2781,  0.4918, -0.1015,  1.2391, -0.2211, -0.7242],\n",
              "        [-0.1015,  1.2391, -0.2211, -0.7242, -0.2211, -0.7242],\n",
              "        [-0.2211, -0.7242, -0.2211, -0.7242,  1.3179,  1.4982]])"
            ]
          },
          "metadata": {},
          "execution_count": 47
        }
      ]
    },
    {
      "cell_type": "code",
      "source": [
        "torch.cat([emb[:,0],emb[:,1],emb[:,2]],dim=1).shape"
      ],
      "metadata": {
        "colab": {
          "base_uri": "https://localhost:8080/"
        },
        "id": "_OX7OKVWDw_i",
        "outputId": "39773d89-4ead-460e-c58d-383a9e3bb5ae"
      },
      "execution_count": 49,
      "outputs": [
        {
          "output_type": "execute_result",
          "data": {
            "text/plain": [
              "torch.Size([228146, 6])"
            ]
          },
          "metadata": {},
          "execution_count": 49
        }
      ]
    },
    {
      "cell_type": "code",
      "source": [
        "torch.cat(torch.unbind(emb,1),1).shape"
      ],
      "metadata": {
        "colab": {
          "base_uri": "https://localhost:8080/"
        },
        "id": "_rNuF2TuFY7R",
        "outputId": "79ae297d-27e0-4419-cbda-2703e761dde4"
      },
      "execution_count": 51,
      "outputs": [
        {
          "output_type": "execute_result",
          "data": {
            "text/plain": [
              "torch.Size([228146, 6])"
            ]
          },
          "metadata": {},
          "execution_count": 51
        }
      ]
    },
    {
      "cell_type": "markdown",
      "source": [
        "torch view and storage"
      ],
      "metadata": {
        "id": "2leDu4ueHL0w"
      }
    },
    {
      "cell_type": "code",
      "source": [
        "a = torch.arange(12)\n",
        "a"
      ],
      "metadata": {
        "colab": {
          "base_uri": "https://localhost:8080/"
        },
        "id": "nwmkaGebFo92",
        "outputId": "8ed56841-a67f-49c6-e0c8-b721fed37a78"
      },
      "execution_count": 53,
      "outputs": [
        {
          "output_type": "execute_result",
          "data": {
            "text/plain": [
              "tensor([ 0,  1,  2,  3,  4,  5,  6,  7,  8,  9, 10, 11])"
            ]
          },
          "metadata": {},
          "execution_count": 53
        }
      ]
    },
    {
      "cell_type": "code",
      "source": [
        "a.storage()"
      ],
      "metadata": {
        "colab": {
          "base_uri": "https://localhost:8080/"
        },
        "id": "Ud5XYn0rHU5G",
        "outputId": "275c7c7c-ea70-4028-8e47-3437972cc618"
      },
      "execution_count": 55,
      "outputs": [
        {
          "output_type": "stream",
          "name": "stderr",
          "text": [
            "/tmp/ipython-input-214256462.py:1: UserWarning: TypedStorage is deprecated. It will be removed in the future and UntypedStorage will be the only storage class. This should only matter to you if you are using storages directly.  To access UntypedStorage directly, use tensor.untyped_storage() instead of tensor.storage()\n",
            "  a.storage()\n"
          ]
        },
        {
          "output_type": "execute_result",
          "data": {
            "text/plain": [
              " 0\n",
              " 1\n",
              " 2\n",
              " 3\n",
              " 4\n",
              " 5\n",
              " 6\n",
              " 7\n",
              " 8\n",
              " 9\n",
              " 10\n",
              " 11\n",
              "[torch.storage.TypedStorage(dtype=torch.int64, device=cpu) of size 12]"
            ]
          },
          "metadata": {},
          "execution_count": 55
        }
      ]
    },
    {
      "cell_type": "code",
      "source": [
        "a.view(3,4)"
      ],
      "metadata": {
        "colab": {
          "base_uri": "https://localhost:8080/"
        },
        "id": "s3mcF0X8HWi4",
        "outputId": "dc890e60-1c11-418d-fb1f-d78594a028f6"
      },
      "execution_count": 56,
      "outputs": [
        {
          "output_type": "execute_result",
          "data": {
            "text/plain": [
              "tensor([[ 0,  1,  2,  3],\n",
              "        [ 4,  5,  6,  7],\n",
              "        [ 8,  9, 10, 11]])"
            ]
          },
          "metadata": {},
          "execution_count": 56
        }
      ]
    },
    {
      "cell_type": "code",
      "source": [
        "#only view has been changed memory allocation of a is same as before\n",
        "\n",
        "# https://blog.ezyang.com/2019/05/pytorch-internals/\n",
        "\n",
        "a.view(3,4).storage()"
      ],
      "metadata": {
        "colab": {
          "base_uri": "https://localhost:8080/"
        },
        "id": "7ydimfovHbTS",
        "outputId": "b4daa585-3922-4ccf-ea61-85c590e1574d"
      },
      "execution_count": 60,
      "outputs": [
        {
          "output_type": "execute_result",
          "data": {
            "text/plain": [
              " 0\n",
              " 1\n",
              " 2\n",
              " 3\n",
              " 4\n",
              " 5\n",
              " 6\n",
              " 7\n",
              " 8\n",
              " 9\n",
              " 10\n",
              " 11\n",
              "[torch.storage.TypedStorage(dtype=torch.int64, device=cpu) of size 12]"
            ]
          },
          "metadata": {},
          "execution_count": 60
        }
      ]
    },
    {
      "cell_type": "markdown",
      "source": [
        "### Implementing hidden layer"
      ],
      "metadata": {
        "id": "3dyBjxy3Ibuq"
      }
    },
    {
      "cell_type": "code",
      "source": [
        "W1 = torch.randn((6,100))\n",
        "b1 = torch.randn(100)"
      ],
      "metadata": {
        "id": "4OKJJloHIpKH"
      },
      "execution_count": 61,
      "outputs": []
    },
    {
      "cell_type": "code",
      "source": [
        "h = torch.tanh(emb.view(-1,6) @ W1 + b1)"
      ],
      "metadata": {
        "id": "rq2HJ0ijHd0j"
      },
      "execution_count": 62,
      "outputs": []
    },
    {
      "cell_type": "code",
      "source": [
        "h.shape , h"
      ],
      "metadata": {
        "colab": {
          "base_uri": "https://localhost:8080/"
        },
        "id": "E_zxra8SI1Fl",
        "outputId": "9540a5fe-d7a7-4f8e-a06f-9935856b46f8"
      },
      "execution_count": 64,
      "outputs": [
        {
          "output_type": "execute_result",
          "data": {
            "text/plain": [
              "(torch.Size([228146, 100]),\n",
              " tensor([[ 0.4236,  0.9887, -0.9415,  ..., -0.3292,  0.1220, -0.2913],\n",
              "         [ 0.9232,  0.9943, -0.9591,  ...,  0.1207, -0.5562, -0.5327],\n",
              "         [ 0.5709,  0.9917, -0.3924,  ..., -0.9487, -0.8677,  0.9805],\n",
              "         ...,\n",
              "         [-0.9970,  0.7361, -0.9998,  ...,  0.3016,  0.9979, -0.9869],\n",
              "         [ 0.5216, -0.3370, -0.9771,  ..., -0.9691,  0.9597, -0.9063],\n",
              "         [-0.9970,  0.9992, -0.9784,  ...,  0.9370,  0.9736, -0.9938]]))"
            ]
          },
          "metadata": {},
          "execution_count": 64
        }
      ]
    },
    {
      "cell_type": "code",
      "source": [],
      "metadata": {
        "id": "-2Qqzl2uI2R7"
      },
      "execution_count": null,
      "outputs": []
    }
  ]
}