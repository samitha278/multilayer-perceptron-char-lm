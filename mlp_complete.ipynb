{
  "nbformat": 4,
  "nbformat_minor": 0,
  "metadata": {
    "colab": {
      "provenance": [],
      "authorship_tag": "ABX9TyPRuyUTIePytJ7RDoYWcOyC",
      "include_colab_link": true
    },
    "kernelspec": {
      "name": "python3",
      "display_name": "Python 3"
    },
    "language_info": {
      "name": "python"
    }
  },
  "cells": [
    {
      "cell_type": "markdown",
      "metadata": {
        "id": "view-in-github",
        "colab_type": "text"
      },
      "source": [
        "<a href=\"https://colab.research.google.com/github/samitha278/multilayer-perceptron-char-lm/blob/main/mlp_complete.ipynb\" target=\"_parent\"><img src=\"https://colab.research.google.com/assets/colab-badge.svg\" alt=\"Open In Colab\"/></a>"
      ]
    },
    {
      "cell_type": "code",
      "execution_count": 1,
      "metadata": {
        "id": "DzUZzLbjDDYS"
      },
      "outputs": [],
      "source": [
        "import torch\n",
        "import matplotlib.pyplot as plt\n"
      ]
    },
    {
      "cell_type": "code",
      "source": [
        "class Linear:\n",
        "\n",
        "\n",
        "  def __init__(self,shape,b=True,g = torch.Generator().manual_seed(278)):\n",
        "    m,n = shape\n",
        "    self.W = torch.randn((m,n), generator=g)\n",
        "    self.b = torch.randn(n,generator=g)   if b else None\n",
        "\n",
        "\n",
        "  def __call__(self,x):\n",
        "    return x @ self.W + self.b\n",
        "\n",
        "\n",
        "\n",
        "\n",
        "class BatchNorm:\n",
        "\n",
        "\n",
        "  def __init__(self,shape,g = torch.Generator().manual_seed(278)):\n",
        "\n",
        "    m,n = shape\n",
        "    self.r = torch.ones(n, dtype=torch.float32)\n",
        "    self.b = torch.zeros(n, dtype=torch.float32)\n",
        "\n",
        "\n",
        "\n",
        "\n",
        "  def __call__(self,data):\n",
        "\n",
        "    mu = data.mean(0,keepdim=True)\n",
        "    std = data.std(0,keepdim=True)\n",
        "\n",
        "    return  self.r * ((data - mu)/std) + self.b\n",
        "\n",
        "\n"
      ],
      "metadata": {
        "id": "3IOdzxmtD1qD"
      },
      "execution_count": 33,
      "outputs": []
    },
    {
      "cell_type": "code",
      "source": [
        "x = torch.randn((32,30))"
      ],
      "metadata": {
        "id": "nBhO-kn_Hiu_"
      },
      "execution_count": 26,
      "outputs": []
    },
    {
      "cell_type": "code",
      "source": [
        "shape = (30,100)\n",
        "l = Linear(shape)"
      ],
      "metadata": {
        "id": "xjvh2dZ1HTo4"
      },
      "execution_count": 27,
      "outputs": []
    },
    {
      "cell_type": "code",
      "source": [
        "hprebn = l(x)"
      ],
      "metadata": {
        "id": "0gdvPc64HUoq"
      },
      "execution_count": 28,
      "outputs": []
    },
    {
      "cell_type": "code",
      "source": [
        "hprebn.shape"
      ],
      "metadata": {
        "colab": {
          "base_uri": "https://localhost:8080/"
        },
        "id": "scJ8c1b6IEp7",
        "outputId": "4a240d30-8878-4f0f-af1d-eaac104b522d"
      },
      "execution_count": 29,
      "outputs": [
        {
          "output_type": "execute_result",
          "data": {
            "text/plain": [
              "torch.Size([32, 100])"
            ]
          },
          "metadata": {},
          "execution_count": 29
        }
      ]
    },
    {
      "cell_type": "code",
      "source": [
        "hprebn"
      ],
      "metadata": {
        "colab": {
          "base_uri": "https://localhost:8080/"
        },
        "id": "-uNT0zGFOs2G",
        "outputId": "3e07c78d-9b93-4738-f760-15799727b04d"
      },
      "execution_count": 36,
      "outputs": [
        {
          "output_type": "execute_result",
          "data": {
            "text/plain": [
              "tensor([[-10.3108, -17.4974,   2.5132,  ...,  12.0520,   9.5255,  -7.7473],\n",
              "        [  2.1010, -12.5583,  -2.1566,  ...,   2.0761,   1.4576,  -4.2146],\n",
              "        [  1.8986,  -2.7573,   0.0589,  ...,  -7.7869, -12.2839,  11.3905],\n",
              "        ...,\n",
              "        [ -2.0465,  -4.9911,  -1.8662,  ...,  -1.8463,  10.0125,  -7.9212],\n",
              "        [ -7.9348,   1.6839,   5.7899,  ...,   6.1142,   6.8228,   2.3563],\n",
              "        [ -1.2420,  -2.1126,  -5.5541,  ...,  -4.6101,   8.4320,  -1.8731]])"
            ]
          },
          "metadata": {},
          "execution_count": 36
        }
      ]
    },
    {
      "cell_type": "code",
      "source": [
        "bn = BatchNorm(shape)"
      ],
      "metadata": {
        "id": "2Yof_DSrI5eS"
      },
      "execution_count": 34,
      "outputs": []
    },
    {
      "cell_type": "code",
      "source": [
        "hpreact = bn(hprebn)\n",
        "hpreact"
      ],
      "metadata": {
        "colab": {
          "base_uri": "https://localhost:8080/"
        },
        "id": "5vSUo0lkNW2L",
        "outputId": "0b844b21-a0af-4fb7-a323-c85cf924eb37"
      },
      "execution_count": 35,
      "outputs": [
        {
          "output_type": "execute_result",
          "data": {
            "text/plain": [
              "tensor([[-1.5348, -2.3083,  0.5635,  ...,  2.1315,  1.2532, -0.9303],\n",
              "        [ 0.7891, -1.5698, -0.3167,  ...,  0.0805, -0.0147, -0.4787],\n",
              "        [ 0.7512, -0.1043,  0.1009,  ..., -1.9473, -2.1742,  1.5162],\n",
              "        ...,\n",
              "        [ 0.0125, -0.4383, -0.2620,  ..., -0.7259,  1.3297, -0.9526],\n",
              "        [-1.0900,  0.5598,  1.1812,  ...,  0.9107,  0.8285,  0.3613],\n",
              "        [ 0.1631, -0.0078, -0.9571,  ..., -1.2942,  1.0814, -0.1794]])"
            ]
          },
          "metadata": {},
          "execution_count": 35
        }
      ]
    },
    {
      "cell_type": "code",
      "source": [],
      "metadata": {
        "id": "P6SvTOT5OpVT"
      },
      "execution_count": null,
      "outputs": []
    }
  ]
}