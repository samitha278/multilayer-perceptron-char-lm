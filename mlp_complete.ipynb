{
  "nbformat": 4,
  "nbformat_minor": 0,
  "metadata": {
    "colab": {
      "provenance": [],
      "authorship_tag": "ABX9TyO7r7dJSPu3LCeij9rM24Jn",
      "include_colab_link": true
    },
    "kernelspec": {
      "name": "python3",
      "display_name": "Python 3"
    },
    "language_info": {
      "name": "python"
    }
  },
  "cells": [
    {
      "cell_type": "markdown",
      "metadata": {
        "id": "view-in-github",
        "colab_type": "text"
      },
      "source": [
        "<a href=\"https://colab.research.google.com/github/samitha278/multilayer-perceptron-char-lm/blob/main/mlp_complete.ipynb\" target=\"_parent\"><img src=\"https://colab.research.google.com/assets/colab-badge.svg\" alt=\"Open In Colab\"/></a>"
      ]
    },
    {
      "cell_type": "code",
      "execution_count": 42,
      "metadata": {
        "id": "DzUZzLbjDDYS"
      },
      "outputs": [],
      "source": [
        "import torch\n",
        "import torch.nn.functional as F\n",
        "import matplotlib.pyplot as plt\n",
        "import gdown\n",
        "import random"
      ]
    },
    {
      "cell_type": "code",
      "source": [
        "file_id = \"1aLPTEpFPciZPYvBORlfOBSOohkwYyrqV\"\n",
        "url = f\"https://drive.google.com/uc?id={file_id}\"\n",
        "\n",
        "output = \"names.txt\"\n",
        "gdown.download(url, output, quiet=False)"
      ],
      "metadata": {
        "colab": {
          "base_uri": "https://localhost:8080/",
          "height": 105
        },
        "id": "zbmNgRgVocnC",
        "outputId": "fcb9cbab-f190-4feb-87d1-de8748135e8a"
      },
      "execution_count": 7,
      "outputs": [
        {
          "output_type": "stream",
          "name": "stderr",
          "text": [
            "Downloading...\n",
            "From: https://drive.google.com/uc?id=1aLPTEpFPciZPYvBORlfOBSOohkwYyrqV\n",
            "To: /content/names.txt\n",
            "100%|██████████| 228k/228k [00:00<00:00, 80.5MB/s]\n"
          ]
        },
        {
          "output_type": "execute_result",
          "data": {
            "text/plain": [
              "'names.txt'"
            ],
            "application/vnd.google.colaboratory.intrinsic+json": {
              "type": "string"
            }
          },
          "metadata": {},
          "execution_count": 7
        }
      ]
    },
    {
      "cell_type": "code",
      "source": [
        "words = open('names.txt','r').read().splitlines()\n",
        "len(words)\n",
        "\n",
        "\n",
        "stoi = {s:i+1 for i,s, in enumerate(sorted(list(set(''.join(words)))))}\n",
        "stoi['.'] = 0\n",
        "itos = {i:s for s,i in stoi.items()}\n",
        "vocab_size = len(itos)\n",
        "\n",
        "print(vocab_size)\n",
        "print(itos)\n"
      ],
      "metadata": {
        "colab": {
          "base_uri": "https://localhost:8080/"
        },
        "id": "PIThM3wborLo",
        "outputId": "6dc6d340-cca5-41ee-82c1-9244cc4da9e6"
      },
      "execution_count": 12,
      "outputs": [
        {
          "output_type": "stream",
          "name": "stdout",
          "text": [
            "27\n",
            "{1: 'a', 2: 'b', 3: 'c', 4: 'd', 5: 'e', 6: 'f', 7: 'g', 8: 'h', 9: 'i', 10: 'j', 11: 'k', 12: 'l', 13: 'm', 14: 'n', 15: 'o', 16: 'p', 17: 'q', 18: 'r', 19: 's', 20: 't', 21: 'u', 22: 'v', 23: 'w', 24: 'x', 25: 'y', 26: 'z', 0: '.'}\n"
          ]
        }
      ]
    },
    {
      "cell_type": "code",
      "source": [
        "block_size = 3\n",
        "\n",
        "def build_dataset(data):\n",
        "\n",
        "  x,y = [],[]\n",
        "  for w in data:\n",
        "    context_window = [0]*block_size\n",
        "    for ch in w+'.':\n",
        "      ix = stoi[ch]\n",
        "      x.append(context_window)\n",
        "      y.append(ix)\n",
        "      context_window = context_window[1:] + [ix]\n",
        "  x = torch.tensor(x)\n",
        "  y = torch.tensor(y)\n",
        "\n",
        "  return x,y\n",
        "\n",
        "\n",
        "random.seed(278)\n",
        "random.shuffle(words)\n",
        "n1 = int(0.8*len(words))\n",
        "n2 = int(0.9*len(words))\n",
        "\n",
        "Xtr,  Ytr  = build_dataset(words[:n1])     # 80%\n",
        "Xdev, Ydev = build_dataset(words[n1:n2])   # 10%\n",
        "Xte,  Yte  = build_dataset(words[n2:])     # 10%"
      ],
      "metadata": {
        "id": "lImy7OatpkPz"
      },
      "execution_count": 14,
      "outputs": []
    },
    {
      "cell_type": "code",
      "source": [
        "class Linear:\n",
        "\n",
        "  def __init__(self,shape,bias=True,g = torch.Generator().manual_seed(278)):\n",
        "    m,n = shape\n",
        "    self.bias = bias\n",
        "    self.W = torch.randn((m,n), generator=g) / m**0.5\n",
        "    self.b = torch.randn(n,generator=g) if bias else None\n",
        "\n",
        "\n",
        "  def __call__(self,x):\n",
        "    self.out = x @ self.W\n",
        "    if self.bias:\n",
        "      self.out += self.b\n",
        "\n",
        "    return self.out\n",
        "\n",
        "\n",
        "  def parameters(self):\n",
        "    return [self.W] + [] if self.bias is None else [self.b]\n",
        "\n",
        "\n",
        "\n",
        "\n",
        "\n",
        "class BatchNorm:\n",
        "\n",
        "\n",
        "  def __init__(self,shape,training = True,momentum = 0.1,g = torch.Generator().manual_seed(278)):\n",
        "\n",
        "    m,n = shape\n",
        "    self.gamma = torch.ones(n, dtype=torch.float32)\n",
        "    self.beta = torch.zeros(n, dtype=torch.float32)\n",
        "    self.training = training\n",
        "    self.momentum = momentum\n",
        "    self.mean_running = torch.zeros(n, dtype=torch.float32)\n",
        "    self.var_running = torch.ones(n, dtype=torch.float32)\n",
        "\n",
        "\n",
        "\n",
        "  def __call__(self,data):\n",
        "\n",
        "    if self.training:\n",
        "      mu = data.mean(0,keepdim=True)\n",
        "      sigma2 = data.var(0,keepdim=True)\n",
        "\n",
        "      with torch.no_grad():\n",
        "        self.mean_running = (1.0-self.momentum)*self.mean_running + self.momentum*mu\n",
        "        self.var_running = (1.0-self.momentum)*self.var_running + self.momentum*sigma2\n",
        "\n",
        "    else:\n",
        "      mu = self.mean_running\n",
        "      sigma2 = self.var_running\n",
        "\n",
        "    xhat = (data - mu)/torch.sqrt(sigma2+1e-5)\n",
        "    self.out = self.gamma * xhat  + self.beta\n",
        "\n",
        "    return self.out\n",
        "\n",
        "\n",
        "  def parameters(self):\n",
        "    return [self.gamma,self.beta]\n",
        "\n",
        "\n",
        "\n",
        "class Tanh:\n",
        "\n",
        "  def __call__(self,data):\n",
        "    return torch.tanh(data)\n",
        "\n",
        "  def parameters(self):\n",
        "    return []\n",
        "\n",
        "\n",
        "\n",
        "class Embedding:\n",
        "\n",
        "  def __init__(self,shape,out_shape):\n",
        "    self.out_shape = out_shape\n",
        "    self.weight = torch.randn(shape)\n",
        "\n",
        "  def __call__(self,index):\n",
        "    self.out = self.weight[index].view(self.out_shape)\n",
        "    return self.out\n",
        "\n",
        "  def parameters(self):\n",
        "    return [self.weight]\n",
        "\n",
        "\n",
        "class Sequential:\n",
        "\n",
        "  def __init__(self,layers):\n",
        "    self.layers = layers\n",
        "\n",
        "  def __call__(self,data):\n",
        "    x = data\n",
        "    for layer in self.layers:\n",
        "      x = layer(x)\n",
        "\n",
        "    self.out = x\n",
        "    return self.out\n",
        "\n",
        "\n",
        "  def parameters(self):\n",
        "    return [p for layer in self.layers for p in layer.parameters()]\n",
        "\n",
        "\n"
      ],
      "metadata": {
        "id": "3IOdzxmtD1qD"
      },
      "execution_count": 118,
      "outputs": []
    },
    {
      "cell_type": "code",
      "source": [
        "torch.manual_seed(278)"
      ],
      "metadata": {
        "colab": {
          "base_uri": "https://localhost:8080/"
        },
        "id": "n3TTU4V3y7WZ",
        "outputId": "05ed92e6-8e34-4ac3-f1c3-981049080723"
      },
      "execution_count": 106,
      "outputs": [
        {
          "output_type": "execute_result",
          "data": {
            "text/plain": [
              "<torch._C.Generator at 0x7aa284ba0130>"
            ]
          },
          "metadata": {},
          "execution_count": 106
        }
      ]
    },
    {
      "cell_type": "code",
      "source": [
        "vector_dim = 10\n",
        "batch_size = 32\n",
        "n = batch_size\n",
        "n_hidden = 100\n",
        "\n",
        "\n",
        "shape_emb = (vocab_size,vector_dim)\n",
        "shape_hidden = (block_size*vector_dim,n_hidden)\n",
        "shape_out = (n_hidden,vocab_size)\n",
        "\n",
        "\n",
        "model = Sequential([\n",
        "    Embedding(shape_emb,(-1,shape_hidden[0])), Linear(shape_hidden) , BatchNorm(shape_hidden) , Tanh(),\n",
        "    Linear(shape_out)\n",
        "])\n",
        "\n",
        "\n",
        "parameters = model.parameters()\n",
        "\n",
        "print(sum(p.nelement() for p in parameters))\n",
        "\n",
        "\n",
        "for param in parameters:\n",
        "  param.requires_grad = True"
      ],
      "metadata": {
        "colab": {
          "base_uri": "https://localhost:8080/"
        },
        "id": "Mh4xbA7VxuDj",
        "outputId": "10b80306-552a-4b94-eca7-0e14dfc85b97"
      },
      "execution_count": 119,
      "outputs": [
        {
          "output_type": "stream",
          "name": "stdout",
          "text": [
            "597\n"
          ]
        }
      ]
    },
    {
      "cell_type": "code",
      "source": [
        "max_iter = 100000\n",
        "lossi = []\n",
        "\n",
        "\n",
        "for i in range(max_iter):\n",
        "\n",
        "  # minibatch\n",
        "  ix = torch.randint(0,len(words),(32,))\n",
        "  Xb = Xtr[ix]\n",
        "  Yb = Ytr[ix]\n",
        "\n",
        "  #forward pass\n",
        "  logits = model(Xb)\n",
        "  loss = F.cross_entropy(logits,Yb)\n",
        "\n",
        "\n",
        "  #backward\n",
        "  for p in parameters:\n",
        "    p.grad = None\n",
        "\n",
        "  loss.backward()\n",
        "\n",
        "\n",
        "  #update\n",
        "\n",
        "  lr = 0.1 if i < 100000 else 0.01\n",
        "  for p in parameters:\n",
        "    p.data -= lr* p.grad\n",
        "\n",
        "\n",
        "  if i%10000 == 0:\n",
        "    print(f'{i}/{max_iter} {loss}')\n",
        "  lossi.append(loss)"
      ],
      "metadata": {
        "colab": {
          "base_uri": "https://localhost:8080/"
        },
        "id": "Z2q7y9ZMxt_-",
        "outputId": "48f7d1ca-e2a5-42ef-efdb-b0acf8aca2d2"
      },
      "execution_count": 120,
      "outputs": [
        {
          "output_type": "stream",
          "name": "stdout",
          "text": [
            "0/100000 4.579021453857422\n",
            "10000/100000 2.794410228729248\n",
            "20000/100000 2.69537615776062\n",
            "30000/100000 2.3633477687835693\n",
            "40000/100000 2.5357558727264404\n",
            "50000/100000 2.362725257873535\n",
            "60000/100000 2.385233163833618\n",
            "70000/100000 2.319124937057495\n",
            "80000/100000 2.056785821914673\n",
            "90000/100000 2.8071696758270264\n"
          ]
        }
      ]
    },
    {
      "cell_type": "code",
      "source": [
        "plt.plot(torch.tensor(lossi).view(-1,1000).mean(1))"
      ],
      "metadata": {
        "colab": {
          "base_uri": "https://localhost:8080/",
          "height": 447
        },
        "id": "_bwMF5npxt9m",
        "outputId": "b8f345de-ca05-4ca0-f688-4fc32c3d56ce"
      },
      "execution_count": 121,
      "outputs": [
        {
          "output_type": "execute_result",
          "data": {
            "text/plain": [
              "[<matplotlib.lines.Line2D at 0x7aa184855c70>]"
            ]
          },
          "metadata": {},
          "execution_count": 121
        },
        {
          "output_type": "display_data",
          "data": {
            "text/plain": [
              "<Figure size 640x480 with 1 Axes>"
            ],
            "image/png": "[encoded data removed]"
          },
          "metadata": {}
        }
      ]
    },
    {
      "cell_type": "code",
      "source": [
        "for layer in model.layers:\n",
        "  layer.training = False\n",
        "\n",
        "@torch.no_grad()\n",
        "\n",
        "def run(x,y):\n",
        "  logits = model(x)\n",
        "  loss = F.cross_entropy(logits,y)\n",
        "  return loss.item()\n",
        "\n",
        "\n",
        "print(f'Train : {run(Xtr,Ytr)}')\n",
        "print(f'Val : {run(Xdev,Ydev)}')\n",
        "\n"
      ],
      "metadata": {
        "colab": {
          "base_uri": "https://localhost:8080/"
        },
        "id": "3iVGa-hoxt7L",
        "outputId": "67d9d1c8-5290-48ea-a880-eecec286648c"
      },
      "execution_count": 122,
      "outputs": [
        {
          "output_type": "stream",
          "name": "stdout",
          "text": [
            "Train : 2.4538333415985107\n",
            "Val : 2.4535791873931885\n"
          ]
        }
      ]
    },
    {
      "cell_type": "markdown",
      "source": [
        "### Sample from model"
      ],
      "metadata": {
        "id": "10JdWHn3n0_n"
      }
    },
    {
      "cell_type": "code",
      "source": [
        "for _ in range(50):\n",
        "\n",
        "  context_window = [0]*3\n",
        "  out = []\n",
        "\n",
        "  while True:\n",
        "    logits = model(context_window)\n",
        "    probs = F.softmax(logits)\n",
        "\n",
        "    ix = torch.multinomial(probs,1).item()\n",
        "\n",
        "    context_window = context_window[1:] + [ix]\n",
        "    out.append(itos[ix])\n",
        "\n",
        "    if ix == 0:\n",
        "      break\n",
        "\n",
        "\n",
        "  print(''.join(out))\n"
      ],
      "metadata": {
        "colab": {
          "base_uri": "https://localhost:8080/"
        },
        "id": "YNO47FmRxt4q",
        "outputId": "b0b34f4a-a7c8-44c6-b7f3-b6969f493d9f"
      },
      "execution_count": 125,
      "outputs": [
        {
          "output_type": "stream",
          "name": "stdout",
          "text": [
            "kranty.\n",
            "rihla.\n",
            "zeaoyarlan.\n",
            "gtlieka.\n",
            "koznaclsipdva.\n",
            "nakidon.\n",
            "mir.\n",
            "nyan.\n",
            "lafn.\n",
            "aceg.\n",
            "rauhla.\n",
            "hta.\n",
            "kra.\n",
            "leunc.\n",
            "h.\n",
            "mavittsetgalii.\n",
            "khiysjileah.\n",
            "cim.\n",
            "vebnsnstna.\n",
            "tyzi.\n",
            "lysn.\n",
            "adiae.\n",
            "an.\n",
            "hpahna.\n",
            "siha.\n",
            "esry.\n",
            ".\n",
            "vcrienha.\n",
            "jayber.\n",
            "atua.\n",
            "sraa.\n",
            "pratezaalaliu.\n",
            "go.\n",
            "cdaeenrdsae.\n",
            "iah.\n",
            "hazzoy.\n",
            "drsjah.\n",
            "kander.\n",
            "caihteensa.\n",
            "kushink.\n",
            "ano.\n",
            "haviniania.\n",
            "bih.\n",
            "poaritla.\n",
            "cea.\n",
            "maylentshonaon.\n",
            "vihe.\n",
            "nsye.\n",
            "jaribadi.\n",
            "kuyysiv.\n"
          ]
        },
        {
          "output_type": "stream",
          "name": "stderr",
          "text": [
            "/tmp/ipython-input-3347058894.py:8: UserWarning: Implicit dimension choice for softmax has been deprecated. Change the call to include dim=X as an argument.\n",
            "  probs = F.softmax(logits)\n"
          ]
        }
      ]
    },
    {
      "cell_type": "code",
      "source": [],
      "metadata": {
        "id": "0TXLVJndxt2F"
      },
      "execution_count": null,
      "outputs": []
    },
    {
      "cell_type": "code",
      "source": [],
      "metadata": {
        "id": "HyhqQcw9xtzh"
      },
      "execution_count": null,
      "outputs": []
    },
    {
      "cell_type": "code",
      "source": [],
      "metadata": {
        "id": "KBE4cn8ExtxE"
      },
      "execution_count": null,
      "outputs": []
    }
  ]
}