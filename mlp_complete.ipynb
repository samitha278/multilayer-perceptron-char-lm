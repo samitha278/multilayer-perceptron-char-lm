{
  "nbformat": 4,
  "nbformat_minor": 0,
  "metadata": {
    "colab": {
      "provenance": [],
      "authorship_tag": "ABX9TyNtYL0373OHyTL8WrLmkh1C",
      "include_colab_link": true
    },
    "kernelspec": {
      "name": "python3",
      "display_name": "Python 3"
    },
    "language_info": {
      "name": "python"
    }
  },
  "cells": [
    {
      "cell_type": "markdown",
      "metadata": {
        "id": "view-in-github",
        "colab_type": "text"
      },
      "source": [
        "<a href=\"https://colab.research.google.com/github/samitha278/multilayer-perceptron-char-lm/blob/main/mlp_complete.ipynb\" target=\"_parent\"><img src=\"https://colab.research.google.com/assets/colab-badge.svg\" alt=\"Open In Colab\"/></a>"
      ]
    },
    {
      "cell_type": "code",
      "execution_count": 42,
      "metadata": {
        "id": "DzUZzLbjDDYS"
      },
      "outputs": [],
      "source": [
        "import torch\n",
        "import torch.nn.functional as F\n",
        "import matplotlib.pyplot as plt\n",
        "import gdown\n",
        "import random"
      ]
    },
    {
      "cell_type": "code",
      "source": [
        "file_id = \"1aLPTEpFPciZPYvBORlfOBSOohkwYyrqV\"\n",
        "url = f\"https://drive.google.com/uc?id={file_id}\"\n",
        "\n",
        "output = \"names.txt\"\n",
        "gdown.download(url, output, quiet=False)"
      ],
      "metadata": {
        "colab": {
          "base_uri": "https://localhost:8080/",
          "height": 105
        },
        "id": "zbmNgRgVocnC",
        "outputId": "fcb9cbab-f190-4feb-87d1-de8748135e8a"
      },
      "execution_count": 7,
      "outputs": [
        {
          "output_type": "stream",
          "name": "stderr",
          "text": [
            "Downloading...\n",
            "From: https://drive.google.com/uc?id=1aLPTEpFPciZPYvBORlfOBSOohkwYyrqV\n",
            "To: /content/names.txt\n",
            "100%|██████████| 228k/228k [00:00<00:00, 80.5MB/s]\n"
          ]
        },
        {
          "output_type": "execute_result",
          "data": {
            "text/plain": [
              "'names.txt'"
            ],
            "application/vnd.google.colaboratory.intrinsic+json": {
              "type": "string"
            }
          },
          "metadata": {},
          "execution_count": 7
        }
      ]
    },
    {
      "cell_type": "code",
      "source": [
        "words = open('names.txt','r').read().splitlines()\n",
        "len(words)\n",
        "\n",
        "\n",
        "stoi = {s:i+1 for i,s, in enumerate(sorted(list(set(''.join(words)))))}\n",
        "stoi['.'] = 0\n",
        "itos = {i:s for s,i in stoi.items()}\n",
        "vocab_size = len(itos)\n",
        "\n",
        "print(vocab_size)\n",
        "print(itos)\n"
      ],
      "metadata": {
        "colab": {
          "base_uri": "https://localhost:8080/"
        },
        "id": "PIThM3wborLo",
        "outputId": "6dc6d340-cca5-41ee-82c1-9244cc4da9e6"
      },
      "execution_count": 12,
      "outputs": [
        {
          "output_type": "stream",
          "name": "stdout",
          "text": [
            "27\n",
            "{1: 'a', 2: 'b', 3: 'c', 4: 'd', 5: 'e', 6: 'f', 7: 'g', 8: 'h', 9: 'i', 10: 'j', 11: 'k', 12: 'l', 13: 'm', 14: 'n', 15: 'o', 16: 'p', 17: 'q', 18: 'r', 19: 's', 20: 't', 21: 'u', 22: 'v', 23: 'w', 24: 'x', 25: 'y', 26: 'z', 0: '.'}\n"
          ]
        }
      ]
    },
    {
      "cell_type": "code",
      "source": [
        "block_size = 3\n",
        "\n",
        "def build_dataset(data):\n",
        "\n",
        "  x,y = [],[]\n",
        "  for w in data:\n",
        "    context_window = [0]*block_size\n",
        "    for ch in w+'.':\n",
        "      ix = stoi[ch]\n",
        "      x.append(context_window)\n",
        "      y.append(ix)\n",
        "      context_window = context_window[1:] + [ix]\n",
        "  x = torch.tensor(x)\n",
        "  y = torch.tensor(y)\n",
        "\n",
        "  return x,y\n",
        "\n",
        "\n",
        "random.seed(278)\n",
        "random.shuffle(words)\n",
        "n1 = int(0.8*len(words))\n",
        "n2 = int(0.9*len(words))\n",
        "\n",
        "Xtr,  Ytr  = build_dataset(words[:n1])     # 80%\n",
        "Xdev, Ydev = build_dataset(words[n1:n2])   # 10%\n",
        "Xte,  Yte  = build_dataset(words[n2:])     # 10%"
      ],
      "metadata": {
        "id": "lImy7OatpkPz"
      },
      "execution_count": 14,
      "outputs": []
    },
    {
      "cell_type": "code",
      "source": [
        "class Linear:\n",
        "\n",
        "  def __init__(self,shape,bias=True,g = torch.Generator().manual_seed(278)):\n",
        "    m,n = shape\n",
        "    self.bias = bias\n",
        "    self.W = torch.randn((m,n), generator=g) / m**0.5\n",
        "    self.b = torch.randn(n,generator=g) if bias else None\n",
        "\n",
        "\n",
        "  def __call__(self,x):\n",
        "    self.out = x @ self.W\n",
        "    if self.bias:\n",
        "      self.out += self.b\n",
        "\n",
        "    return self.out\n",
        "\n",
        "\n",
        "  def parameters(self):\n",
        "    return [self.W] + [] if self.bias is None else [self.b]\n",
        "\n",
        "\n",
        "\n",
        "\n",
        "\n",
        "class BatchNorm:\n",
        "\n",
        "\n",
        "  def __init__(self,shape,training = True,momentum = 0.1,g = torch.Generator().manual_seed(278)):\n",
        "\n",
        "    m,n = shape\n",
        "    self.gamma = torch.ones(n, dtype=torch.float32)\n",
        "    self.beta = torch.zeros(n, dtype=torch.float32)\n",
        "    self.training = training\n",
        "    self.momentum = momentum\n",
        "    self.mean_running = torch.zeros(n, dtype=torch.float32)\n",
        "    self.var_running = torch.ones(n, dtype=torch.float32)\n",
        "\n",
        "\n",
        "\n",
        "  def __call__(self,data):\n",
        "\n",
        "    if self.training:\n",
        "      mu = data.mean(0,keepdim=True)\n",
        "      sigma2 = data.var(0,keepdim=True)\n",
        "\n",
        "      with torch.no_grad():\n",
        "        self.mean_running = (1.0-self.momentum)*self.mean_running + self.momentum*mu\n",
        "        self.var_running = (1.0-self.momentum)*self.var_running + self.momentum*sigma2\n",
        "\n",
        "    else:\n",
        "      mu = self.mean_running\n",
        "      sigma2 = self.var_running\n",
        "\n",
        "    xhat = (data - mu)/torch.sqrt(sigma2+1e-5)\n",
        "    self.out = self.gamma * xhat  + self.beta\n",
        "\n",
        "    return self.out\n",
        "\n",
        "\n",
        "  def parameters(self):\n",
        "    return [self.gamma,self.beta]\n",
        "\n",
        "\n",
        "\n",
        "class Tanh:\n",
        "\n",
        "  def __call__(self,data):\n",
        "    return torch.tanh(data)\n",
        "\n",
        "  def parameters(self):\n",
        "    return []\n",
        "\n",
        "\n",
        "\n",
        "\n",
        "\n"
      ],
      "metadata": {
        "id": "3IOdzxmtD1qD"
      },
      "execution_count": 47,
      "outputs": []
    },
    {
      "cell_type": "code",
      "source": [
        "torch.manual_seed(278)"
      ],
      "metadata": {
        "colab": {
          "base_uri": "https://localhost:8080/"
        },
        "id": "n3TTU4V3y7WZ",
        "outputId": "a149174b-5a1a-4d82-8da1-9efef5aa20cd"
      },
      "execution_count": 32,
      "outputs": [
        {
          "output_type": "execute_result",
          "data": {
            "text/plain": [
              "<torch._C.Generator at 0x7aa284ba0130>"
            ]
          },
          "metadata": {},
          "execution_count": 32
        }
      ]
    },
    {
      "cell_type": "code",
      "source": [
        "vector_dim = 10\n",
        "C = torch.randn((vocab_size,vector_dim))"
      ],
      "metadata": {
        "id": "NwkGcG3byqhR"
      },
      "execution_count": 33,
      "outputs": []
    },
    {
      "cell_type": "code",
      "source": [
        "batch_size = 32\n",
        "n = batch_size\n",
        "\n",
        "n_hidden = 100\n",
        "\n",
        "shape_hidden = (block_size*vector_dim,n_hidden)\n",
        "shape_out = (n_hidden,vocab_size)\n",
        "\n",
        "\n",
        "layers = [\n",
        "    Linear(shape_hidden) , BatchNorm(shape_hidden) , Tanh(),\n",
        "    Linear(shape_out)\n",
        "]"
      ],
      "metadata": {
        "id": "Mh4xbA7VxuDj"
      },
      "execution_count": 48,
      "outputs": []
    },
    {
      "cell_type": "code",
      "source": [
        "# forward pass\n",
        "lossi = []\n",
        "max_iter = 10000\n",
        "\n",
        "\n",
        "for i in range(max_iter):\n",
        "  ix = torch.randint(0,len(words),(32,))\n",
        "  Xb = Xtr[ix]\n",
        "  Yb = Ytr[ix]\n",
        "\n",
        "  emb = C[Xb]\n",
        "\n",
        "  x = emb.view(batch_size,-1)\n",
        "  for layer in layers:\n",
        "    x = layer(x)\n",
        "\n",
        "  logits = x\n",
        "\n",
        "  loss = F.cross_entropy(logits,Yb)\n",
        "  if i%1000 == 0:\n",
        "    print(f'{i}/{max_iter} {loss}')\n",
        "  lossi.append(loss)"
      ],
      "metadata": {
        "colab": {
          "base_uri": "https://localhost:8080/"
        },
        "id": "Z2q7y9ZMxt_-",
        "outputId": "11f119a3-e77a-4382-88a5-559c5dee9f32"
      },
      "execution_count": 54,
      "outputs": [
        {
          "output_type": "stream",
          "name": "stdout",
          "text": [
            "0/10000 3.8931925296783447\n",
            "1000/10000 3.9928548336029053\n",
            "2000/10000 3.9281625747680664\n",
            "3000/10000 3.9657161235809326\n",
            "4000/10000 4.123430252075195\n",
            "5000/10000 4.518220901489258\n",
            "6000/10000 4.134937286376953\n",
            "7000/10000 4.174251079559326\n",
            "8000/10000 3.9820048809051514\n",
            "9000/10000 4.026525974273682\n"
          ]
        }
      ]
    },
    {
      "cell_type": "code",
      "source": [
        "plt.plot(lossi)"
      ],
      "metadata": {
        "colab": {
          "base_uri": "https://localhost:8080/",
          "height": 447
        },
        "id": "_bwMF5npxt9m",
        "outputId": "4b2c1264-a87a-4f1c-e76f-53936136d936"
      },
      "execution_count": 55,
      "outputs": [
        {
          "output_type": "execute_result",
          "data": {
            "text/plain": [
              "[<matplotlib.lines.Line2D at 0x7aa186b26e70>]"
            ]
          },
          "metadata": {},
          "execution_count": 55
        },
        {
          "output_type": "display_data",
          "data": {
            "text/plain": [
              "<Figure size 640x480 with 1 Axes>"
            ],
            "image/png": "[encoded data removed]"
          },
          "metadata": {}
        }
      ]
    },
    {
      "cell_type": "code",
      "source": [],
      "metadata": {
        "id": "3iVGa-hoxt7L"
      },
      "execution_count": null,
      "outputs": []
    },
    {
      "cell_type": "code",
      "source": [],
      "metadata": {
        "id": "YNO47FmRxt4q"
      },
      "execution_count": null,
      "outputs": []
    },
    {
      "cell_type": "code",
      "source": [],
      "metadata": {
        "id": "0TXLVJndxt2F"
      },
      "execution_count": null,
      "outputs": []
    },
    {
      "cell_type": "code",
      "source": [],
      "metadata": {
        "id": "HyhqQcw9xtzh"
      },
      "execution_count": null,
      "outputs": []
    },
    {
      "cell_type": "code",
      "source": [],
      "metadata": {
        "id": "KBE4cn8ExtxE"
      },
      "execution_count": null,
      "outputs": []
    }
  ]
}